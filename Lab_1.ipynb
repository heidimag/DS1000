{
  "cells": [
    {
      "cell_type": "markdown",
      "metadata": {
        "id": "view-in-github",
        "colab_type": "text"
      },
      "source": [
        "<a href=\"https://colab.research.google.com/github/heidimag/DS1000/blob/main/Lab_1.ipynb\" target=\"_parent\"><img src=\"https://colab.research.google.com/assets/colab-badge.svg\" alt=\"Open In Colab\"/></a>"
      ]
    },
    {
      "cell_type": "markdown",
      "id": "silver-hayes",
      "metadata": {
        "id": "silver-hayes"
      },
      "source": [
        "# Lab 1"
      ]
    },
    {
      "cell_type": "markdown",
      "id": "latter-poker",
      "metadata": {
        "id": "latter-poker"
      },
      "source": [
        "Jupyter Notebook is an open source web application that you can use to create and share documents that contain live code, equations, visualizations, and text. In this lab we provide an introduction to Python.\n",
        "\n",
        "Turn to this link for more details (or simply \"Help\" tab):\n",
        "https://nbviewer.org/github/ipython/ipython/blob/3.x/examples/Notebook/Index.ipynb\n"
      ]
    },
    {
      "cell_type": "markdown",
      "id": "22eb1cfe",
      "metadata": {
        "id": "22eb1cfe"
      },
      "source": [
        "What are we covering in this lab?\n",
        "\n",
        "1. Introduction to Python and Jupyter notebook\n",
        "2. Types of variables\n",
        "3. Basic Python commands\n",
        "4. Lists and functions\n",
        "5. Boolean operators and loops"
      ]
    },
    {
      "cell_type": "markdown",
      "id": "right-journalist",
      "metadata": {
        "id": "right-journalist"
      },
      "source": [
        "## Basic Python Instances"
      ]
    },
    {
      "cell_type": "markdown",
      "id": "excited-inventory",
      "metadata": {
        "id": "excited-inventory"
      },
      "source": [
        "**Python Operators:** https://www.w3schools.com/python/python_operators.asp"
      ]
    },
    {
      "cell_type": "markdown",
      "id": "d1775932",
      "metadata": {
        "id": "d1775932"
      },
      "source": [
        "`print()` function prints the specified message to the screen. The message can be a string, or any other object, the object will be converted into a string before written to the screen."
      ]
    },
    {
      "cell_type": "code",
      "execution_count": null,
      "id": "satellite-founder",
      "metadata": {
        "id": "satellite-founder"
      },
      "outputs": [],
      "source": [
        "print(\"Hello World\")"
      ]
    },
    {
      "cell_type": "markdown",
      "id": "0de63ec5",
      "metadata": {
        "id": "0de63ec5"
      },
      "source": [
        "You can add comments to your Python scripts. Comments are important to make sure that you and others can understand what your code is about.\n",
        "To add comments to your Python script, you can use the `#` tag. It will not be shown in the output."
      ]
    },
    {
      "cell_type": "code",
      "execution_count": null,
      "id": "b9bcbb81",
      "metadata": {
        "id": "b9bcbb81"
      },
      "outputs": [],
      "source": [
        "# I'm computing a division\n",
        "print(1/2)"
      ]
    },
    {
      "cell_type": "markdown",
      "id": "fc6d109e",
      "metadata": {
        "id": "fc6d109e"
      },
      "source": [
        "### You can use python as a calculator"
      ]
    },
    {
      "cell_type": "code",
      "execution_count": null,
      "id": "dbcab879",
      "metadata": {
        "colab": {
          "base_uri": "https://localhost:8080/"
        },
        "id": "dbcab879",
        "outputId": "9cefa20f-faf6-4c38-e427-66eaba5e2283"
      },
      "outputs": [
        {
          "output_type": "stream",
          "name": "stdout",
          "text": [
            "20\n",
            "5.0\n",
            "125\n"
          ]
        }
      ],
      "source": [
        "# Multiplication, division, and exponentiation\n",
        "print(5 * 4)\n",
        "print(15 / 3)\n",
        "print(5 ** 3)"
      ]
    },
    {
      "cell_type": "markdown",
      "id": "7f1c671e",
      "metadata": {
        "id": "7f1c671e"
      },
      "source": [
        "## Variables and types\n",
        "\n",
        "### Variables\n",
        "\n",
        "If you want to do more complex calculations, you will want to \"save\" values while you're coding along."
      ]
    },
    {
      "cell_type": "markdown",
      "id": "3b60558b",
      "metadata": {
        "id": "3b60558b"
      },
      "source": [
        "You can do this by defining a variable, with a specific, case-sensitive name. Variable names can start with a letter or _, but not a number or any other operator. Once you create such variable, you can later call up its value by typing the variable name. Every time you type the variable's name, you are asking Python to change it with the actual value of the variable.\n",
        "\n",
        "To create a variable use `=` like in the following example"
      ]
    },
    {
      "cell_type": "code",
      "execution_count": null,
      "id": "genuine-atlas",
      "metadata": {
        "id": "genuine-atlas"
      },
      "outputs": [],
      "source": [
        "# Creating a variable called hello\n",
        "hello = \"Hello World\"\n",
        "\n",
        "# print variable hello by calling its name\n",
        "print(hello)"
      ]
    },
    {
      "cell_type": "markdown",
      "id": "dcf529b8",
      "metadata": {
        "id": "dcf529b8"
      },
      "source": [
        "Create two variables called x and y, x corresponds to 10 and y to 5.  Notice that we are not printing anything so we don't get any output when we run this line of code.\n"
      ]
    },
    {
      "cell_type": "code",
      "execution_count": null,
      "id": "circular-symposium",
      "metadata": {
        "id": "circular-symposium"
      },
      "outputs": [],
      "source": [
        "x = 3\n",
        "y = 6"
      ]
    },
    {
      "cell_type": "markdown",
      "id": "5f35a4e8",
      "metadata": {
        "id": "5f35a4e8"
      },
      "source": [
        "Print the result of $x^2 + y^2$"
      ]
    },
    {
      "cell_type": "code",
      "execution_count": null,
      "id": "193e2ef9",
      "metadata": {
        "id": "193e2ef9"
      },
      "outputs": [],
      "source": [
        "# reproducible\n",
        "print(x**2 + y**2)"
      ]
    },
    {
      "cell_type": "markdown",
      "id": "f8eccc59",
      "metadata": {
        "id": "f8eccc59"
      },
      "source": [
        "In Python, variables are used all the time. They help to make your code reproducible."
      ]
    },
    {
      "cell_type": "code",
      "execution_count": null,
      "id": "0cb17c1f",
      "metadata": {
        "id": "0cb17c1f"
      },
      "outputs": [],
      "source": [
        "# not reproducible\n",
        "print(3**2 + 6**2)"
      ]
    },
    {
      "cell_type": "markdown",
      "id": "different-outreach",
      "metadata": {
        "id": "different-outreach"
      },
      "source": [
        "### Python Types\n",
        "\n",
        "You can check out the type of a variable with the type function. To see the type of x, simply run `type(x)`. Number have usually two types in Python. A value has a `float` type if it's a real number, and a value has a `int` type if it has only an integer part."
      ]
    },
    {
      "cell_type": "code",
      "execution_count": null,
      "id": "aaaa45b4",
      "metadata": {
        "id": "aaaa45b4"
      },
      "outputs": [],
      "source": [
        "type(x)"
      ]
    },
    {
      "cell_type": "markdown",
      "id": "25915bd7",
      "metadata": {
        "id": "25915bd7"
      },
      "source": [
        "**Practice:** Create a variable called height with value 75.2 and check its type."
      ]
    },
    {
      "cell_type": "code",
      "execution_count": null,
      "id": "b8a63a85",
      "metadata": {
        "colab": {
          "base_uri": "https://localhost:8080/"
        },
        "id": "b8a63a85",
        "outputId": "2d0b85fd-a60e-409a-e53f-cee1ee5fd173"
      },
      "outputs": [
        {
          "output_type": "execute_result",
          "data": {
            "text/plain": [
              "float"
            ]
          },
          "metadata": {},
          "execution_count": 5
        }
      ],
      "source": [
        "# Complete this code with the information provided.\n",
        "height = 75.2\n",
        "type(height)"
      ]
    },
    {
      "cell_type": "markdown",
      "id": "2acc1881",
      "metadata": {
        "id": "2acc1881"
      },
      "source": [
        "Other python types are strings and booleans.\n",
        "\n",
        "A string or `str` for short is how python represents text. You can use both double and single quotes to build a string. The Boolean or `bool` for short is a type that can either be True or False. You can think of it as 'Yes' and 'No' in practice."
      ]
    },
    {
      "cell_type": "markdown",
      "id": "increased-lightning",
      "metadata": {
        "id": "increased-lightning"
      },
      "source": [
        "**Python Strings:** https://www.w3schools.com/python/python_strings.asp"
      ]
    },
    {
      "cell_type": "code",
      "execution_count": null,
      "id": "5a989190",
      "metadata": {
        "id": "5a989190"
      },
      "outputs": [],
      "source": [
        "word = \"data science\"\n",
        "text = 'this works too'"
      ]
    },
    {
      "cell_type": "code",
      "execution_count": null,
      "id": "dimensional-cross",
      "metadata": {
        "id": "dimensional-cross"
      },
      "outputs": [],
      "source": [
        "type(word)"
      ]
    },
    {
      "cell_type": "code",
      "execution_count": null,
      "id": "ecb8ea69",
      "metadata": {
        "id": "ecb8ea69"
      },
      "outputs": [],
      "source": [
        "w = True\n",
        "type(w)"
      ]
    },
    {
      "cell_type": "markdown",
      "id": "319d50a8",
      "metadata": {
        "id": "319d50a8"
      },
      "source": [
        "The `+` operator behaves differently for different data types. For string it pastes them into one, for integer or float values it adds them."
      ]
    },
    {
      "cell_type": "code",
      "execution_count": null,
      "id": "about-philadelphia",
      "metadata": {
        "id": "about-philadelphia"
      },
      "outputs": [],
      "source": [
        "print(\"Data\" + \"Science\" + \"1000\")"
      ]
    },
    {
      "cell_type": "code",
      "execution_count": null,
      "id": "changed-apparel",
      "metadata": {
        "id": "changed-apparel"
      },
      "outputs": [],
      "source": [
        "print(5 + 10)"
      ]
    },
    {
      "cell_type": "markdown",
      "id": "9c2d5eb7",
      "metadata": {
        "id": "9c2d5eb7"
      },
      "source": [
        "### Type conversion\n",
        "\n",
        "Using the `+` operator to paste together two strings can be very useful in creating custom messages.\n",
        "\n",
        "Let's say we want to print the following message:\n",
        "\n",
        "**The sum of x and y is x + y**, but instead of x + y we want to display the result of the sum.\n",
        "\n",
        "To do this, you'll need to explicitly convert the types of your variables so that they are all strings. More specifically, you'll need str(), to convert a value into a string. `str(x)`, for example, will convert the integer x to a string.\n",
        "\n",
        "Similar functions such as `int()`, `float()` and `bool()` will help you convert Python values into any type."
      ]
    },
    {
      "cell_type": "code",
      "execution_count": null,
      "id": "a6c51e95",
      "metadata": {
        "id": "a6c51e95"
      },
      "outputs": [],
      "source": [
        "x = 20\n",
        "y = 7\n",
        "print(\"The sum of x and y is \" + str(x + y))"
      ]
    },
    {
      "cell_type": "markdown",
      "id": "silent-director",
      "metadata": {
        "id": "silent-director"
      },
      "source": [
        "## Data Structures"
      ]
    },
    {
      "cell_type": "markdown",
      "id": "958728bb",
      "metadata": {
        "id": "958728bb"
      },
      "source": [
        "There are many data structures in Python. We will mainly cover the structures that are related to this data science course."
      ]
    },
    {
      "cell_type": "markdown",
      "id": "mathematical-participation",
      "metadata": {
        "id": "mathematical-participation"
      },
      "source": [
        "**Dictionaries:** https://www.w3schools.com/python/python_dictionaries.asp"
      ]
    },
    {
      "cell_type": "markdown",
      "id": "ambient-hydrogen",
      "metadata": {
        "id": "ambient-hydrogen"
      },
      "source": [
        "**Python lists:** https://www.w3schools.com/python/python_lists.asp"
      ]
    },
    {
      "cell_type": "markdown",
      "id": "72e66e5f",
      "metadata": {
        "id": "72e66e5f"
      },
      "source": [
        "Usually, instead of working with only one value, like we have for x and y in the previous example. We will work with many values at a time. So, we will need to stored these values somewhere.\n",
        "\n",
        "Data Structures are here for this purpose. The data structure that we use depend on the type of value we want to save. Let's start with lists.\n",
        "\n",
        "### Lists"
      ]
    },
    {
      "cell_type": "markdown",
      "id": "3838084e",
      "metadata": {
        "id": "3838084e"
      },
      "source": [
        "A list is a way to give a single name to a collection of values. These values, can have any type; they can be floats, integer, booleans, strings. A list can contain different types. To create a list we use `[]`."
      ]
    },
    {
      "cell_type": "code",
      "execution_count": null,
      "id": "collectible-friendship",
      "metadata": {
        "id": "collectible-friendship"
      },
      "outputs": [],
      "source": [
        "# Create and print a list called list_1 that contains only integers\n",
        "list_1 = [1, 2, 3]\n",
        "print(list_1)"
      ]
    },
    {
      "cell_type": "code",
      "execution_count": null,
      "id": "5995d0e4",
      "metadata": {
        "id": "5995d0e4"
      },
      "outputs": [],
      "source": [
        "# Create and print a list that contains strings and integers values\n",
        "list_2 = [\"a\", 1, \"b\", 5, \"c\", 7, 'z']\n",
        "print(list_2)"
      ]
    },
    {
      "cell_type": "markdown",
      "id": "ca50a41d",
      "metadata": {
        "id": "ca50a41d"
      },
      "source": [
        "**Practice:** Create and `print` a `list` called **newlist** with the following elements `'DataScience'`, `'Python'`,`100`, `True`, `3.14`."
      ]
    },
    {
      "cell_type": "code",
      "execution_count": null,
      "id": "debf5212",
      "metadata": {
        "colab": {
          "base_uri": "https://localhost:8080/"
        },
        "id": "debf5212",
        "outputId": "fdb0c556-2e15-4de6-d02e-8f7de31b4b8c"
      },
      "outputs": [
        {
          "output_type": "stream",
          "name": "stdout",
          "text": [
            "['DataScience', 'Python', 100, True, 3.14]\n"
          ]
        }
      ],
      "source": [
        "#Your code here\n",
        "newlist = ['DataScience','Python', 100, True, 3.14]\n",
        "print(newlist)\n"
      ]
    },
    {
      "cell_type": "markdown",
      "id": "09ca0618",
      "metadata": {
        "id": "09ca0618"
      },
      "source": [
        "#### Subsetting lists\n",
        "\n",
        "Now that we know how to create lists in Python, we need to know how you can access information in the list. Python uses the index to do this. The first element in the list has index 0, the second element has index 1, and so on. To select a element in a list we write the name of the list then inside `[]` we define the index we want, e.g., `name_list[index]`."
      ]
    },
    {
      "cell_type": "code",
      "execution_count": null,
      "id": "announced-football",
      "metadata": {
        "id": "announced-football"
      },
      "outputs": [],
      "source": [
        "# Create a list called heights with 7 numbers\n",
        "heights = [75, 64.5, 67, 89, 70.4, 63, 50.9]"
      ]
    },
    {
      "cell_type": "code",
      "execution_count": null,
      "id": "760b42c2",
      "metadata": {
        "id": "760b42c2"
      },
      "outputs": [],
      "source": [
        "# Print the height for the second element in the heights list which has the index 1\n",
        "print(heights[1])"
      ]
    },
    {
      "cell_type": "markdown",
      "id": "ab26af13",
      "metadata": {
        "id": "ab26af13"
      },
      "source": [
        "#### Slicing lists\n",
        "\n",
        "Instead of selecting only one element of a list to print, we can select multiple elements by specifying the range of indeces we want to print. By using `[start_index : end_index]` which is inclusive for `start_index` and exclusive for `end_index`."
      ]
    },
    {
      "cell_type": "code",
      "execution_count": null,
      "id": "7ff4f333",
      "metadata": {
        "id": "7ff4f333"
      },
      "outputs": [],
      "source": [
        "# Print the fourth until the sixth element in the heights list\n",
        "print(heights[2:4])"
      ]
    },
    {
      "cell_type": "markdown",
      "id": "bc205a14",
      "metadata": {
        "id": "bc205a14"
      },
      "source": [
        "If you leave out the index where the slice should begin, you're telling Python to start the slice from index 0. If you leave out the index where the slice should end, you include all elements up to and including the last element in the list."
      ]
    },
    {
      "cell_type": "code",
      "execution_count": null,
      "id": "9e3b6ded",
      "metadata": {
        "id": "9e3b6ded"
      },
      "outputs": [],
      "source": [
        "# Print the first 2 elements in the heights list\n",
        "print(heights[:2])\n",
        "\n",
        "#Print the last 3 elements in the heights list\n",
        "print(heights[4:])"
      ]
    },
    {
      "cell_type": "markdown",
      "id": "6542588f",
      "metadata": {
        "id": "6542588f"
      },
      "source": [
        "#### Manipulating lists\n",
        "\n",
        "We may also be interested in changing elements in our list, or we may want to add elements to the list or even remove elements from our list.\n",
        "\n",
        "Changing list elements is pretty straightforward. You use the same square brackets that we've used to subset lists, and then assign new elements to it using `=`."
      ]
    },
    {
      "cell_type": "code",
      "execution_count": null,
      "id": "e5b3a02b",
      "metadata": {
        "id": "e5b3a02b"
      },
      "outputs": [],
      "source": [
        "heights[2] = 97\n",
        "print(heights)"
      ]
    },
    {
      "cell_type": "markdown",
      "id": "d543aced",
      "metadata": {
        "id": "d543aced"
      },
      "source": [
        "**Practice**: Change the last element of the heights list to be now equal to 100. Then `print` the list so we can see the change."
      ]
    },
    {
      "cell_type": "code",
      "execution_count": null,
      "id": "b046923d",
      "metadata": {
        "colab": {
          "base_uri": "https://localhost:8080/"
        },
        "id": "b046923d",
        "outputId": "899c9415-636c-45a8-9143-69358941e177"
      },
      "outputs": [
        {
          "output_type": "stream",
          "name": "stdout",
          "text": [
            "[75, 64.5, 67, 89, 70.4, 63, 100]\n"
          ]
        }
      ],
      "source": [
        "# Your code here\n",
        "heights = [75, 64.5, 67, 89, 70.4, 63, 50.9]\n",
        "heights[-1] = 100\n",
        "print(heights)\n"
      ]
    },
    {
      "cell_type": "markdown",
      "id": "86237fe0",
      "metadata": {
        "id": "86237fe0"
      },
      "source": [
        "Now, if you want to add elements to a list you can use `+` or the method `append` (which we are going to see later in this lab, when we introduce methos). See below some examples:\n",
        "\n",
        "Note: The elements you want to add to our list need to be in a list when we use `+`. Also, when we use `+` we need to create a variable with the same name as the previous list so that the change will show in our original list."
      ]
    },
    {
      "cell_type": "code",
      "execution_count": null,
      "id": "contained-replication",
      "metadata": {
        "id": "contained-replication"
      },
      "outputs": [],
      "source": [
        "heights = heights + [2]"
      ]
    },
    {
      "cell_type": "markdown",
      "id": "d7fef7f1",
      "metadata": {
        "id": "d7fef7f1"
      },
      "source": [
        "Now, if you want to delete elements in a list, we use the same ideas as when we want to select elements in a list with the `del` function. As soon as you remove an element from a list, the indexes of the elements that come after the deleted element all change."
      ]
    },
    {
      "cell_type": "code",
      "execution_count": null,
      "id": "544c0215",
      "metadata": {
        "id": "544c0215"
      },
      "outputs": [],
      "source": [
        "# Delete first element in heights list. Don't forget to print the list so we can see the results\n",
        "del(heights[0])\n",
        "print(heights)"
      ]
    },
    {
      "cell_type": "markdown",
      "id": "46a44f9e",
      "metadata": {
        "id": "46a44f9e"
      },
      "source": [
        "## Functions"
      ]
    },
    {
      "cell_type": "markdown",
      "id": "6af63c1c",
      "metadata": {
        "id": "6af63c1c"
      },
      "source": [
        "Functions aren't entirely new for you, we already used them. `type`, for example, is a function that returns the type of a value. You can call functions instead of having to write code yourself. Example of functions in Python `min`, `mean`, `max`, `print`, `round`, `len`. Functions are usually colored in green."
      ]
    },
    {
      "cell_type": "markdown",
      "id": "03494f74",
      "metadata": {
        "id": "03494f74"
      },
      "source": [
        "Instead of writing your own code that goes through the list and finds the highest value, we can use Python's max function. We simply pass the name of our list to `max` inside `()`."
      ]
    },
    {
      "cell_type": "code",
      "execution_count": null,
      "id": "4440eaad",
      "metadata": {
        "id": "4440eaad"
      },
      "outputs": [],
      "source": [
        "# Let's use the function max to get the maximum value in the heights list\n",
        "print(max(heights))"
      ]
    },
    {
      "cell_type": "markdown",
      "id": "83db4630",
      "metadata": {
        "id": "83db4630"
      },
      "source": [
        "Another function we will use quite a lot is `round`. It takes two inputs: first, a number you want to round, and second, the precision with which to round, which is how many digits after the decimal point you want to keep"
      ]
    },
    {
      "cell_type": "code",
      "execution_count": null,
      "id": "eea799ad",
      "metadata": {
        "id": "eea799ad"
      },
      "outputs": [],
      "source": [
        "print(round(2.78, 1))\n",
        "print(round(2.78))"
      ]
    },
    {
      "cell_type": "markdown",
      "id": "656a8865",
      "metadata": {
        "id": "656a8865"
      },
      "source": [
        "If you want to know how many elements we have in a list or string we can use the function `len` short for lenght."
      ]
    },
    {
      "cell_type": "code",
      "execution_count": null,
      "id": "bored-planet",
      "metadata": {
        "id": "bored-planet"
      },
      "outputs": [],
      "source": [
        "# Print the number of elements in the heights list\n",
        "print(len(heights))\n",
        "\n",
        "# Print the number of elements in the string 'Data'\n",
        "print(len(\"Data\"))"
      ]
    },
    {
      "cell_type": "markdown",
      "id": "2aea58f0",
      "metadata": {
        "id": "2aea58f0"
      },
      "source": [
        "To get more information about what a function does, what are its inputs and outputs you can always use the `help` function"
      ]
    },
    {
      "cell_type": "code",
      "execution_count": null,
      "id": "25b240d1",
      "metadata": {
        "id": "25b240d1"
      },
      "outputs": [],
      "source": [
        "help(round)"
      ]
    },
    {
      "cell_type": "markdown",
      "id": "d1e5bb7d",
      "metadata": {
        "id": "d1e5bb7d"
      },
      "source": [
        "### Methods\n",
        "\n",
        "Depending on the type of a object in Python. Objects are variables in Python, that is, a string is an object, a list is an object, and so on.\n",
        "So depending on the type of object we can apply functions, called methods, that are specific to each python type.\n",
        "\n",
        "Fo example, `append` is a method for lists only and to use it, we need to write the name of our list and use `.append` to use the function."
      ]
    },
    {
      "cell_type": "code",
      "execution_count": null,
      "id": "9e04dcd6",
      "metadata": {
        "id": "9e04dcd6"
      },
      "outputs": [],
      "source": [
        "heights.append(1)\n",
        "print(heights)"
      ]
    },
    {
      "cell_type": "markdown",
      "id": "f8fce034",
      "metadata": {
        "id": "f8fce034"
      },
      "source": [
        "Another method we can use in lists or strings is `index`, which returns the index of the element we want we just need to write the name of our list or variable that you used to stored the string and then use `.index` with the element we want inside `()`"
      ]
    },
    {
      "cell_type": "code",
      "execution_count": null,
      "id": "abfabbf0",
      "metadata": {
        "id": "abfabbf0"
      },
      "outputs": [],
      "source": [
        "# What is the index of the height 64.5 in our list called heights?\n",
        "print(heights.index(70.4))"
      ]
    },
    {
      "cell_type": "code",
      "execution_count": null,
      "id": "70d6423f",
      "metadata": {
        "id": "70d6423f"
      },
      "outputs": [],
      "source": [
        "# Using the method count for strings to count how many a's there are in DataScience\n",
        "\n",
        "# First we create a variable to stored the string DataScience\n",
        "string = 'DataScience'\n",
        "\n",
        "# Now we print how many a's we have in this string using the count method\n",
        "print(string.count('a'))"
      ]
    },
    {
      "cell_type": "code",
      "execution_count": null,
      "id": "937aa931",
      "metadata": {
        "id": "937aa931"
      },
      "outputs": [],
      "source": [
        "#help(str) # shows all methods we can apply into a string including count"
      ]
    },
    {
      "cell_type": "markdown",
      "id": "998fcc82",
      "metadata": {
        "id": "998fcc82"
      },
      "source": [
        "**Practice** Create a list called `score` with values 100, 50, 56.5, 70.2, 85, 99. Then use the `append()` method to add the value 50 to our list. Then `print` our list to see the change."
      ]
    },
    {
      "cell_type": "code",
      "execution_count": null,
      "id": "81570cee",
      "metadata": {
        "colab": {
          "base_uri": "https://localhost:8080/"
        },
        "id": "81570cee",
        "outputId": "3fa195be-e725-49e7-d66a-e40a25f7e1ee"
      },
      "outputs": [
        {
          "output_type": "stream",
          "name": "stdout",
          "text": [
            "[100, 50, 56.5, 70.2, 85, 99, 50]\n"
          ]
        }
      ],
      "source": [
        "# Your code here\n",
        "score = [100, 50, 56.5, 70.2, 85, 99]\n",
        "score.append(50)\n",
        "\n",
        "print(score)"
      ]
    },
    {
      "cell_type": "markdown",
      "id": "1ea0b2d2",
      "metadata": {
        "id": "1ea0b2d2"
      },
      "source": [
        "#### Creating your own functions"
      ]
    },
    {
      "cell_type": "markdown",
      "id": "a66ba1c6",
      "metadata": {
        "id": "a66ba1c6"
      },
      "source": [
        "Python Functions: https://www.w3schools.com/python/python_functions.asp\n",
        "\n",
        "A recipe to create functions in Python is: First we define our function by writing `def` then we write the `name_of_our_function` and inside the `()` we define the inputs (arguments) our function takes. The output of our function is defined using `return` at the end of the function.\n",
        "\n",
        "To call our function we write its name and inside `()` we give the values for our inputs."
      ]
    },
    {
      "cell_type": "code",
      "execution_count": null,
      "id": "fa12dcb1",
      "metadata": {
        "id": "fa12dcb1"
      },
      "outputs": [],
      "source": [
        "# Create a function called double that has one input (called x), our function returns our 2 times our input.\n",
        "def double(x):\n",
        "    return 2 * x\n",
        "\n",
        "# Call our function with input = 17\n",
        "double(17)"
      ]
    },
    {
      "cell_type": "markdown",
      "id": "dcc20c66",
      "metadata": {
        "id": "dcc20c66"
      },
      "source": [
        "Let's create a function that takes more than one argument (input). Create a function called percent that returns the percentage up to 2 decimal places of a number called x with respect to a total. Our arguments are `x` and `total`."
      ]
    },
    {
      "cell_type": "code",
      "execution_count": null,
      "id": "3cda6b68",
      "metadata": {
        "id": "3cda6b68"
      },
      "outputs": [],
      "source": [
        "def percent(x, total):\n",
        "    return round((x / total) * 100, 2)\n",
        "\n",
        "# Call function with x = 33 and total = 200\n",
        "percent(33, 200)"
      ]
    },
    {
      "cell_type": "markdown",
      "id": "be0e8c06",
      "metadata": {
        "id": "be0e8c06"
      },
      "source": [
        "**Practice:** Add another argument to the previous function called `decimal_places`, so that now the number of decimal places is also an argument of our function. Complete the code below, and call our function now with `x = 37`, `total = 120` and `decimal_places = 4`."
      ]
    },
    {
      "cell_type": "code",
      "execution_count": null,
      "id": "a465ecba",
      "metadata": {
        "colab": {
          "base_uri": "https://localhost:8080/"
        },
        "id": "a465ecba",
        "outputId": "637e23d4-5caa-4934-d36d-a40b9ba66896"
      },
      "outputs": [
        {
          "output_type": "execute_result",
          "data": {
            "text/plain": [
              "30.8333"
            ]
          },
          "metadata": {},
          "execution_count": 12
        }
      ],
      "source": [
        "# Complete the code below:\n",
        "\n",
        "def percent(x, total, decimal_places):\n",
        "    return round((x/total)*100, decimal_places)\n",
        "\n",
        "# Call function with x = 37, total = 200 and decimal_places = 4\n",
        "percent(37,120,4)"
      ]
    },
    {
      "cell_type": "code",
      "execution_count": null,
      "id": "adjustable-paragraph",
      "metadata": {
        "id": "adjustable-paragraph"
      },
      "outputs": [],
      "source": [
        "# Dictionaries have a Key and a value.\n",
        "dict_1 = {\"Stats\" : \"Happy\"}\n",
        "print(\"The dictionay holds\", dict_1, \"and the 'Stats' value is:\", dict_1[\"Stats\"])"
      ]
    },
    {
      "cell_type": "markdown",
      "id": "00c596f4",
      "metadata": {
        "id": "00c596f4"
      },
      "source": [
        "### Booleans operators\n",
        "\n",
        "**Comparison operators** are used to compare values. When we use an comparison operator, we our dealing with boolean variables (Remember the begging of this lab when we discussed boolean variables `True` and `False`)\n",
        "\n",
        "Logical Operators : https://www.w3schools.com/python/gloss_python_logical_operators.asp\n",
        "\n",
        "Conditional Statements : https://www.w3schools.com/python/python_conditions.asp"
      ]
    },
    {
      "cell_type": "markdown",
      "id": "a5c075ed",
      "metadata": {
        "id": "a5c075ed"
      },
      "source": [
        "|Operator|\tWhat it means| Example |\n",
        "|:-------|:--------------|:-------------|\n",
        "|==\t     |Equal to       |4 == 5 is `False`|\n",
        "|!=\t     |Not equal to   |4 != 5 is `True` |\n",
        "|<\t     |Less than      |4 > 5 is `False`|\n",
        "|>\t     |Greater than   |4 < 5 is `True` |\n",
        "|<=\t     |Less than or equal to| 4 >= 5 is `False`|\n",
        "|>=\t     |Greater than or equal to| 4 <= 5 is `True`|\n",
        "\n"
      ]
    },
    {
      "cell_type": "code",
      "execution_count": null,
      "id": "8d222e13",
      "metadata": {
        "id": "8d222e13"
      },
      "outputs": [],
      "source": [
        "x = 5\n",
        "y = 8"
      ]
    },
    {
      "cell_type": "code",
      "execution_count": null,
      "id": "69438d34",
      "metadata": {
        "id": "69438d34"
      },
      "outputs": [],
      "source": [
        "print(\"x == y:\", x == y)\n",
        "print(\"x != y:\", x != y)\n",
        "print(\"x < y: \", x < y)\n",
        "print(\"x > y: \", x > y)\n",
        "print(\"x <= y:\", x <= y)\n",
        "print(\"x >= y:\", x >= y)"
      ]
    },
    {
      "cell_type": "markdown",
      "id": "7f547a60",
      "metadata": {
        "id": "7f547a60"
      },
      "source": [
        "#### Logical Operators\n",
        "\n",
        "There are three logical operators that are used to compare values. They evaluate expressions down to Boolean values, returning either `True` or `False`. These operators are `and`, `or`, and `not`. Let's check some examples on how to use them.\n",
        "\n",
        "\n",
        "|Operator\t| What it means\t| Example |\n",
        "|:----------|:--------------|:--------|\n",
        "|and\t|`True` if both are True |\t`x and y`\n",
        "|or\t    |`True` if at least one is True |\t`x or y`\n",
        "|not    |`True` only if it is False|\t`not x`\n",
        "\n",
        "\n",
        "Logical operators are typically used to evaluate whether two or more expressions are true or not true. For example, we can use logical operators to check if someone is female `and` is older than 30 years old.\n",
        "\n",
        "Note: You can use `&` and `|` instead of `and` and `or`."
      ]
    },
    {
      "cell_type": "code",
      "execution_count": null,
      "id": "2a3419d4",
      "metadata": {
        "id": "2a3419d4"
      },
      "outputs": [],
      "source": [
        "print((9 > 7) and (2 < 4))  # Both expressions are True\n",
        "print((8 == 8) | (6 != 6)) # One expression is True\n",
        "print(not(3 <= 1))          # The expression inside not is False"
      ]
    },
    {
      "cell_type": "markdown",
      "id": "a58b8b43",
      "metadata": {
        "id": "a58b8b43"
      },
      "source": [
        "#### Boolean Operators Testing\n",
        "\n",
        "The most popular use for a Python Boolean is in an `if` statement. This statement will execute `if` the value is `True`."
      ]
    },
    {
      "cell_type": "code",
      "execution_count": null,
      "id": "b046a3a7",
      "metadata": {
        "id": "b046a3a7"
      },
      "outputs": [],
      "source": [
        "grade = 70"
      ]
    },
    {
      "cell_type": "code",
      "execution_count": null,
      "id": "7d37b7d3",
      "metadata": {
        "id": "7d37b7d3"
      },
      "outputs": [],
      "source": [
        "if grade >= 65:                 # Condition\n",
        "    print(\"Passing grade\")      # Clause\n",
        "\n",
        "else:\n",
        "    print(\"Failing grade\")"
      ]
    },
    {
      "cell_type": "code",
      "execution_count": null,
      "id": "39d5889c",
      "metadata": {
        "id": "39d5889c"
      },
      "outputs": [],
      "source": [
        "if grade > 90 and attendence == 100:\n",
        "    print(\"Star\")\n",
        "else:\n",
        "    print(\"no Star\")"
      ]
    },
    {
      "cell_type": "code",
      "execution_count": null,
      "id": "3016da48",
      "metadata": {
        "id": "3016da48"
      },
      "outputs": [],
      "source": [
        "# Create a if statement with more than one else\n",
        "if grade > 90 and attendence == 100:\n",
        "    print(\"Star\")\n",
        "elif grade > 60:\n",
        "    print(\"Passing grade\")\n",
        "else:\n",
        "    print(\"Failing grade\")"
      ]
    },
    {
      "cell_type": "markdown",
      "id": "a7d6415e",
      "metadata": {
        "id": "a7d6415e"
      },
      "source": [
        "### Loops\n",
        "\n",
        "Loops are important in Python or in any other programming language as they help you to execute a block of code repeatedly. You will often come face to face with situations where you would need to use a piece of code over and over but you don't want to write the same line of code multiple times.\n",
        "\n",
        "The word \"loop\" refers to a piece of code that you execute repeatedly.\n",
        "\n",
        "#### While lop\n",
        "\n",
        "While Looping: https://www.w3schools.com/python/python_conditions.asp\n",
        "\n",
        "A `while` loop, when it's implemented, executes a piece of code over and over again while a given `condition` still holds true.\n",
        "\n",
        "To run a `while` loop in Python we need to write\n",
        "\n",
        "`while` `condition` `:`\n",
        "\n",
        "`code`\n",
        "\n",
        "The condition needs to return `True` or `False`\n",
        "\n"
      ]
    },
    {
      "cell_type": "code",
      "execution_count": null,
      "id": "7bfe3c89",
      "metadata": {
        "id": "7bfe3c89"
      },
      "outputs": [],
      "source": [
        "x = 1\n",
        "while x != 10:\n",
        "    print(x)\n",
        "    # Increment the value of the variable \"x by 1\"\n",
        "    x = x + 1"
      ]
    },
    {
      "cell_type": "markdown",
      "id": "2b41e153",
      "metadata": {
        "id": "2b41e153"
      },
      "source": [
        "The above example is a bit basic, you can also include conditionals, or, in other words, an if condition, to make it even more customized. Check the next example"
      ]
    },
    {
      "cell_type": "code",
      "execution_count": null,
      "id": "dfda617f",
      "metadata": {
        "id": "dfda617f"
      },
      "outputs": [],
      "source": [
        "# Take user input\n",
        "number = 2\n",
        "\n",
        "# Condition of the while loop\n",
        "while number < 5 :\n",
        "    # Find the mod of 2\n",
        "    if number%2 == 0:\n",
        "        print(\"The number \"+str(number)+\" is even\")\n",
        "    else:\n",
        "        print(\"The number \"+str(number)+\" is odd\")\n",
        "\n",
        "    # Increment `number` by 1\n",
        "    number = number + 1"
      ]
    },
    {
      "cell_type": "markdown",
      "id": "9ca151e6",
      "metadata": {
        "id": "9ca151e6"
      },
      "source": [
        "#### For loops\n",
        "\n",
        "For Looping: https://www.w3schools.com/python/python_for_loops.asp\n",
        "\n",
        "As you probably would have expected, the \"for\" component in \"for loop\" refers to something that you do for a certain number of times. In contrast to the while loop, there isn't any condition actively involved - you just execute a piece of code repeatedly for a number of times. For loop executes the code contained within it only for a specific number of times. This \"number of times\" is determined by a sequence or an ordered list of things.\n",
        "\n",
        "To create `for` loops we use the recipe:\n",
        "\n",
        "`for` `a variable` `in` `range()` `:`\n",
        "\n",
        "`code`\n",
        "\n",
        "The `range(start, stop, step)` function creates a sequence of numbers in a specific range. The `range` function returns an object that produces a sequence of integers from start (inclusive) to stop (exclusive) by step.  range(i, j) produces $i$, $i+1$, $i+2$, ..., $j-1$.\n",
        "`start` defaults to 0, and `stop` is omitted!  \n",
        "`range(4)` produces 0, 1, 2, 3."
      ]
    },
    {
      "cell_type": "code",
      "execution_count": null,
      "id": "cbb1794b",
      "metadata": {
        "id": "cbb1794b"
      },
      "outputs": [],
      "source": [
        "# Create a list of number using range function\n",
        "numbers = list(range(1,11,3))\n",
        "print(numbers)"
      ]
    },
    {
      "cell_type": "code",
      "execution_count": null,
      "id": "86ed25ea",
      "metadata": {
        "id": "86ed25ea"
      },
      "outputs": [],
      "source": [
        "for i in range(1, 11, 3):\n",
        "    print(i)"
      ]
    },
    {
      "cell_type": "markdown",
      "id": "889a481a",
      "metadata": {
        "id": "889a481a"
      },
      "source": [
        "Let's consider another example of a `for` loop, where you make use of two variables to define our flow."
      ]
    },
    {
      "cell_type": "code",
      "execution_count": null,
      "id": "6a560b5c",
      "metadata": {
        "id": "6a560b5c"
      },
      "outputs": [],
      "source": [
        "words = [\"stats\", \"math\", \"exams\", \"python\"]\n",
        "for i in range(len(words)):\n",
        "    print(words[i])"
      ]
    },
    {
      "cell_type": "markdown",
      "id": "d71b0227",
      "metadata": {
        "id": "d71b0227"
      },
      "source": [
        "In the loop above, we have that for every index in the range `len(words)`, you want to print the each word in the list."
      ]
    }
  ],
  "metadata": {
    "kernelspec": {
      "display_name": "Python 3 (ipykernel)",
      "language": "python",
      "name": "python3"
    },
    "language_info": {
      "codemirror_mode": {
        "name": "ipython",
        "version": 3
      },
      "file_extension": ".py",
      "mimetype": "text/x-python",
      "name": "python",
      "nbconvert_exporter": "python",
      "pygments_lexer": "ipython3",
      "version": "3.9.12"
    },
    "colab": {
      "provenance": [],
      "include_colab_link": true
    }
  },
  "nbformat": 4,
  "nbformat_minor": 5
}