{
  "cells": [
    {
      "cell_type": "markdown",
      "metadata": {
        "id": "view-in-github",
        "colab_type": "text"
      },
      "source": [
        "<a href=\"https://colab.research.google.com/github/heidimag/DS1000/blob/main/Lab_3.ipynb\" target=\"_parent\"><img src=\"https://colab.research.google.com/assets/colab-badge.svg\" alt=\"Open In Colab\"/></a>"
      ]
    },
    {
      "cell_type": "markdown",
      "id": "0cd1339a",
      "metadata": {
        "id": "0cd1339a"
      },
      "source": [
        "# Lab 3\n",
        "\n",
        "In this lab we discuss some tools for data visualization in Python.\n",
        "\n",
        "In this Lab we are going to cover:\n",
        "1. Introduction matplotlib and seaborn Packages\n",
        "2. Import csv data\n",
        "3. Plots for numerical and categorical variables\n",
        "4. Five-number summary"
      ]
    },
    {
      "cell_type": "markdown",
      "id": "892a3c62",
      "metadata": {
        "id": "892a3c62"
      },
      "source": [
        "# Import necessary Python Packages"
      ]
    },
    {
      "cell_type": "markdown",
      "id": "b99b9f8f",
      "metadata": {
        "id": "b99b9f8f"
      },
      "source": [
        "**matplotlib.pyplot:** https://matplotlib.org/3.1.1/gallery/index.html\n",
        "\n",
        "**Seaborn:** https://seaborn.pydata.org/examples/index.html"
      ]
    },
    {
      "cell_type": "code",
      "execution_count": 1,
      "id": "493f2417",
      "metadata": {
        "id": "493f2417"
      },
      "outputs": [],
      "source": [
        "import numpy as np\n",
        "import pandas as pd\n",
        "import seaborn as sns\n",
        "import matplotlib.pyplot as plt\n",
        "from numpy import percentile # importing a specific function from numpy\n",
        "%matplotlib inline\n",
        "# %matplotlib inline is used to show plots in Jupyter Notebook"
      ]
    },
    {
      "cell_type": "markdown",
      "id": "b3d7b0a1",
      "metadata": {
        "id": "b3d7b0a1"
      },
      "source": [
        "If you get an error saying that you don't have seaborn or matplotlib packages. Run the next three lines to install the packages and then import the packages"
      ]
    },
    {
      "cell_type": "code",
      "execution_count": 6,
      "id": "6269079c",
      "metadata": {
        "colab": {
          "base_uri": "https://localhost:8080/"
        },
        "id": "6269079c",
        "outputId": "121ba228-0b8b-491f-ca9d-a15212a9f513"
      },
      "outputs": [
        {
          "output_type": "stream",
          "name": "stdout",
          "text": [
            "Requirement already satisfied: matplotlib in /usr/local/lib/python3.11/dist-packages (3.10.0)\n",
            "Requirement already satisfied: contourpy>=1.0.1 in /usr/local/lib/python3.11/dist-packages (from matplotlib) (1.3.1)\n",
            "Requirement already satisfied: cycler>=0.10 in /usr/local/lib/python3.11/dist-packages (from matplotlib) (0.12.1)\n",
            "Requirement already satisfied: fonttools>=4.22.0 in /usr/local/lib/python3.11/dist-packages (from matplotlib) (4.55.6)\n",
            "Requirement already satisfied: kiwisolver>=1.3.1 in /usr/local/lib/python3.11/dist-packages (from matplotlib) (1.4.8)\n",
            "Requirement already satisfied: numpy>=1.23 in /usr/local/lib/python3.11/dist-packages (from matplotlib) (1.26.4)\n",
            "Requirement already satisfied: packaging>=20.0 in /usr/local/lib/python3.11/dist-packages (from matplotlib) (24.2)\n",
            "Requirement already satisfied: pillow>=8 in /usr/local/lib/python3.11/dist-packages (from matplotlib) (11.1.0)\n",
            "Requirement already satisfied: pyparsing>=2.3.1 in /usr/local/lib/python3.11/dist-packages (from matplotlib) (3.2.1)\n",
            "Requirement already satisfied: python-dateutil>=2.7 in /usr/local/lib/python3.11/dist-packages (from matplotlib) (2.8.2)\n",
            "Requirement already satisfied: six>=1.5 in /usr/local/lib/python3.11/dist-packages (from python-dateutil>=2.7->matplotlib) (1.17.0)\n"
          ]
        }
      ],
      "source": [
        "pip install matplotlib"
      ]
    },
    {
      "cell_type": "code",
      "execution_count": 7,
      "id": "4ec33bea",
      "metadata": {
        "colab": {
          "base_uri": "https://localhost:8080/"
        },
        "id": "4ec33bea",
        "outputId": "e2103682-8fa1-44b5-d7d1-f9b4eb5a7540"
      },
      "outputs": [
        {
          "output_type": "stream",
          "name": "stdout",
          "text": [
            "Requirement already satisfied: seaborn in /usr/local/lib/python3.11/dist-packages (0.13.2)\n",
            "Requirement already satisfied: numpy!=1.24.0,>=1.20 in /usr/local/lib/python3.11/dist-packages (from seaborn) (1.26.4)\n",
            "Requirement already satisfied: pandas>=1.2 in /usr/local/lib/python3.11/dist-packages (from seaborn) (2.2.2)\n",
            "Requirement already satisfied: matplotlib!=3.6.1,>=3.4 in /usr/local/lib/python3.11/dist-packages (from seaborn) (3.10.0)\n",
            "Requirement already satisfied: contourpy>=1.0.1 in /usr/local/lib/python3.11/dist-packages (from matplotlib!=3.6.1,>=3.4->seaborn) (1.3.1)\n",
            "Requirement already satisfied: cycler>=0.10 in /usr/local/lib/python3.11/dist-packages (from matplotlib!=3.6.1,>=3.4->seaborn) (0.12.1)\n",
            "Requirement already satisfied: fonttools>=4.22.0 in /usr/local/lib/python3.11/dist-packages (from matplotlib!=3.6.1,>=3.4->seaborn) (4.55.6)\n",
            "Requirement already satisfied: kiwisolver>=1.3.1 in /usr/local/lib/python3.11/dist-packages (from matplotlib!=3.6.1,>=3.4->seaborn) (1.4.8)\n",
            "Requirement already satisfied: packaging>=20.0 in /usr/local/lib/python3.11/dist-packages (from matplotlib!=3.6.1,>=3.4->seaborn) (24.2)\n",
            "Requirement already satisfied: pillow>=8 in /usr/local/lib/python3.11/dist-packages (from matplotlib!=3.6.1,>=3.4->seaborn) (11.1.0)\n",
            "Requirement already satisfied: pyparsing>=2.3.1 in /usr/local/lib/python3.11/dist-packages (from matplotlib!=3.6.1,>=3.4->seaborn) (3.2.1)\n",
            "Requirement already satisfied: python-dateutil>=2.7 in /usr/local/lib/python3.11/dist-packages (from matplotlib!=3.6.1,>=3.4->seaborn) (2.8.2)\n",
            "Requirement already satisfied: pytz>=2020.1 in /usr/local/lib/python3.11/dist-packages (from pandas>=1.2->seaborn) (2024.2)\n",
            "Requirement already satisfied: tzdata>=2022.7 in /usr/local/lib/python3.11/dist-packages (from pandas>=1.2->seaborn) (2025.1)\n",
            "Requirement already satisfied: six>=1.5 in /usr/local/lib/python3.11/dist-packages (from python-dateutil>=2.7->matplotlib!=3.6.1,>=3.4->seaborn) (1.17.0)\n"
          ]
        }
      ],
      "source": [
        "pip install seaborn"
      ]
    },
    {
      "cell_type": "code",
      "execution_count": 8,
      "id": "05b5240c",
      "metadata": {
        "id": "05b5240c"
      },
      "outputs": [],
      "source": [
        "import seaborn as sns\n",
        "import matplotlib.pyplot as plt\n",
        "%matplotlib inline"
      ]
    },
    {
      "cell_type": "markdown",
      "id": "4960e6fc",
      "metadata": {
        "id": "4960e6fc"
      },
      "source": [
        "# Import csv data"
      ]
    },
    {
      "cell_type": "markdown",
      "id": "74ad9aa5",
      "metadata": {
        "id": "74ad9aa5"
      },
      "source": [
        "**pd.read_csv:** https://pandas.pydata.org/pandas-docs/stable/reference/api/pandas.read_csv.html\n",
        "\n",
        "Importing csv files into Python is not complicated. We need to use the `pick_a_name = pd.read_csv('path/file_name.csv')` from the `pandas` Package. To make super easy to import data into Python, I would suggest that you save the csv files in the save folder as your notebook. So in that way we don't need to specify the `path`, we can just use `.read_csv('file_name.csv')`. Let's see how both ways work."
      ]
    },
    {
      "cell_type": "code",
      "execution_count": 9,
      "id": "089f6fa8",
      "metadata": {
        "colab": {
          "base_uri": "https://localhost:8080/",
          "height": 339
        },
        "id": "089f6fa8",
        "outputId": "fc48d965-7e2d-4d43-a38d-e6f52893bf0b"
      },
      "outputs": [
        {
          "output_type": "error",
          "ename": "FileNotFoundError",
          "evalue": "[Errno 2] No such file or directory: '/Users/carol/Downloads/possum.csv'",
          "traceback": [
            "\u001b[0;31m---------------------------------------------------------------------------\u001b[0m",
            "\u001b[0;31mFileNotFoundError\u001b[0m                         Traceback (most recent call last)",
            "\u001b[0;32m<ipython-input-9-4cd8f3b17ab2>\u001b[0m in \u001b[0;36m<cell line: 0>\u001b[0;34m()\u001b[0m\n\u001b[1;32m      1\u001b[0m \u001b[0;31m# Download the possum file to your computer (available on OWL).\u001b[0m\u001b[0;34m\u001b[0m\u001b[0;34m\u001b[0m\u001b[0m\n\u001b[1;32m      2\u001b[0m \u001b[0;31m# If you don't specify the folder you want to save it. It'll go to Downloads\u001b[0m\u001b[0;34m\u001b[0m\u001b[0;34m\u001b[0m\u001b[0m\n\u001b[0;32m----> 3\u001b[0;31m \u001b[0mpossum\u001b[0m \u001b[0;34m=\u001b[0m \u001b[0mpd\u001b[0m\u001b[0;34m.\u001b[0m\u001b[0mread_csv\u001b[0m\u001b[0;34m(\u001b[0m\u001b[0;34m\"/Users/carol/Downloads/possum.csv\"\u001b[0m\u001b[0;34m)\u001b[0m\u001b[0;34m\u001b[0m\u001b[0;34m\u001b[0m\u001b[0m\n\u001b[0m",
            "\u001b[0;32m/usr/local/lib/python3.11/dist-packages/pandas/io/parsers/readers.py\u001b[0m in \u001b[0;36mread_csv\u001b[0;34m(filepath_or_buffer, sep, delimiter, header, names, index_col, usecols, dtype, engine, converters, true_values, false_values, skipinitialspace, skiprows, skipfooter, nrows, na_values, keep_default_na, na_filter, verbose, skip_blank_lines, parse_dates, infer_datetime_format, keep_date_col, date_parser, date_format, dayfirst, cache_dates, iterator, chunksize, compression, thousands, decimal, lineterminator, quotechar, quoting, doublequote, escapechar, comment, encoding, encoding_errors, dialect, on_bad_lines, delim_whitespace, low_memory, memory_map, float_precision, storage_options, dtype_backend)\u001b[0m\n\u001b[1;32m   1024\u001b[0m     \u001b[0mkwds\u001b[0m\u001b[0;34m.\u001b[0m\u001b[0mupdate\u001b[0m\u001b[0;34m(\u001b[0m\u001b[0mkwds_defaults\u001b[0m\u001b[0;34m)\u001b[0m\u001b[0;34m\u001b[0m\u001b[0;34m\u001b[0m\u001b[0m\n\u001b[1;32m   1025\u001b[0m \u001b[0;34m\u001b[0m\u001b[0m\n\u001b[0;32m-> 1026\u001b[0;31m     \u001b[0;32mreturn\u001b[0m \u001b[0m_read\u001b[0m\u001b[0;34m(\u001b[0m\u001b[0mfilepath_or_buffer\u001b[0m\u001b[0;34m,\u001b[0m \u001b[0mkwds\u001b[0m\u001b[0;34m)\u001b[0m\u001b[0;34m\u001b[0m\u001b[0;34m\u001b[0m\u001b[0m\n\u001b[0m\u001b[1;32m   1027\u001b[0m \u001b[0;34m\u001b[0m\u001b[0m\n\u001b[1;32m   1028\u001b[0m \u001b[0;34m\u001b[0m\u001b[0m\n",
            "\u001b[0;32m/usr/local/lib/python3.11/dist-packages/pandas/io/parsers/readers.py\u001b[0m in \u001b[0;36m_read\u001b[0;34m(filepath_or_buffer, kwds)\u001b[0m\n\u001b[1;32m    618\u001b[0m \u001b[0;34m\u001b[0m\u001b[0m\n\u001b[1;32m    619\u001b[0m     \u001b[0;31m# Create the parser.\u001b[0m\u001b[0;34m\u001b[0m\u001b[0;34m\u001b[0m\u001b[0m\n\u001b[0;32m--> 620\u001b[0;31m     \u001b[0mparser\u001b[0m \u001b[0;34m=\u001b[0m \u001b[0mTextFileReader\u001b[0m\u001b[0;34m(\u001b[0m\u001b[0mfilepath_or_buffer\u001b[0m\u001b[0;34m,\u001b[0m \u001b[0;34m**\u001b[0m\u001b[0mkwds\u001b[0m\u001b[0;34m)\u001b[0m\u001b[0;34m\u001b[0m\u001b[0;34m\u001b[0m\u001b[0m\n\u001b[0m\u001b[1;32m    621\u001b[0m \u001b[0;34m\u001b[0m\u001b[0m\n\u001b[1;32m    622\u001b[0m     \u001b[0;32mif\u001b[0m \u001b[0mchunksize\u001b[0m \u001b[0;32mor\u001b[0m \u001b[0miterator\u001b[0m\u001b[0;34m:\u001b[0m\u001b[0;34m\u001b[0m\u001b[0;34m\u001b[0m\u001b[0m\n",
            "\u001b[0;32m/usr/local/lib/python3.11/dist-packages/pandas/io/parsers/readers.py\u001b[0m in \u001b[0;36m__init__\u001b[0;34m(self, f, engine, **kwds)\u001b[0m\n\u001b[1;32m   1618\u001b[0m \u001b[0;34m\u001b[0m\u001b[0m\n\u001b[1;32m   1619\u001b[0m         \u001b[0mself\u001b[0m\u001b[0;34m.\u001b[0m\u001b[0mhandles\u001b[0m\u001b[0;34m:\u001b[0m \u001b[0mIOHandles\u001b[0m \u001b[0;34m|\u001b[0m \u001b[0;32mNone\u001b[0m \u001b[0;34m=\u001b[0m \u001b[0;32mNone\u001b[0m\u001b[0;34m\u001b[0m\u001b[0;34m\u001b[0m\u001b[0m\n\u001b[0;32m-> 1620\u001b[0;31m         \u001b[0mself\u001b[0m\u001b[0;34m.\u001b[0m\u001b[0m_engine\u001b[0m \u001b[0;34m=\u001b[0m \u001b[0mself\u001b[0m\u001b[0;34m.\u001b[0m\u001b[0m_make_engine\u001b[0m\u001b[0;34m(\u001b[0m\u001b[0mf\u001b[0m\u001b[0;34m,\u001b[0m \u001b[0mself\u001b[0m\u001b[0;34m.\u001b[0m\u001b[0mengine\u001b[0m\u001b[0;34m)\u001b[0m\u001b[0;34m\u001b[0m\u001b[0;34m\u001b[0m\u001b[0m\n\u001b[0m\u001b[1;32m   1621\u001b[0m \u001b[0;34m\u001b[0m\u001b[0m\n\u001b[1;32m   1622\u001b[0m     \u001b[0;32mdef\u001b[0m \u001b[0mclose\u001b[0m\u001b[0;34m(\u001b[0m\u001b[0mself\u001b[0m\u001b[0;34m)\u001b[0m \u001b[0;34m->\u001b[0m \u001b[0;32mNone\u001b[0m\u001b[0;34m:\u001b[0m\u001b[0;34m\u001b[0m\u001b[0;34m\u001b[0m\u001b[0m\n",
            "\u001b[0;32m/usr/local/lib/python3.11/dist-packages/pandas/io/parsers/readers.py\u001b[0m in \u001b[0;36m_make_engine\u001b[0;34m(self, f, engine)\u001b[0m\n\u001b[1;32m   1878\u001b[0m                 \u001b[0;32mif\u001b[0m \u001b[0;34m\"b\"\u001b[0m \u001b[0;32mnot\u001b[0m \u001b[0;32min\u001b[0m \u001b[0mmode\u001b[0m\u001b[0;34m:\u001b[0m\u001b[0;34m\u001b[0m\u001b[0;34m\u001b[0m\u001b[0m\n\u001b[1;32m   1879\u001b[0m                     \u001b[0mmode\u001b[0m \u001b[0;34m+=\u001b[0m \u001b[0;34m\"b\"\u001b[0m\u001b[0;34m\u001b[0m\u001b[0;34m\u001b[0m\u001b[0m\n\u001b[0;32m-> 1880\u001b[0;31m             self.handles = get_handle(\n\u001b[0m\u001b[1;32m   1881\u001b[0m                 \u001b[0mf\u001b[0m\u001b[0;34m,\u001b[0m\u001b[0;34m\u001b[0m\u001b[0;34m\u001b[0m\u001b[0m\n\u001b[1;32m   1882\u001b[0m                 \u001b[0mmode\u001b[0m\u001b[0;34m,\u001b[0m\u001b[0;34m\u001b[0m\u001b[0;34m\u001b[0m\u001b[0m\n",
            "\u001b[0;32m/usr/local/lib/python3.11/dist-packages/pandas/io/common.py\u001b[0m in \u001b[0;36mget_handle\u001b[0;34m(path_or_buf, mode, encoding, compression, memory_map, is_text, errors, storage_options)\u001b[0m\n\u001b[1;32m    871\u001b[0m         \u001b[0;32mif\u001b[0m \u001b[0mioargs\u001b[0m\u001b[0;34m.\u001b[0m\u001b[0mencoding\u001b[0m \u001b[0;32mand\u001b[0m \u001b[0;34m\"b\"\u001b[0m \u001b[0;32mnot\u001b[0m \u001b[0;32min\u001b[0m \u001b[0mioargs\u001b[0m\u001b[0;34m.\u001b[0m\u001b[0mmode\u001b[0m\u001b[0;34m:\u001b[0m\u001b[0;34m\u001b[0m\u001b[0;34m\u001b[0m\u001b[0m\n\u001b[1;32m    872\u001b[0m             \u001b[0;31m# Encoding\u001b[0m\u001b[0;34m\u001b[0m\u001b[0;34m\u001b[0m\u001b[0m\n\u001b[0;32m--> 873\u001b[0;31m             handle = open(\n\u001b[0m\u001b[1;32m    874\u001b[0m                 \u001b[0mhandle\u001b[0m\u001b[0;34m,\u001b[0m\u001b[0;34m\u001b[0m\u001b[0;34m\u001b[0m\u001b[0m\n\u001b[1;32m    875\u001b[0m                 \u001b[0mioargs\u001b[0m\u001b[0;34m.\u001b[0m\u001b[0mmode\u001b[0m\u001b[0;34m,\u001b[0m\u001b[0;34m\u001b[0m\u001b[0;34m\u001b[0m\u001b[0m\n",
            "\u001b[0;31mFileNotFoundError\u001b[0m: [Errno 2] No such file or directory: '/Users/carol/Downloads/possum.csv'"
          ]
        }
      ],
      "source": [
        "# Download the possum file to your computer (available on OWL).\n",
        "# If you don't specify the folder you want to save it. It'll go to Downloads\n",
        "possum = pd.read_csv(\"/Users/carol/Downloads/possum.csv\")"
      ]
    },
    {
      "cell_type": "code",
      "execution_count": 4,
      "id": "86bc796d",
      "metadata": {
        "id": "86bc796d"
      },
      "outputs": [],
      "source": [
        "# If you save the file to the save folder as the Lab.ipynb you don't need to specify the path\n",
        "possum = pd.read_csv(\"possum.csv\")"
      ]
    },
    {
      "cell_type": "markdown",
      "id": "96971084",
      "metadata": {
        "id": "96971084"
      },
      "source": [
        "Make sure to always have a check on the data after reading in the data. By calling the name of the `DataFrame`, Python will either display the whole DataFrame (all rows and column) or if it's too long it will display first and last 5 rows by default"
      ]
    },
    {
      "cell_type": "code",
      "execution_count": 5,
      "id": "6801f094",
      "metadata": {
        "colab": {
          "base_uri": "https://localhost:8080/",
          "height": 1000
        },
        "id": "6801f094",
        "outputId": "b54046c4-c8d5-4b4e-bd71-a64de4309cb2"
      },
      "outputs": [
        {
          "output_type": "execute_result",
          "data": {
            "text/plain": [
              "   sex  age  headL  skullW  totalL  tailL\n",
              "0    m    8   94.1    60.4    89.0   36.0\n",
              "1    f    6   92.5    57.6    91.5   36.5\n",
              "2    f    6   94.0    60.0    95.5   39.0\n",
              "3    f    6   93.2    57.1    92.0   38.0\n",
              "4    f    2   91.5    56.3    85.5   36.0\n",
              "5    f    1   88.3    54.8    90.5   35.5\n",
              "6    m    2   95.3    58.2    89.5   36.0\n",
              "7    f    6   94.8    57.6    91.0   37.0\n",
              "8    f    9   93.4    56.3   120.4   55.3\n",
              "9    f    6   91.8    58.0    89.5   37.5\n",
              "10   f    9   93.3    57.2    89.5   39.0\n",
              "11   f    5   94.9    55.6    92.0   35.5\n",
              "12   m    5   95.1    59.9    89.5   36.0\n",
              "13   m    3   95.4    57.6    91.5   36.0\n",
              "14   m    5   92.9    57.6    85.5   34.0\n",
              "15   m    4   91.6    56.0    86.0   34.5\n",
              "16   f    1   86.3    60.1    89.5   36.5\n",
              "17   m    2   93.5    55.7    90.0   36.0\n",
              "18   f    5   94.4    55.4    90.5   35.0\n",
              "19   f    4   94.8    56.3    89.0   38.0\n",
              "20   f    3   95.9    58.1    96.5   39.5\n",
              "21   m    3   96.3    58.5    91.0   39.5\n",
              "22   f    4   92.5    56.1    89.0   36.0\n",
              "23   m    2   94.4    54.9    84.0   34.0\n",
              "24   m    3   95.8    58.5    91.5   35.5\n",
              "25   m    7   96.0    59.0    90.0   36.0\n",
              "26   f    2   90.5    54.5    85.0   35.0\n",
              "27   m    4   93.8    56.8    87.0   34.5\n",
              "28   f    3   92.8    56.0    88.0   35.0\n",
              "29   f    2   92.1    54.4    84.0   33.5\n",
              "30   m    3   92.8    54.1    93.0   37.0\n",
              "31   f    4   94.3    56.7    94.0   39.0\n",
              "32   m    3   91.4    54.6    89.0   37.0\n",
              "33   m    2   90.6    55.7    85.5   36.5\n",
              "34   m    4   94.4    57.9    85.0   35.5\n",
              "35   m    7   93.3    59.3    88.0   35.0\n",
              "36   f    2   89.3    54.8    82.5   35.0\n",
              "37   m    7   92.4    56.0    80.5   35.5\n",
              "38   f    1   84.7    51.5    75.0   34.0\n",
              "39   f    3   91.0    55.0    84.5   36.0\n",
              "40   f    5   88.4    57.0    83.0   36.5\n",
              "41   m    3   85.3    54.1    77.0   32.0\n",
              "42   f    2   90.0    55.5    81.0   32.0\n",
              "43   m    3   85.1    51.5    76.0   35.5\n",
              "44   m    3   90.7    55.9    81.0   34.0\n",
              "45   m    2   91.4    54.4    84.0   35.0"
            ],
            "text/html": [
              "\n",
              "  <div id=\"df-d00e0b9b-c310-4784-9db0-11746baf6fe1\" class=\"colab-df-container\">\n",
              "    <div>\n",
              "<style scoped>\n",
              "    .dataframe tbody tr th:only-of-type {\n",
              "        vertical-align: middle;\n",
              "    }\n",
              "\n",
              "    .dataframe tbody tr th {\n",
              "        vertical-align: top;\n",
              "    }\n",
              "\n",
              "    .dataframe thead th {\n",
              "        text-align: right;\n",
              "    }\n",
              "</style>\n",
              "<table border=\"1\" class=\"dataframe\">\n",
              "  <thead>\n",
              "    <tr style=\"text-align: right;\">\n",
              "      <th></th>\n",
              "      <th>sex</th>\n",
              "      <th>age</th>\n",
              "      <th>headL</th>\n",
              "      <th>skullW</th>\n",
              "      <th>totalL</th>\n",
              "      <th>tailL</th>\n",
              "    </tr>\n",
              "  </thead>\n",
              "  <tbody>\n",
              "    <tr>\n",
              "      <th>0</th>\n",
              "      <td>m</td>\n",
              "      <td>8</td>\n",
              "      <td>94.1</td>\n",
              "      <td>60.4</td>\n",
              "      <td>89.0</td>\n",
              "      <td>36.0</td>\n",
              "    </tr>\n",
              "    <tr>\n",
              "      <th>1</th>\n",
              "      <td>f</td>\n",
              "      <td>6</td>\n",
              "      <td>92.5</td>\n",
              "      <td>57.6</td>\n",
              "      <td>91.5</td>\n",
              "      <td>36.5</td>\n",
              "    </tr>\n",
              "    <tr>\n",
              "      <th>2</th>\n",
              "      <td>f</td>\n",
              "      <td>6</td>\n",
              "      <td>94.0</td>\n",
              "      <td>60.0</td>\n",
              "      <td>95.5</td>\n",
              "      <td>39.0</td>\n",
              "    </tr>\n",
              "    <tr>\n",
              "      <th>3</th>\n",
              "      <td>f</td>\n",
              "      <td>6</td>\n",
              "      <td>93.2</td>\n",
              "      <td>57.1</td>\n",
              "      <td>92.0</td>\n",
              "      <td>38.0</td>\n",
              "    </tr>\n",
              "    <tr>\n",
              "      <th>4</th>\n",
              "      <td>f</td>\n",
              "      <td>2</td>\n",
              "      <td>91.5</td>\n",
              "      <td>56.3</td>\n",
              "      <td>85.5</td>\n",
              "      <td>36.0</td>\n",
              "    </tr>\n",
              "    <tr>\n",
              "      <th>5</th>\n",
              "      <td>f</td>\n",
              "      <td>1</td>\n",
              "      <td>88.3</td>\n",
              "      <td>54.8</td>\n",
              "      <td>90.5</td>\n",
              "      <td>35.5</td>\n",
              "    </tr>\n",
              "    <tr>\n",
              "      <th>6</th>\n",
              "      <td>m</td>\n",
              "      <td>2</td>\n",
              "      <td>95.3</td>\n",
              "      <td>58.2</td>\n",
              "      <td>89.5</td>\n",
              "      <td>36.0</td>\n",
              "    </tr>\n",
              "    <tr>\n",
              "      <th>7</th>\n",
              "      <td>f</td>\n",
              "      <td>6</td>\n",
              "      <td>94.8</td>\n",
              "      <td>57.6</td>\n",
              "      <td>91.0</td>\n",
              "      <td>37.0</td>\n",
              "    </tr>\n",
              "    <tr>\n",
              "      <th>8</th>\n",
              "      <td>f</td>\n",
              "      <td>9</td>\n",
              "      <td>93.4</td>\n",
              "      <td>56.3</td>\n",
              "      <td>120.4</td>\n",
              "      <td>55.3</td>\n",
              "    </tr>\n",
              "    <tr>\n",
              "      <th>9</th>\n",
              "      <td>f</td>\n",
              "      <td>6</td>\n",
              "      <td>91.8</td>\n",
              "      <td>58.0</td>\n",
              "      <td>89.5</td>\n",
              "      <td>37.5</td>\n",
              "    </tr>\n",
              "    <tr>\n",
              "      <th>10</th>\n",
              "      <td>f</td>\n",
              "      <td>9</td>\n",
              "      <td>93.3</td>\n",
              "      <td>57.2</td>\n",
              "      <td>89.5</td>\n",
              "      <td>39.0</td>\n",
              "    </tr>\n",
              "    <tr>\n",
              "      <th>11</th>\n",
              "      <td>f</td>\n",
              "      <td>5</td>\n",
              "      <td>94.9</td>\n",
              "      <td>55.6</td>\n",
              "      <td>92.0</td>\n",
              "      <td>35.5</td>\n",
              "    </tr>\n",
              "    <tr>\n",
              "      <th>12</th>\n",
              "      <td>m</td>\n",
              "      <td>5</td>\n",
              "      <td>95.1</td>\n",
              "      <td>59.9</td>\n",
              "      <td>89.5</td>\n",
              "      <td>36.0</td>\n",
              "    </tr>\n",
              "    <tr>\n",
              "      <th>13</th>\n",
              "      <td>m</td>\n",
              "      <td>3</td>\n",
              "      <td>95.4</td>\n",
              "      <td>57.6</td>\n",
              "      <td>91.5</td>\n",
              "      <td>36.0</td>\n",
              "    </tr>\n",
              "    <tr>\n",
              "      <th>14</th>\n",
              "      <td>m</td>\n",
              "      <td>5</td>\n",
              "      <td>92.9</td>\n",
              "      <td>57.6</td>\n",
              "      <td>85.5</td>\n",
              "      <td>34.0</td>\n",
              "    </tr>\n",
              "    <tr>\n",
              "      <th>15</th>\n",
              "      <td>m</td>\n",
              "      <td>4</td>\n",
              "      <td>91.6</td>\n",
              "      <td>56.0</td>\n",
              "      <td>86.0</td>\n",
              "      <td>34.5</td>\n",
              "    </tr>\n",
              "    <tr>\n",
              "      <th>16</th>\n",
              "      <td>f</td>\n",
              "      <td>1</td>\n",
              "      <td>86.3</td>\n",
              "      <td>60.1</td>\n",
              "      <td>89.5</td>\n",
              "      <td>36.5</td>\n",
              "    </tr>\n",
              "    <tr>\n",
              "      <th>17</th>\n",
              "      <td>m</td>\n",
              "      <td>2</td>\n",
              "      <td>93.5</td>\n",
              "      <td>55.7</td>\n",
              "      <td>90.0</td>\n",
              "      <td>36.0</td>\n",
              "    </tr>\n",
              "    <tr>\n",
              "      <th>18</th>\n",
              "      <td>f</td>\n",
              "      <td>5</td>\n",
              "      <td>94.4</td>\n",
              "      <td>55.4</td>\n",
              "      <td>90.5</td>\n",
              "      <td>35.0</td>\n",
              "    </tr>\n",
              "    <tr>\n",
              "      <th>19</th>\n",
              "      <td>f</td>\n",
              "      <td>4</td>\n",
              "      <td>94.8</td>\n",
              "      <td>56.3</td>\n",
              "      <td>89.0</td>\n",
              "      <td>38.0</td>\n",
              "    </tr>\n",
              "    <tr>\n",
              "      <th>20</th>\n",
              "      <td>f</td>\n",
              "      <td>3</td>\n",
              "      <td>95.9</td>\n",
              "      <td>58.1</td>\n",
              "      <td>96.5</td>\n",
              "      <td>39.5</td>\n",
              "    </tr>\n",
              "    <tr>\n",
              "      <th>21</th>\n",
              "      <td>m</td>\n",
              "      <td>3</td>\n",
              "      <td>96.3</td>\n",
              "      <td>58.5</td>\n",
              "      <td>91.0</td>\n",
              "      <td>39.5</td>\n",
              "    </tr>\n",
              "    <tr>\n",
              "      <th>22</th>\n",
              "      <td>f</td>\n",
              "      <td>4</td>\n",
              "      <td>92.5</td>\n",
              "      <td>56.1</td>\n",
              "      <td>89.0</td>\n",
              "      <td>36.0</td>\n",
              "    </tr>\n",
              "    <tr>\n",
              "      <th>23</th>\n",
              "      <td>m</td>\n",
              "      <td>2</td>\n",
              "      <td>94.4</td>\n",
              "      <td>54.9</td>\n",
              "      <td>84.0</td>\n",
              "      <td>34.0</td>\n",
              "    </tr>\n",
              "    <tr>\n",
              "      <th>24</th>\n",
              "      <td>m</td>\n",
              "      <td>3</td>\n",
              "      <td>95.8</td>\n",
              "      <td>58.5</td>\n",
              "      <td>91.5</td>\n",
              "      <td>35.5</td>\n",
              "    </tr>\n",
              "    <tr>\n",
              "      <th>25</th>\n",
              "      <td>m</td>\n",
              "      <td>7</td>\n",
              "      <td>96.0</td>\n",
              "      <td>59.0</td>\n",
              "      <td>90.0</td>\n",
              "      <td>36.0</td>\n",
              "    </tr>\n",
              "    <tr>\n",
              "      <th>26</th>\n",
              "      <td>f</td>\n",
              "      <td>2</td>\n",
              "      <td>90.5</td>\n",
              "      <td>54.5</td>\n",
              "      <td>85.0</td>\n",
              "      <td>35.0</td>\n",
              "    </tr>\n",
              "    <tr>\n",
              "      <th>27</th>\n",
              "      <td>m</td>\n",
              "      <td>4</td>\n",
              "      <td>93.8</td>\n",
              "      <td>56.8</td>\n",
              "      <td>87.0</td>\n",
              "      <td>34.5</td>\n",
              "    </tr>\n",
              "    <tr>\n",
              "      <th>28</th>\n",
              "      <td>f</td>\n",
              "      <td>3</td>\n",
              "      <td>92.8</td>\n",
              "      <td>56.0</td>\n",
              "      <td>88.0</td>\n",
              "      <td>35.0</td>\n",
              "    </tr>\n",
              "    <tr>\n",
              "      <th>29</th>\n",
              "      <td>f</td>\n",
              "      <td>2</td>\n",
              "      <td>92.1</td>\n",
              "      <td>54.4</td>\n",
              "      <td>84.0</td>\n",
              "      <td>33.5</td>\n",
              "    </tr>\n",
              "    <tr>\n",
              "      <th>30</th>\n",
              "      <td>m</td>\n",
              "      <td>3</td>\n",
              "      <td>92.8</td>\n",
              "      <td>54.1</td>\n",
              "      <td>93.0</td>\n",
              "      <td>37.0</td>\n",
              "    </tr>\n",
              "    <tr>\n",
              "      <th>31</th>\n",
              "      <td>f</td>\n",
              "      <td>4</td>\n",
              "      <td>94.3</td>\n",
              "      <td>56.7</td>\n",
              "      <td>94.0</td>\n",
              "      <td>39.0</td>\n",
              "    </tr>\n",
              "    <tr>\n",
              "      <th>32</th>\n",
              "      <td>m</td>\n",
              "      <td>3</td>\n",
              "      <td>91.4</td>\n",
              "      <td>54.6</td>\n",
              "      <td>89.0</td>\n",
              "      <td>37.0</td>\n",
              "    </tr>\n",
              "    <tr>\n",
              "      <th>33</th>\n",
              "      <td>m</td>\n",
              "      <td>2</td>\n",
              "      <td>90.6</td>\n",
              "      <td>55.7</td>\n",
              "      <td>85.5</td>\n",
              "      <td>36.5</td>\n",
              "    </tr>\n",
              "    <tr>\n",
              "      <th>34</th>\n",
              "      <td>m</td>\n",
              "      <td>4</td>\n",
              "      <td>94.4</td>\n",
              "      <td>57.9</td>\n",
              "      <td>85.0</td>\n",
              "      <td>35.5</td>\n",
              "    </tr>\n",
              "    <tr>\n",
              "      <th>35</th>\n",
              "      <td>m</td>\n",
              "      <td>7</td>\n",
              "      <td>93.3</td>\n",
              "      <td>59.3</td>\n",
              "      <td>88.0</td>\n",
              "      <td>35.0</td>\n",
              "    </tr>\n",
              "    <tr>\n",
              "      <th>36</th>\n",
              "      <td>f</td>\n",
              "      <td>2</td>\n",
              "      <td>89.3</td>\n",
              "      <td>54.8</td>\n",
              "      <td>82.5</td>\n",
              "      <td>35.0</td>\n",
              "    </tr>\n",
              "    <tr>\n",
              "      <th>37</th>\n",
              "      <td>m</td>\n",
              "      <td>7</td>\n",
              "      <td>92.4</td>\n",
              "      <td>56.0</td>\n",
              "      <td>80.5</td>\n",
              "      <td>35.5</td>\n",
              "    </tr>\n",
              "    <tr>\n",
              "      <th>38</th>\n",
              "      <td>f</td>\n",
              "      <td>1</td>\n",
              "      <td>84.7</td>\n",
              "      <td>51.5</td>\n",
              "      <td>75.0</td>\n",
              "      <td>34.0</td>\n",
              "    </tr>\n",
              "    <tr>\n",
              "      <th>39</th>\n",
              "      <td>f</td>\n",
              "      <td>3</td>\n",
              "      <td>91.0</td>\n",
              "      <td>55.0</td>\n",
              "      <td>84.5</td>\n",
              "      <td>36.0</td>\n",
              "    </tr>\n",
              "    <tr>\n",
              "      <th>40</th>\n",
              "      <td>f</td>\n",
              "      <td>5</td>\n",
              "      <td>88.4</td>\n",
              "      <td>57.0</td>\n",
              "      <td>83.0</td>\n",
              "      <td>36.5</td>\n",
              "    </tr>\n",
              "    <tr>\n",
              "      <th>41</th>\n",
              "      <td>m</td>\n",
              "      <td>3</td>\n",
              "      <td>85.3</td>\n",
              "      <td>54.1</td>\n",
              "      <td>77.0</td>\n",
              "      <td>32.0</td>\n",
              "    </tr>\n",
              "    <tr>\n",
              "      <th>42</th>\n",
              "      <td>f</td>\n",
              "      <td>2</td>\n",
              "      <td>90.0</td>\n",
              "      <td>55.5</td>\n",
              "      <td>81.0</td>\n",
              "      <td>32.0</td>\n",
              "    </tr>\n",
              "    <tr>\n",
              "      <th>43</th>\n",
              "      <td>m</td>\n",
              "      <td>3</td>\n",
              "      <td>85.1</td>\n",
              "      <td>51.5</td>\n",
              "      <td>76.0</td>\n",
              "      <td>35.5</td>\n",
              "    </tr>\n",
              "    <tr>\n",
              "      <th>44</th>\n",
              "      <td>m</td>\n",
              "      <td>3</td>\n",
              "      <td>90.7</td>\n",
              "      <td>55.9</td>\n",
              "      <td>81.0</td>\n",
              "      <td>34.0</td>\n",
              "    </tr>\n",
              "    <tr>\n",
              "      <th>45</th>\n",
              "      <td>m</td>\n",
              "      <td>2</td>\n",
              "      <td>91.4</td>\n",
              "      <td>54.4</td>\n",
              "      <td>84.0</td>\n",
              "      <td>35.0</td>\n",
              "    </tr>\n",
              "  </tbody>\n",
              "</table>\n",
              "</div>\n",
              "    <div class=\"colab-df-buttons\">\n",
              "\n",
              "  <div class=\"colab-df-container\">\n",
              "    <button class=\"colab-df-convert\" onclick=\"convertToInteractive('df-d00e0b9b-c310-4784-9db0-11746baf6fe1')\"\n",
              "            title=\"Convert this dataframe to an interactive table.\"\n",
              "            style=\"display:none;\">\n",
              "\n",
              "  <svg xmlns=\"http://www.w3.org/2000/svg\" height=\"24px\" viewBox=\"0 -960 960 960\">\n",
              "    <path d=\"M120-120v-720h720v720H120Zm60-500h600v-160H180v160Zm220 220h160v-160H400v160Zm0 220h160v-160H400v160ZM180-400h160v-160H180v160Zm440 0h160v-160H620v160ZM180-180h160v-160H180v160Zm440 0h160v-160H620v160Z\"/>\n",
              "  </svg>\n",
              "    </button>\n",
              "\n",
              "  <style>\n",
              "    .colab-df-container {\n",
              "      display:flex;\n",
              "      gap: 12px;\n",
              "    }\n",
              "\n",
              "    .colab-df-convert {\n",
              "      background-color: #E8F0FE;\n",
              "      border: none;\n",
              "      border-radius: 50%;\n",
              "      cursor: pointer;\n",
              "      display: none;\n",
              "      fill: #1967D2;\n",
              "      height: 32px;\n",
              "      padding: 0 0 0 0;\n",
              "      width: 32px;\n",
              "    }\n",
              "\n",
              "    .colab-df-convert:hover {\n",
              "      background-color: #E2EBFA;\n",
              "      box-shadow: 0px 1px 2px rgba(60, 64, 67, 0.3), 0px 1px 3px 1px rgba(60, 64, 67, 0.15);\n",
              "      fill: #174EA6;\n",
              "    }\n",
              "\n",
              "    .colab-df-buttons div {\n",
              "      margin-bottom: 4px;\n",
              "    }\n",
              "\n",
              "    [theme=dark] .colab-df-convert {\n",
              "      background-color: #3B4455;\n",
              "      fill: #D2E3FC;\n",
              "    }\n",
              "\n",
              "    [theme=dark] .colab-df-convert:hover {\n",
              "      background-color: #434B5C;\n",
              "      box-shadow: 0px 1px 3px 1px rgba(0, 0, 0, 0.15);\n",
              "      filter: drop-shadow(0px 1px 2px rgba(0, 0, 0, 0.3));\n",
              "      fill: #FFFFFF;\n",
              "    }\n",
              "  </style>\n",
              "\n",
              "    <script>\n",
              "      const buttonEl =\n",
              "        document.querySelector('#df-d00e0b9b-c310-4784-9db0-11746baf6fe1 button.colab-df-convert');\n",
              "      buttonEl.style.display =\n",
              "        google.colab.kernel.accessAllowed ? 'block' : 'none';\n",
              "\n",
              "      async function convertToInteractive(key) {\n",
              "        const element = document.querySelector('#df-d00e0b9b-c310-4784-9db0-11746baf6fe1');\n",
              "        const dataTable =\n",
              "          await google.colab.kernel.invokeFunction('convertToInteractive',\n",
              "                                                    [key], {});\n",
              "        if (!dataTable) return;\n",
              "\n",
              "        const docLinkHtml = 'Like what you see? Visit the ' +\n",
              "          '<a target=\"_blank\" href=https://colab.research.google.com/notebooks/data_table.ipynb>data table notebook</a>'\n",
              "          + ' to learn more about interactive tables.';\n",
              "        element.innerHTML = '';\n",
              "        dataTable['output_type'] = 'display_data';\n",
              "        await google.colab.output.renderOutput(dataTable, element);\n",
              "        const docLink = document.createElement('div');\n",
              "        docLink.innerHTML = docLinkHtml;\n",
              "        element.appendChild(docLink);\n",
              "      }\n",
              "    </script>\n",
              "  </div>\n",
              "\n",
              "\n",
              "<div id=\"df-ed3c36ff-f479-4770-b30b-f0b17315c7a5\">\n",
              "  <button class=\"colab-df-quickchart\" onclick=\"quickchart('df-ed3c36ff-f479-4770-b30b-f0b17315c7a5')\"\n",
              "            title=\"Suggest charts\"\n",
              "            style=\"display:none;\">\n",
              "\n",
              "<svg xmlns=\"http://www.w3.org/2000/svg\" height=\"24px\"viewBox=\"0 0 24 24\"\n",
              "     width=\"24px\">\n",
              "    <g>\n",
              "        <path d=\"M19 3H5c-1.1 0-2 .9-2 2v14c0 1.1.9 2 2 2h14c1.1 0 2-.9 2-2V5c0-1.1-.9-2-2-2zM9 17H7v-7h2v7zm4 0h-2V7h2v10zm4 0h-2v-4h2v4z\"/>\n",
              "    </g>\n",
              "</svg>\n",
              "  </button>\n",
              "\n",
              "<style>\n",
              "  .colab-df-quickchart {\n",
              "      --bg-color: #E8F0FE;\n",
              "      --fill-color: #1967D2;\n",
              "      --hover-bg-color: #E2EBFA;\n",
              "      --hover-fill-color: #174EA6;\n",
              "      --disabled-fill-color: #AAA;\n",
              "      --disabled-bg-color: #DDD;\n",
              "  }\n",
              "\n",
              "  [theme=dark] .colab-df-quickchart {\n",
              "      --bg-color: #3B4455;\n",
              "      --fill-color: #D2E3FC;\n",
              "      --hover-bg-color: #434B5C;\n",
              "      --hover-fill-color: #FFFFFF;\n",
              "      --disabled-bg-color: #3B4455;\n",
              "      --disabled-fill-color: #666;\n",
              "  }\n",
              "\n",
              "  .colab-df-quickchart {\n",
              "    background-color: var(--bg-color);\n",
              "    border: none;\n",
              "    border-radius: 50%;\n",
              "    cursor: pointer;\n",
              "    display: none;\n",
              "    fill: var(--fill-color);\n",
              "    height: 32px;\n",
              "    padding: 0;\n",
              "    width: 32px;\n",
              "  }\n",
              "\n",
              "  .colab-df-quickchart:hover {\n",
              "    background-color: var(--hover-bg-color);\n",
              "    box-shadow: 0 1px 2px rgba(60, 64, 67, 0.3), 0 1px 3px 1px rgba(60, 64, 67, 0.15);\n",
              "    fill: var(--button-hover-fill-color);\n",
              "  }\n",
              "\n",
              "  .colab-df-quickchart-complete:disabled,\n",
              "  .colab-df-quickchart-complete:disabled:hover {\n",
              "    background-color: var(--disabled-bg-color);\n",
              "    fill: var(--disabled-fill-color);\n",
              "    box-shadow: none;\n",
              "  }\n",
              "\n",
              "  .colab-df-spinner {\n",
              "    border: 2px solid var(--fill-color);\n",
              "    border-color: transparent;\n",
              "    border-bottom-color: var(--fill-color);\n",
              "    animation:\n",
              "      spin 1s steps(1) infinite;\n",
              "  }\n",
              "\n",
              "  @keyframes spin {\n",
              "    0% {\n",
              "      border-color: transparent;\n",
              "      border-bottom-color: var(--fill-color);\n",
              "      border-left-color: var(--fill-color);\n",
              "    }\n",
              "    20% {\n",
              "      border-color: transparent;\n",
              "      border-left-color: var(--fill-color);\n",
              "      border-top-color: var(--fill-color);\n",
              "    }\n",
              "    30% {\n",
              "      border-color: transparent;\n",
              "      border-left-color: var(--fill-color);\n",
              "      border-top-color: var(--fill-color);\n",
              "      border-right-color: var(--fill-color);\n",
              "    }\n",
              "    40% {\n",
              "      border-color: transparent;\n",
              "      border-right-color: var(--fill-color);\n",
              "      border-top-color: var(--fill-color);\n",
              "    }\n",
              "    60% {\n",
              "      border-color: transparent;\n",
              "      border-right-color: var(--fill-color);\n",
              "    }\n",
              "    80% {\n",
              "      border-color: transparent;\n",
              "      border-right-color: var(--fill-color);\n",
              "      border-bottom-color: var(--fill-color);\n",
              "    }\n",
              "    90% {\n",
              "      border-color: transparent;\n",
              "      border-bottom-color: var(--fill-color);\n",
              "    }\n",
              "  }\n",
              "</style>\n",
              "\n",
              "  <script>\n",
              "    async function quickchart(key) {\n",
              "      const quickchartButtonEl =\n",
              "        document.querySelector('#' + key + ' button');\n",
              "      quickchartButtonEl.disabled = true;  // To prevent multiple clicks.\n",
              "      quickchartButtonEl.classList.add('colab-df-spinner');\n",
              "      try {\n",
              "        const charts = await google.colab.kernel.invokeFunction(\n",
              "            'suggestCharts', [key], {});\n",
              "      } catch (error) {\n",
              "        console.error('Error during call to suggestCharts:', error);\n",
              "      }\n",
              "      quickchartButtonEl.classList.remove('colab-df-spinner');\n",
              "      quickchartButtonEl.classList.add('colab-df-quickchart-complete');\n",
              "    }\n",
              "    (() => {\n",
              "      let quickchartButtonEl =\n",
              "        document.querySelector('#df-ed3c36ff-f479-4770-b30b-f0b17315c7a5 button');\n",
              "      quickchartButtonEl.style.display =\n",
              "        google.colab.kernel.accessAllowed ? 'block' : 'none';\n",
              "    })();\n",
              "  </script>\n",
              "</div>\n",
              "\n",
              "  <div id=\"id_bb082485-fbc2-4ef1-b240-b542940570fa\">\n",
              "    <style>\n",
              "      .colab-df-generate {\n",
              "        background-color: #E8F0FE;\n",
              "        border: none;\n",
              "        border-radius: 50%;\n",
              "        cursor: pointer;\n",
              "        display: none;\n",
              "        fill: #1967D2;\n",
              "        height: 32px;\n",
              "        padding: 0 0 0 0;\n",
              "        width: 32px;\n",
              "      }\n",
              "\n",
              "      .colab-df-generate:hover {\n",
              "        background-color: #E2EBFA;\n",
              "        box-shadow: 0px 1px 2px rgba(60, 64, 67, 0.3), 0px 1px 3px 1px rgba(60, 64, 67, 0.15);\n",
              "        fill: #174EA6;\n",
              "      }\n",
              "\n",
              "      [theme=dark] .colab-df-generate {\n",
              "        background-color: #3B4455;\n",
              "        fill: #D2E3FC;\n",
              "      }\n",
              "\n",
              "      [theme=dark] .colab-df-generate:hover {\n",
              "        background-color: #434B5C;\n",
              "        box-shadow: 0px 1px 3px 1px rgba(0, 0, 0, 0.15);\n",
              "        filter: drop-shadow(0px 1px 2px rgba(0, 0, 0, 0.3));\n",
              "        fill: #FFFFFF;\n",
              "      }\n",
              "    </style>\n",
              "    <button class=\"colab-df-generate\" onclick=\"generateWithVariable('possum')\"\n",
              "            title=\"Generate code using this dataframe.\"\n",
              "            style=\"display:none;\">\n",
              "\n",
              "  <svg xmlns=\"http://www.w3.org/2000/svg\" height=\"24px\"viewBox=\"0 0 24 24\"\n",
              "       width=\"24px\">\n",
              "    <path d=\"M7,19H8.4L18.45,9,17,7.55,7,17.6ZM5,21V16.75L18.45,3.32a2,2,0,0,1,2.83,0l1.4,1.43a1.91,1.91,0,0,1,.58,1.4,1.91,1.91,0,0,1-.58,1.4L9.25,21ZM18.45,9,17,7.55Zm-12,3A5.31,5.31,0,0,0,4.9,8.1,5.31,5.31,0,0,0,1,6.5,5.31,5.31,0,0,0,4.9,4.9,5.31,5.31,0,0,0,6.5,1,5.31,5.31,0,0,0,8.1,4.9,5.31,5.31,0,0,0,12,6.5,5.46,5.46,0,0,0,6.5,12Z\"/>\n",
              "  </svg>\n",
              "    </button>\n",
              "    <script>\n",
              "      (() => {\n",
              "      const buttonEl =\n",
              "        document.querySelector('#id_bb082485-fbc2-4ef1-b240-b542940570fa button.colab-df-generate');\n",
              "      buttonEl.style.display =\n",
              "        google.colab.kernel.accessAllowed ? 'block' : 'none';\n",
              "\n",
              "      buttonEl.onclick = () => {\n",
              "        google.colab.notebook.generateWithVariable('possum');\n",
              "      }\n",
              "      })();\n",
              "    </script>\n",
              "  </div>\n",
              "\n",
              "    </div>\n",
              "  </div>\n"
            ],
            "application/vnd.google.colaboratory.intrinsic+json": {
              "type": "dataframe",
              "variable_name": "possum",
              "summary": "{\n  \"name\": \"possum\",\n  \"rows\": 46,\n  \"fields\": [\n    {\n      \"column\": \"sex\",\n      \"properties\": {\n        \"dtype\": \"category\",\n        \"num_unique_values\": 2,\n        \"samples\": [\n          \"f\",\n          \"m\"\n        ],\n        \"semantic_type\": \"\",\n        \"description\": \"\"\n      }\n    },\n    {\n      \"column\": \"age\",\n      \"properties\": {\n        \"dtype\": \"number\",\n        \"std\": 2,\n        \"min\": 1,\n        \"max\": 9,\n        \"num_unique_values\": 9,\n        \"samples\": [\n          4,\n          6\n        ],\n        \"semantic_type\": \"\",\n        \"description\": \"\"\n      }\n    },\n    {\n      \"column\": \"headL\",\n      \"properties\": {\n        \"dtype\": \"number\",\n        \"std\": 2.929332746234926,\n        \"min\": 84.7,\n        \"max\": 96.3,\n        \"num_unique_values\": 39,\n        \"samples\": [\n          91.0,\n          90.0\n        ],\n        \"semantic_type\": \"\",\n        \"description\": \"\"\n      }\n    },\n    {\n      \"column\": \"skullW\",\n      \"properties\": {\n        \"dtype\": \"number\",\n        \"std\": 2.0222350957810757,\n        \"min\": 51.5,\n        \"max\": 60.4,\n        \"num_unique_values\": 33,\n        \"samples\": [\n          55.5,\n          58.1\n        ],\n        \"semantic_type\": \"\",\n        \"description\": \"\"\n      }\n    },\n    {\n      \"column\": \"totalL\",\n      \"properties\": {\n        \"dtype\": \"number\",\n        \"std\": 6.842415315003554,\n        \"min\": 75.0,\n        \"max\": 120.4,\n        \"num_unique_values\": 26,\n        \"samples\": [\n          120.4,\n          93.0\n        ],\n        \"semantic_type\": \"\",\n        \"description\": \"\"\n      }\n    },\n    {\n      \"column\": \"tailL\",\n      \"properties\": {\n        \"dtype\": \"number\",\n        \"std\": 3.331336358335368,\n        \"min\": 32.0,\n        \"max\": 55.3,\n        \"num_unique_values\": 14,\n        \"samples\": [\n          34.5,\n          39.5\n        ],\n        \"semantic_type\": \"\",\n        \"description\": \"\"\n      }\n    }\n  ]\n}"
            }
          },
          "metadata": {},
          "execution_count": 5
        }
      ],
      "source": [
        "possum"
      ]
    },
    {
      "cell_type": "markdown",
      "id": "a331091f",
      "metadata": {
        "id": "a331091f"
      },
      "source": [
        "To see the first `n` rows of a `DataFrame`, use the `name_of_the_data.head(n)` method with the required number of rows as argument. If you want to see the last `m` rows use `.tail(m)`."
      ]
    },
    {
      "cell_type": "code",
      "execution_count": 10,
      "id": "24dad117",
      "metadata": {
        "colab": {
          "base_uri": "https://localhost:8080/",
          "height": 363
        },
        "id": "24dad117",
        "outputId": "8fe3e7d8-c333-43b3-82ce-0f19949dee2d"
      },
      "outputs": [
        {
          "output_type": "execute_result",
          "data": {
            "text/plain": [
              "  sex  age  headL  skullW  totalL  tailL\n",
              "0   m    8   94.1    60.4    89.0   36.0\n",
              "1   f    6   92.5    57.6    91.5   36.5\n",
              "2   f    6   94.0    60.0    95.5   39.0\n",
              "3   f    6   93.2    57.1    92.0   38.0\n",
              "4   f    2   91.5    56.3    85.5   36.0\n",
              "5   f    1   88.3    54.8    90.5   35.5\n",
              "6   m    2   95.3    58.2    89.5   36.0\n",
              "7   f    6   94.8    57.6    91.0   37.0\n",
              "8   f    9   93.4    56.3   120.4   55.3\n",
              "9   f    6   91.8    58.0    89.5   37.5"
            ],
            "text/html": [
              "\n",
              "  <div id=\"df-acb0d4d4-21c4-4b96-8caa-5be19c8583cc\" class=\"colab-df-container\">\n",
              "    <div>\n",
              "<style scoped>\n",
              "    .dataframe tbody tr th:only-of-type {\n",
              "        vertical-align: middle;\n",
              "    }\n",
              "\n",
              "    .dataframe tbody tr th {\n",
              "        vertical-align: top;\n",
              "    }\n",
              "\n",
              "    .dataframe thead th {\n",
              "        text-align: right;\n",
              "    }\n",
              "</style>\n",
              "<table border=\"1\" class=\"dataframe\">\n",
              "  <thead>\n",
              "    <tr style=\"text-align: right;\">\n",
              "      <th></th>\n",
              "      <th>sex</th>\n",
              "      <th>age</th>\n",
              "      <th>headL</th>\n",
              "      <th>skullW</th>\n",
              "      <th>totalL</th>\n",
              "      <th>tailL</th>\n",
              "    </tr>\n",
              "  </thead>\n",
              "  <tbody>\n",
              "    <tr>\n",
              "      <th>0</th>\n",
              "      <td>m</td>\n",
              "      <td>8</td>\n",
              "      <td>94.1</td>\n",
              "      <td>60.4</td>\n",
              "      <td>89.0</td>\n",
              "      <td>36.0</td>\n",
              "    </tr>\n",
              "    <tr>\n",
              "      <th>1</th>\n",
              "      <td>f</td>\n",
              "      <td>6</td>\n",
              "      <td>92.5</td>\n",
              "      <td>57.6</td>\n",
              "      <td>91.5</td>\n",
              "      <td>36.5</td>\n",
              "    </tr>\n",
              "    <tr>\n",
              "      <th>2</th>\n",
              "      <td>f</td>\n",
              "      <td>6</td>\n",
              "      <td>94.0</td>\n",
              "      <td>60.0</td>\n",
              "      <td>95.5</td>\n",
              "      <td>39.0</td>\n",
              "    </tr>\n",
              "    <tr>\n",
              "      <th>3</th>\n",
              "      <td>f</td>\n",
              "      <td>6</td>\n",
              "      <td>93.2</td>\n",
              "      <td>57.1</td>\n",
              "      <td>92.0</td>\n",
              "      <td>38.0</td>\n",
              "    </tr>\n",
              "    <tr>\n",
              "      <th>4</th>\n",
              "      <td>f</td>\n",
              "      <td>2</td>\n",
              "      <td>91.5</td>\n",
              "      <td>56.3</td>\n",
              "      <td>85.5</td>\n",
              "      <td>36.0</td>\n",
              "    </tr>\n",
              "    <tr>\n",
              "      <th>5</th>\n",
              "      <td>f</td>\n",
              "      <td>1</td>\n",
              "      <td>88.3</td>\n",
              "      <td>54.8</td>\n",
              "      <td>90.5</td>\n",
              "      <td>35.5</td>\n",
              "    </tr>\n",
              "    <tr>\n",
              "      <th>6</th>\n",
              "      <td>m</td>\n",
              "      <td>2</td>\n",
              "      <td>95.3</td>\n",
              "      <td>58.2</td>\n",
              "      <td>89.5</td>\n",
              "      <td>36.0</td>\n",
              "    </tr>\n",
              "    <tr>\n",
              "      <th>7</th>\n",
              "      <td>f</td>\n",
              "      <td>6</td>\n",
              "      <td>94.8</td>\n",
              "      <td>57.6</td>\n",
              "      <td>91.0</td>\n",
              "      <td>37.0</td>\n",
              "    </tr>\n",
              "    <tr>\n",
              "      <th>8</th>\n",
              "      <td>f</td>\n",
              "      <td>9</td>\n",
              "      <td>93.4</td>\n",
              "      <td>56.3</td>\n",
              "      <td>120.4</td>\n",
              "      <td>55.3</td>\n",
              "    </tr>\n",
              "    <tr>\n",
              "      <th>9</th>\n",
              "      <td>f</td>\n",
              "      <td>6</td>\n",
              "      <td>91.8</td>\n",
              "      <td>58.0</td>\n",
              "      <td>89.5</td>\n",
              "      <td>37.5</td>\n",
              "    </tr>\n",
              "  </tbody>\n",
              "</table>\n",
              "</div>\n",
              "    <div class=\"colab-df-buttons\">\n",
              "\n",
              "  <div class=\"colab-df-container\">\n",
              "    <button class=\"colab-df-convert\" onclick=\"convertToInteractive('df-acb0d4d4-21c4-4b96-8caa-5be19c8583cc')\"\n",
              "            title=\"Convert this dataframe to an interactive table.\"\n",
              "            style=\"display:none;\">\n",
              "\n",
              "  <svg xmlns=\"http://www.w3.org/2000/svg\" height=\"24px\" viewBox=\"0 -960 960 960\">\n",
              "    <path d=\"M120-120v-720h720v720H120Zm60-500h600v-160H180v160Zm220 220h160v-160H400v160Zm0 220h160v-160H400v160ZM180-400h160v-160H180v160Zm440 0h160v-160H620v160ZM180-180h160v-160H180v160Zm440 0h160v-160H620v160Z\"/>\n",
              "  </svg>\n",
              "    </button>\n",
              "\n",
              "  <style>\n",
              "    .colab-df-container {\n",
              "      display:flex;\n",
              "      gap: 12px;\n",
              "    }\n",
              "\n",
              "    .colab-df-convert {\n",
              "      background-color: #E8F0FE;\n",
              "      border: none;\n",
              "      border-radius: 50%;\n",
              "      cursor: pointer;\n",
              "      display: none;\n",
              "      fill: #1967D2;\n",
              "      height: 32px;\n",
              "      padding: 0 0 0 0;\n",
              "      width: 32px;\n",
              "    }\n",
              "\n",
              "    .colab-df-convert:hover {\n",
              "      background-color: #E2EBFA;\n",
              "      box-shadow: 0px 1px 2px rgba(60, 64, 67, 0.3), 0px 1px 3px 1px rgba(60, 64, 67, 0.15);\n",
              "      fill: #174EA6;\n",
              "    }\n",
              "\n",
              "    .colab-df-buttons div {\n",
              "      margin-bottom: 4px;\n",
              "    }\n",
              "\n",
              "    [theme=dark] .colab-df-convert {\n",
              "      background-color: #3B4455;\n",
              "      fill: #D2E3FC;\n",
              "    }\n",
              "\n",
              "    [theme=dark] .colab-df-convert:hover {\n",
              "      background-color: #434B5C;\n",
              "      box-shadow: 0px 1px 3px 1px rgba(0, 0, 0, 0.15);\n",
              "      filter: drop-shadow(0px 1px 2px rgba(0, 0, 0, 0.3));\n",
              "      fill: #FFFFFF;\n",
              "    }\n",
              "  </style>\n",
              "\n",
              "    <script>\n",
              "      const buttonEl =\n",
              "        document.querySelector('#df-acb0d4d4-21c4-4b96-8caa-5be19c8583cc button.colab-df-convert');\n",
              "      buttonEl.style.display =\n",
              "        google.colab.kernel.accessAllowed ? 'block' : 'none';\n",
              "\n",
              "      async function convertToInteractive(key) {\n",
              "        const element = document.querySelector('#df-acb0d4d4-21c4-4b96-8caa-5be19c8583cc');\n",
              "        const dataTable =\n",
              "          await google.colab.kernel.invokeFunction('convertToInteractive',\n",
              "                                                    [key], {});\n",
              "        if (!dataTable) return;\n",
              "\n",
              "        const docLinkHtml = 'Like what you see? Visit the ' +\n",
              "          '<a target=\"_blank\" href=https://colab.research.google.com/notebooks/data_table.ipynb>data table notebook</a>'\n",
              "          + ' to learn more about interactive tables.';\n",
              "        element.innerHTML = '';\n",
              "        dataTable['output_type'] = 'display_data';\n",
              "        await google.colab.output.renderOutput(dataTable, element);\n",
              "        const docLink = document.createElement('div');\n",
              "        docLink.innerHTML = docLinkHtml;\n",
              "        element.appendChild(docLink);\n",
              "      }\n",
              "    </script>\n",
              "  </div>\n",
              "\n",
              "\n",
              "<div id=\"df-9cabcaaf-a798-4fb3-b2d8-984aafcf3c52\">\n",
              "  <button class=\"colab-df-quickchart\" onclick=\"quickchart('df-9cabcaaf-a798-4fb3-b2d8-984aafcf3c52')\"\n",
              "            title=\"Suggest charts\"\n",
              "            style=\"display:none;\">\n",
              "\n",
              "<svg xmlns=\"http://www.w3.org/2000/svg\" height=\"24px\"viewBox=\"0 0 24 24\"\n",
              "     width=\"24px\">\n",
              "    <g>\n",
              "        <path d=\"M19 3H5c-1.1 0-2 .9-2 2v14c0 1.1.9 2 2 2h14c1.1 0 2-.9 2-2V5c0-1.1-.9-2-2-2zM9 17H7v-7h2v7zm4 0h-2V7h2v10zm4 0h-2v-4h2v4z\"/>\n",
              "    </g>\n",
              "</svg>\n",
              "  </button>\n",
              "\n",
              "<style>\n",
              "  .colab-df-quickchart {\n",
              "      --bg-color: #E8F0FE;\n",
              "      --fill-color: #1967D2;\n",
              "      --hover-bg-color: #E2EBFA;\n",
              "      --hover-fill-color: #174EA6;\n",
              "      --disabled-fill-color: #AAA;\n",
              "      --disabled-bg-color: #DDD;\n",
              "  }\n",
              "\n",
              "  [theme=dark] .colab-df-quickchart {\n",
              "      --bg-color: #3B4455;\n",
              "      --fill-color: #D2E3FC;\n",
              "      --hover-bg-color: #434B5C;\n",
              "      --hover-fill-color: #FFFFFF;\n",
              "      --disabled-bg-color: #3B4455;\n",
              "      --disabled-fill-color: #666;\n",
              "  }\n",
              "\n",
              "  .colab-df-quickchart {\n",
              "    background-color: var(--bg-color);\n",
              "    border: none;\n",
              "    border-radius: 50%;\n",
              "    cursor: pointer;\n",
              "    display: none;\n",
              "    fill: var(--fill-color);\n",
              "    height: 32px;\n",
              "    padding: 0;\n",
              "    width: 32px;\n",
              "  }\n",
              "\n",
              "  .colab-df-quickchart:hover {\n",
              "    background-color: var(--hover-bg-color);\n",
              "    box-shadow: 0 1px 2px rgba(60, 64, 67, 0.3), 0 1px 3px 1px rgba(60, 64, 67, 0.15);\n",
              "    fill: var(--button-hover-fill-color);\n",
              "  }\n",
              "\n",
              "  .colab-df-quickchart-complete:disabled,\n",
              "  .colab-df-quickchart-complete:disabled:hover {\n",
              "    background-color: var(--disabled-bg-color);\n",
              "    fill: var(--disabled-fill-color);\n",
              "    box-shadow: none;\n",
              "  }\n",
              "\n",
              "  .colab-df-spinner {\n",
              "    border: 2px solid var(--fill-color);\n",
              "    border-color: transparent;\n",
              "    border-bottom-color: var(--fill-color);\n",
              "    animation:\n",
              "      spin 1s steps(1) infinite;\n",
              "  }\n",
              "\n",
              "  @keyframes spin {\n",
              "    0% {\n",
              "      border-color: transparent;\n",
              "      border-bottom-color: var(--fill-color);\n",
              "      border-left-color: var(--fill-color);\n",
              "    }\n",
              "    20% {\n",
              "      border-color: transparent;\n",
              "      border-left-color: var(--fill-color);\n",
              "      border-top-color: var(--fill-color);\n",
              "    }\n",
              "    30% {\n",
              "      border-color: transparent;\n",
              "      border-left-color: var(--fill-color);\n",
              "      border-top-color: var(--fill-color);\n",
              "      border-right-color: var(--fill-color);\n",
              "    }\n",
              "    40% {\n",
              "      border-color: transparent;\n",
              "      border-right-color: var(--fill-color);\n",
              "      border-top-color: var(--fill-color);\n",
              "    }\n",
              "    60% {\n",
              "      border-color: transparent;\n",
              "      border-right-color: var(--fill-color);\n",
              "    }\n",
              "    80% {\n",
              "      border-color: transparent;\n",
              "      border-right-color: var(--fill-color);\n",
              "      border-bottom-color: var(--fill-color);\n",
              "    }\n",
              "    90% {\n",
              "      border-color: transparent;\n",
              "      border-bottom-color: var(--fill-color);\n",
              "    }\n",
              "  }\n",
              "</style>\n",
              "\n",
              "  <script>\n",
              "    async function quickchart(key) {\n",
              "      const quickchartButtonEl =\n",
              "        document.querySelector('#' + key + ' button');\n",
              "      quickchartButtonEl.disabled = true;  // To prevent multiple clicks.\n",
              "      quickchartButtonEl.classList.add('colab-df-spinner');\n",
              "      try {\n",
              "        const charts = await google.colab.kernel.invokeFunction(\n",
              "            'suggestCharts', [key], {});\n",
              "      } catch (error) {\n",
              "        console.error('Error during call to suggestCharts:', error);\n",
              "      }\n",
              "      quickchartButtonEl.classList.remove('colab-df-spinner');\n",
              "      quickchartButtonEl.classList.add('colab-df-quickchart-complete');\n",
              "    }\n",
              "    (() => {\n",
              "      let quickchartButtonEl =\n",
              "        document.querySelector('#df-9cabcaaf-a798-4fb3-b2d8-984aafcf3c52 button');\n",
              "      quickchartButtonEl.style.display =\n",
              "        google.colab.kernel.accessAllowed ? 'block' : 'none';\n",
              "    })();\n",
              "  </script>\n",
              "</div>\n",
              "\n",
              "    </div>\n",
              "  </div>\n"
            ],
            "application/vnd.google.colaboratory.intrinsic+json": {
              "type": "dataframe",
              "variable_name": "possum",
              "summary": "{\n  \"name\": \"possum\",\n  \"rows\": 46,\n  \"fields\": [\n    {\n      \"column\": \"sex\",\n      \"properties\": {\n        \"dtype\": \"category\",\n        \"num_unique_values\": 2,\n        \"samples\": [\n          \"f\",\n          \"m\"\n        ],\n        \"semantic_type\": \"\",\n        \"description\": \"\"\n      }\n    },\n    {\n      \"column\": \"age\",\n      \"properties\": {\n        \"dtype\": \"number\",\n        \"std\": 2,\n        \"min\": 1,\n        \"max\": 9,\n        \"num_unique_values\": 9,\n        \"samples\": [\n          4,\n          6\n        ],\n        \"semantic_type\": \"\",\n        \"description\": \"\"\n      }\n    },\n    {\n      \"column\": \"headL\",\n      \"properties\": {\n        \"dtype\": \"number\",\n        \"std\": 2.929332746234926,\n        \"min\": 84.7,\n        \"max\": 96.3,\n        \"num_unique_values\": 39,\n        \"samples\": [\n          91.0,\n          90.0\n        ],\n        \"semantic_type\": \"\",\n        \"description\": \"\"\n      }\n    },\n    {\n      \"column\": \"skullW\",\n      \"properties\": {\n        \"dtype\": \"number\",\n        \"std\": 2.0222350957810757,\n        \"min\": 51.5,\n        \"max\": 60.4,\n        \"num_unique_values\": 33,\n        \"samples\": [\n          55.5,\n          58.1\n        ],\n        \"semantic_type\": \"\",\n        \"description\": \"\"\n      }\n    },\n    {\n      \"column\": \"totalL\",\n      \"properties\": {\n        \"dtype\": \"number\",\n        \"std\": 6.842415315003554,\n        \"min\": 75.0,\n        \"max\": 120.4,\n        \"num_unique_values\": 26,\n        \"samples\": [\n          120.4,\n          93.0\n        ],\n        \"semantic_type\": \"\",\n        \"description\": \"\"\n      }\n    },\n    {\n      \"column\": \"tailL\",\n      \"properties\": {\n        \"dtype\": \"number\",\n        \"std\": 3.331336358335368,\n        \"min\": 32.0,\n        \"max\": 55.3,\n        \"num_unique_values\": 14,\n        \"samples\": [\n          34.5,\n          39.5\n        ],\n        \"semantic_type\": \"\",\n        \"description\": \"\"\n      }\n    }\n  ]\n}"
            }
          },
          "metadata": {},
          "execution_count": 10
        }
      ],
      "source": [
        "# Display the first 10 rows in the DataFrame using head method\n",
        "possum.head(10)"
      ]
    },
    {
      "cell_type": "markdown",
      "id": "d37df30d",
      "metadata": {
        "id": "d37df30d"
      },
      "source": [
        "**Pratice:** Using `.tail()` displays the last 5 rows of the DataFrame"
      ]
    },
    {
      "cell_type": "code",
      "execution_count": 11,
      "id": "27bd31f3",
      "metadata": {
        "colab": {
          "base_uri": "https://localhost:8080/",
          "height": 206
        },
        "id": "27bd31f3",
        "outputId": "7fe63496-2d8e-4e7d-8f25-fe6165b2a864"
      },
      "outputs": [
        {
          "output_type": "execute_result",
          "data": {
            "text/plain": [
              "   sex  age  headL  skullW  totalL  tailL\n",
              "41   m    3   85.3    54.1    77.0   32.0\n",
              "42   f    2   90.0    55.5    81.0   32.0\n",
              "43   m    3   85.1    51.5    76.0   35.5\n",
              "44   m    3   90.7    55.9    81.0   34.0\n",
              "45   m    2   91.4    54.4    84.0   35.0"
            ],
            "text/html": [
              "\n",
              "  <div id=\"df-b08e1a07-9e3e-40d8-86b3-a47c588535e8\" class=\"colab-df-container\">\n",
              "    <div>\n",
              "<style scoped>\n",
              "    .dataframe tbody tr th:only-of-type {\n",
              "        vertical-align: middle;\n",
              "    }\n",
              "\n",
              "    .dataframe tbody tr th {\n",
              "        vertical-align: top;\n",
              "    }\n",
              "\n",
              "    .dataframe thead th {\n",
              "        text-align: right;\n",
              "    }\n",
              "</style>\n",
              "<table border=\"1\" class=\"dataframe\">\n",
              "  <thead>\n",
              "    <tr style=\"text-align: right;\">\n",
              "      <th></th>\n",
              "      <th>sex</th>\n",
              "      <th>age</th>\n",
              "      <th>headL</th>\n",
              "      <th>skullW</th>\n",
              "      <th>totalL</th>\n",
              "      <th>tailL</th>\n",
              "    </tr>\n",
              "  </thead>\n",
              "  <tbody>\n",
              "    <tr>\n",
              "      <th>41</th>\n",
              "      <td>m</td>\n",
              "      <td>3</td>\n",
              "      <td>85.3</td>\n",
              "      <td>54.1</td>\n",
              "      <td>77.0</td>\n",
              "      <td>32.0</td>\n",
              "    </tr>\n",
              "    <tr>\n",
              "      <th>42</th>\n",
              "      <td>f</td>\n",
              "      <td>2</td>\n",
              "      <td>90.0</td>\n",
              "      <td>55.5</td>\n",
              "      <td>81.0</td>\n",
              "      <td>32.0</td>\n",
              "    </tr>\n",
              "    <tr>\n",
              "      <th>43</th>\n",
              "      <td>m</td>\n",
              "      <td>3</td>\n",
              "      <td>85.1</td>\n",
              "      <td>51.5</td>\n",
              "      <td>76.0</td>\n",
              "      <td>35.5</td>\n",
              "    </tr>\n",
              "    <tr>\n",
              "      <th>44</th>\n",
              "      <td>m</td>\n",
              "      <td>3</td>\n",
              "      <td>90.7</td>\n",
              "      <td>55.9</td>\n",
              "      <td>81.0</td>\n",
              "      <td>34.0</td>\n",
              "    </tr>\n",
              "    <tr>\n",
              "      <th>45</th>\n",
              "      <td>m</td>\n",
              "      <td>2</td>\n",
              "      <td>91.4</td>\n",
              "      <td>54.4</td>\n",
              "      <td>84.0</td>\n",
              "      <td>35.0</td>\n",
              "    </tr>\n",
              "  </tbody>\n",
              "</table>\n",
              "</div>\n",
              "    <div class=\"colab-df-buttons\">\n",
              "\n",
              "  <div class=\"colab-df-container\">\n",
              "    <button class=\"colab-df-convert\" onclick=\"convertToInteractive('df-b08e1a07-9e3e-40d8-86b3-a47c588535e8')\"\n",
              "            title=\"Convert this dataframe to an interactive table.\"\n",
              "            style=\"display:none;\">\n",
              "\n",
              "  <svg xmlns=\"http://www.w3.org/2000/svg\" height=\"24px\" viewBox=\"0 -960 960 960\">\n",
              "    <path d=\"M120-120v-720h720v720H120Zm60-500h600v-160H180v160Zm220 220h160v-160H400v160Zm0 220h160v-160H400v160ZM180-400h160v-160H180v160Zm440 0h160v-160H620v160ZM180-180h160v-160H180v160Zm440 0h160v-160H620v160Z\"/>\n",
              "  </svg>\n",
              "    </button>\n",
              "\n",
              "  <style>\n",
              "    .colab-df-container {\n",
              "      display:flex;\n",
              "      gap: 12px;\n",
              "    }\n",
              "\n",
              "    .colab-df-convert {\n",
              "      background-color: #E8F0FE;\n",
              "      border: none;\n",
              "      border-radius: 50%;\n",
              "      cursor: pointer;\n",
              "      display: none;\n",
              "      fill: #1967D2;\n",
              "      height: 32px;\n",
              "      padding: 0 0 0 0;\n",
              "      width: 32px;\n",
              "    }\n",
              "\n",
              "    .colab-df-convert:hover {\n",
              "      background-color: #E2EBFA;\n",
              "      box-shadow: 0px 1px 2px rgba(60, 64, 67, 0.3), 0px 1px 3px 1px rgba(60, 64, 67, 0.15);\n",
              "      fill: #174EA6;\n",
              "    }\n",
              "\n",
              "    .colab-df-buttons div {\n",
              "      margin-bottom: 4px;\n",
              "    }\n",
              "\n",
              "    [theme=dark] .colab-df-convert {\n",
              "      background-color: #3B4455;\n",
              "      fill: #D2E3FC;\n",
              "    }\n",
              "\n",
              "    [theme=dark] .colab-df-convert:hover {\n",
              "      background-color: #434B5C;\n",
              "      box-shadow: 0px 1px 3px 1px rgba(0, 0, 0, 0.15);\n",
              "      filter: drop-shadow(0px 1px 2px rgba(0, 0, 0, 0.3));\n",
              "      fill: #FFFFFF;\n",
              "    }\n",
              "  </style>\n",
              "\n",
              "    <script>\n",
              "      const buttonEl =\n",
              "        document.querySelector('#df-b08e1a07-9e3e-40d8-86b3-a47c588535e8 button.colab-df-convert');\n",
              "      buttonEl.style.display =\n",
              "        google.colab.kernel.accessAllowed ? 'block' : 'none';\n",
              "\n",
              "      async function convertToInteractive(key) {\n",
              "        const element = document.querySelector('#df-b08e1a07-9e3e-40d8-86b3-a47c588535e8');\n",
              "        const dataTable =\n",
              "          await google.colab.kernel.invokeFunction('convertToInteractive',\n",
              "                                                    [key], {});\n",
              "        if (!dataTable) return;\n",
              "\n",
              "        const docLinkHtml = 'Like what you see? Visit the ' +\n",
              "          '<a target=\"_blank\" href=https://colab.research.google.com/notebooks/data_table.ipynb>data table notebook</a>'\n",
              "          + ' to learn more about interactive tables.';\n",
              "        element.innerHTML = '';\n",
              "        dataTable['output_type'] = 'display_data';\n",
              "        await google.colab.output.renderOutput(dataTable, element);\n",
              "        const docLink = document.createElement('div');\n",
              "        docLink.innerHTML = docLinkHtml;\n",
              "        element.appendChild(docLink);\n",
              "      }\n",
              "    </script>\n",
              "  </div>\n",
              "\n",
              "\n",
              "<div id=\"df-45276440-fba4-46a3-9166-398907ba5cfe\">\n",
              "  <button class=\"colab-df-quickchart\" onclick=\"quickchart('df-45276440-fba4-46a3-9166-398907ba5cfe')\"\n",
              "            title=\"Suggest charts\"\n",
              "            style=\"display:none;\">\n",
              "\n",
              "<svg xmlns=\"http://www.w3.org/2000/svg\" height=\"24px\"viewBox=\"0 0 24 24\"\n",
              "     width=\"24px\">\n",
              "    <g>\n",
              "        <path d=\"M19 3H5c-1.1 0-2 .9-2 2v14c0 1.1.9 2 2 2h14c1.1 0 2-.9 2-2V5c0-1.1-.9-2-2-2zM9 17H7v-7h2v7zm4 0h-2V7h2v10zm4 0h-2v-4h2v4z\"/>\n",
              "    </g>\n",
              "</svg>\n",
              "  </button>\n",
              "\n",
              "<style>\n",
              "  .colab-df-quickchart {\n",
              "      --bg-color: #E8F0FE;\n",
              "      --fill-color: #1967D2;\n",
              "      --hover-bg-color: #E2EBFA;\n",
              "      --hover-fill-color: #174EA6;\n",
              "      --disabled-fill-color: #AAA;\n",
              "      --disabled-bg-color: #DDD;\n",
              "  }\n",
              "\n",
              "  [theme=dark] .colab-df-quickchart {\n",
              "      --bg-color: #3B4455;\n",
              "      --fill-color: #D2E3FC;\n",
              "      --hover-bg-color: #434B5C;\n",
              "      --hover-fill-color: #FFFFFF;\n",
              "      --disabled-bg-color: #3B4455;\n",
              "      --disabled-fill-color: #666;\n",
              "  }\n",
              "\n",
              "  .colab-df-quickchart {\n",
              "    background-color: var(--bg-color);\n",
              "    border: none;\n",
              "    border-radius: 50%;\n",
              "    cursor: pointer;\n",
              "    display: none;\n",
              "    fill: var(--fill-color);\n",
              "    height: 32px;\n",
              "    padding: 0;\n",
              "    width: 32px;\n",
              "  }\n",
              "\n",
              "  .colab-df-quickchart:hover {\n",
              "    background-color: var(--hover-bg-color);\n",
              "    box-shadow: 0 1px 2px rgba(60, 64, 67, 0.3), 0 1px 3px 1px rgba(60, 64, 67, 0.15);\n",
              "    fill: var(--button-hover-fill-color);\n",
              "  }\n",
              "\n",
              "  .colab-df-quickchart-complete:disabled,\n",
              "  .colab-df-quickchart-complete:disabled:hover {\n",
              "    background-color: var(--disabled-bg-color);\n",
              "    fill: var(--disabled-fill-color);\n",
              "    box-shadow: none;\n",
              "  }\n",
              "\n",
              "  .colab-df-spinner {\n",
              "    border: 2px solid var(--fill-color);\n",
              "    border-color: transparent;\n",
              "    border-bottom-color: var(--fill-color);\n",
              "    animation:\n",
              "      spin 1s steps(1) infinite;\n",
              "  }\n",
              "\n",
              "  @keyframes spin {\n",
              "    0% {\n",
              "      border-color: transparent;\n",
              "      border-bottom-color: var(--fill-color);\n",
              "      border-left-color: var(--fill-color);\n",
              "    }\n",
              "    20% {\n",
              "      border-color: transparent;\n",
              "      border-left-color: var(--fill-color);\n",
              "      border-top-color: var(--fill-color);\n",
              "    }\n",
              "    30% {\n",
              "      border-color: transparent;\n",
              "      border-left-color: var(--fill-color);\n",
              "      border-top-color: var(--fill-color);\n",
              "      border-right-color: var(--fill-color);\n",
              "    }\n",
              "    40% {\n",
              "      border-color: transparent;\n",
              "      border-right-color: var(--fill-color);\n",
              "      border-top-color: var(--fill-color);\n",
              "    }\n",
              "    60% {\n",
              "      border-color: transparent;\n",
              "      border-right-color: var(--fill-color);\n",
              "    }\n",
              "    80% {\n",
              "      border-color: transparent;\n",
              "      border-right-color: var(--fill-color);\n",
              "      border-bottom-color: var(--fill-color);\n",
              "    }\n",
              "    90% {\n",
              "      border-color: transparent;\n",
              "      border-bottom-color: var(--fill-color);\n",
              "    }\n",
              "  }\n",
              "</style>\n",
              "\n",
              "  <script>\n",
              "    async function quickchart(key) {\n",
              "      const quickchartButtonEl =\n",
              "        document.querySelector('#' + key + ' button');\n",
              "      quickchartButtonEl.disabled = true;  // To prevent multiple clicks.\n",
              "      quickchartButtonEl.classList.add('colab-df-spinner');\n",
              "      try {\n",
              "        const charts = await google.colab.kernel.invokeFunction(\n",
              "            'suggestCharts', [key], {});\n",
              "      } catch (error) {\n",
              "        console.error('Error during call to suggestCharts:', error);\n",
              "      }\n",
              "      quickchartButtonEl.classList.remove('colab-df-spinner');\n",
              "      quickchartButtonEl.classList.add('colab-df-quickchart-complete');\n",
              "    }\n",
              "    (() => {\n",
              "      let quickchartButtonEl =\n",
              "        document.querySelector('#df-45276440-fba4-46a3-9166-398907ba5cfe button');\n",
              "      quickchartButtonEl.style.display =\n",
              "        google.colab.kernel.accessAllowed ? 'block' : 'none';\n",
              "    })();\n",
              "  </script>\n",
              "</div>\n",
              "\n",
              "    </div>\n",
              "  </div>\n"
            ],
            "application/vnd.google.colaboratory.intrinsic+json": {
              "type": "dataframe",
              "summary": "{\n  \"name\": \"possum\",\n  \"rows\": 5,\n  \"fields\": [\n    {\n      \"column\": \"sex\",\n      \"properties\": {\n        \"dtype\": \"category\",\n        \"num_unique_values\": 2,\n        \"samples\": [\n          \"f\",\n          \"m\"\n        ],\n        \"semantic_type\": \"\",\n        \"description\": \"\"\n      }\n    },\n    {\n      \"column\": \"age\",\n      \"properties\": {\n        \"dtype\": \"number\",\n        \"std\": 0,\n        \"min\": 2,\n        \"max\": 3,\n        \"num_unique_values\": 2,\n        \"samples\": [\n          2,\n          3\n        ],\n        \"semantic_type\": \"\",\n        \"description\": \"\"\n      }\n    },\n    {\n      \"column\": \"headL\",\n      \"properties\": {\n        \"dtype\": \"number\",\n        \"std\": 3.053686296920498,\n        \"min\": 85.1,\n        \"max\": 91.4,\n        \"num_unique_values\": 5,\n        \"samples\": [\n          90.0,\n          91.4\n        ],\n        \"semantic_type\": \"\",\n        \"description\": \"\"\n      }\n    },\n    {\n      \"column\": \"skullW\",\n      \"properties\": {\n        \"dtype\": \"number\",\n        \"std\": 1.7239489551607956,\n        \"min\": 51.5,\n        \"max\": 55.9,\n        \"num_unique_values\": 5,\n        \"samples\": [\n          55.5,\n          54.4\n        ],\n        \"semantic_type\": \"\",\n        \"description\": \"\"\n      }\n    },\n    {\n      \"column\": \"totalL\",\n      \"properties\": {\n        \"dtype\": \"number\",\n        \"std\": 3.2710854467592254,\n        \"min\": 76.0,\n        \"max\": 84.0,\n        \"num_unique_values\": 4,\n        \"samples\": [\n          81.0,\n          84.0\n        ],\n        \"semantic_type\": \"\",\n        \"description\": \"\"\n      }\n    },\n    {\n      \"column\": \"tailL\",\n      \"properties\": {\n        \"dtype\": \"number\",\n        \"std\": 1.6431676725154982,\n        \"min\": 32.0,\n        \"max\": 35.5,\n        \"num_unique_values\": 4,\n        \"samples\": [\n          35.5,\n          35.0\n        ],\n        \"semantic_type\": \"\",\n        \"description\": \"\"\n      }\n    }\n  ]\n}"
            }
          },
          "metadata": {},
          "execution_count": 11
        }
      ],
      "source": [
        "# your code here\n",
        "possum.tail(5)"
      ]
    },
    {
      "cell_type": "markdown",
      "id": "c9d1940d",
      "metadata": {
        "id": "c9d1940d"
      },
      "source": [
        "Using what we learned in the previous Labs. Let's count how many observations have a `totalL greater than 60`"
      ]
    },
    {
      "cell_type": "code",
      "execution_count": 12,
      "id": "1bcbf244",
      "metadata": {
        "colab": {
          "base_uri": "https://localhost:8080/"
        },
        "id": "1bcbf244",
        "outputId": "f2d08683-f9ca-4fb9-86cc-7daab32e9718"
      },
      "outputs": [
        {
          "output_type": "execute_result",
          "data": {
            "text/plain": [
              "46"
            ]
          },
          "metadata": {},
          "execution_count": 12
        }
      ],
      "source": [
        "np.sum([possum.totalL > 60])"
      ]
    },
    {
      "cell_type": "markdown",
      "id": "21a5d7f9",
      "metadata": {
        "id": "21a5d7f9"
      },
      "source": [
        "# Data visualization"
      ]
    },
    {
      "cell_type": "markdown",
      "id": "fcfcc9de",
      "metadata": {
        "id": "fcfcc9de"
      },
      "source": [
        "Choosing which plots to use usually depend on the type of variable we are working with. We can use `DataFrame_name.dtypes` **attribute** to check the type of each variable (column) in our DataFrame.\n",
        "\n",
        "Note: When asking for the `dtypes`, we don't need brackets. `dtypes` is an attribute of a `DataFrame`. Attributes of `DataFrame` do not need brackets. Attributes represent a characteristic of a `DataFrame`, whereas a method (which requires brackets) do something with the `DataFrame`."
      ]
    },
    {
      "cell_type": "code",
      "execution_count": 13,
      "id": "1668392d",
      "metadata": {
        "colab": {
          "base_uri": "https://localhost:8080/",
          "height": 272
        },
        "id": "1668392d",
        "outputId": "ce70da4a-c9ac-4126-af67-492fa44887ff"
      },
      "outputs": [
        {
          "output_type": "execute_result",
          "data": {
            "text/plain": [
              "sex        object\n",
              "age         int64\n",
              "headL     float64\n",
              "skullW    float64\n",
              "totalL    float64\n",
              "tailL     float64\n",
              "dtype: object"
            ],
            "text/html": [
              "<div>\n",
              "<style scoped>\n",
              "    .dataframe tbody tr th:only-of-type {\n",
              "        vertical-align: middle;\n",
              "    }\n",
              "\n",
              "    .dataframe tbody tr th {\n",
              "        vertical-align: top;\n",
              "    }\n",
              "\n",
              "    .dataframe thead th {\n",
              "        text-align: right;\n",
              "    }\n",
              "</style>\n",
              "<table border=\"1\" class=\"dataframe\">\n",
              "  <thead>\n",
              "    <tr style=\"text-align: right;\">\n",
              "      <th></th>\n",
              "      <th>0</th>\n",
              "    </tr>\n",
              "  </thead>\n",
              "  <tbody>\n",
              "    <tr>\n",
              "      <th>sex</th>\n",
              "      <td>object</td>\n",
              "    </tr>\n",
              "    <tr>\n",
              "      <th>age</th>\n",
              "      <td>int64</td>\n",
              "    </tr>\n",
              "    <tr>\n",
              "      <th>headL</th>\n",
              "      <td>float64</td>\n",
              "    </tr>\n",
              "    <tr>\n",
              "      <th>skullW</th>\n",
              "      <td>float64</td>\n",
              "    </tr>\n",
              "    <tr>\n",
              "      <th>totalL</th>\n",
              "      <td>float64</td>\n",
              "    </tr>\n",
              "    <tr>\n",
              "      <th>tailL</th>\n",
              "      <td>float64</td>\n",
              "    </tr>\n",
              "  </tbody>\n",
              "</table>\n",
              "</div><br><label><b>dtype:</b> object</label>"
            ]
          },
          "metadata": {},
          "execution_count": 13
        }
      ],
      "source": [
        "possum.dtypes"
      ]
    },
    {
      "cell_type": "markdown",
      "id": "516d4ef3",
      "metadata": {
        "id": "516d4ef3"
      },
      "source": [
        "## Plots for numerical variables\n",
        "\n",
        "### Line plot\n",
        "**plt.plot:** https://matplotlib.org/3.3.3/api/_as_gen/matplotlib.pyplot.plot.html\n",
        "\n",
        "Used for numerical variables, it connects the data points for that variable using lines. Commonly used for time series (e.g., stock information over a period of time)\n",
        "\n",
        "**Recipe:** `plt.plot(DataFrame.column)`. You can also specify `color` using the argument `color = \"blue\"`\n",
        "\n",
        "**Remember:** How to select columns in a DataFrame (Previous Lab)."
      ]
    },
    {
      "cell_type": "code",
      "execution_count": 18,
      "id": "1280f460",
      "metadata": {
        "colab": {
          "base_uri": "https://localhost:8080/",
          "height": 447
        },
        "id": "1280f460",
        "outputId": "110a3ff5-65c4-4be7-b998-6d3676e53b3d"
      },
      "outputs": [
        {
          "output_type": "execute_result",
          "data": {
            "text/plain": [
              "[<matplotlib.lines.Line2D at 0x7a62ac246c90>]"
            ]
          },
          "metadata": {},
          "execution_count": 18
        },
        {
          "output_type": "display_data",
          "data": {
            "text/plain": [
              "<Figure size 640x480 with 1 Axes>"
            ],
            "image/png": "[encoded data removed]"
          },
          "metadata": {}
        }
      ],
      "source": [
        "# Plotting tailL (tail length)\n",
        "plt.plot(possum.tailL, color = \"green\")"
      ]
    },
    {
      "cell_type": "markdown",
      "id": "11961a08",
      "metadata": {
        "id": "11961a08"
      },
      "source": [
        "#### Adding title and axis labels"
      ]
    },
    {
      "cell_type": "code",
      "execution_count": 19,
      "id": "0462b47f",
      "metadata": {
        "colab": {
          "base_uri": "https://localhost:8080/",
          "height": 472
        },
        "id": "0462b47f",
        "outputId": "f897c693-0bdf-48b3-bdc4-1aeba124a8f8"
      },
      "outputs": [
        {
          "output_type": "display_data",
          "data": {
            "text/plain": [
              "<Figure size 640x480 with 1 Axes>"
            ],
            "image/png": "[encoded data removed]"
          },
          "metadata": {}
        }
      ],
      "source": [
        "plt.plot(possum.tailL, color = \"blue\")\n",
        "\n",
        "plt.title(\"Tail\")\n",
        "plt.xlabel(\"observations\")\n",
        "plt.ylabel(\"Length\")\n",
        "plt.show()"
      ]
    },
    {
      "cell_type": "markdown",
      "id": "a34e51d2",
      "metadata": {
        "id": "a34e51d2"
      },
      "source": [
        "## Histograms"
      ]
    },
    {
      "cell_type": "markdown",
      "id": "2ede215f",
      "metadata": {
        "id": "2ede215f"
      },
      "source": [
        "**plt.hist:** https://matplotlib.org/3.1.1/api/_as_gen/matplotlib.pyplot.hist.html\n",
        "\n",
        "A histogram represents a frequency distribution by means of rectangles whose widths represent class intervals and whose areas are proportional to the corresponding frequencies.\n",
        "\n",
        "**Recipe:** `plt.hist(DataFrame.column)`\n",
        "\n",
        "You can also specify the number of rectangles (intervals/bins) you want using the `bins = ` argument."
      ]
    },
    {
      "cell_type": "code",
      "execution_count": 20,
      "id": "ec10d1e8",
      "metadata": {
        "colab": {
          "base_uri": "https://localhost:8080/",
          "height": 472
        },
        "id": "ec10d1e8",
        "outputId": "aeb13d04-bb3d-4abb-8ea4-81a4c4f925c0"
      },
      "outputs": [
        {
          "output_type": "display_data",
          "data": {
            "text/plain": [
              "<Figure size 640x480 with 1 Axes>"
            ],
            "image/png": "[encoded data removed]"
          },
          "metadata": {}
        }
      ],
      "source": [
        "# Plotting the histogram for skullW (skull width)\n",
        "plt.hist(possum.skullW, bins = 10)\n",
        "plt.title(\"Skull\")\n",
        "plt.xlabel(\"Skull\")\n",
        "plt.ylabel(\"Frequency\")\n",
        "plt.show()"
      ]
    },
    {
      "cell_type": "markdown",
      "id": "52eb187a",
      "metadata": {
        "id": "52eb187a"
      },
      "source": [
        "Doing the histogram using the library seaborn: sns.histplot: https://seaborn.pydata.org/generated/seaborn.histplot.html\n",
        "\n",
        "When creating plots using `seaborn` Package, we have more arguments to specify but the plots tend to look better than when we use `matplotlib` Package.\n",
        "\n",
        "Per example, let's create the same plot as before but with `seaborn` Package using `sns.hist.plot()` function. We need to specify in the `data` argument the DataFrame's name and in `x` we write the column's name."
      ]
    },
    {
      "cell_type": "code",
      "execution_count": 21,
      "id": "ef6ff625",
      "metadata": {
        "colab": {
          "base_uri": "https://localhost:8080/",
          "height": 472
        },
        "id": "ef6ff625",
        "outputId": "38f7d915-ea92-4646-f2a3-f2cca72fa15a"
      },
      "outputs": [
        {
          "output_type": "display_data",
          "data": {
            "text/plain": [
              "<Figure size 640x480 with 1 Axes>"
            ],
            "image/png": "[encoded data removed]"
          },
          "metadata": {}
        }
      ],
      "source": [
        "sns.histplot(data=possum, x = \"skullW\", bins = 10)\n",
        "plt.title(\"Skull\")\n",
        "plt.xlabel(\"skull\")\n",
        "plt.ylabel(\"Frequency\")\n",
        "plt.show()"
      ]
    },
    {
      "cell_type": "markdown",
      "id": "e6fd1daa",
      "metadata": {
        "id": "e6fd1daa"
      },
      "source": [
        "Let's plot a histogram for `'Age'` specifying the width of each class interval (bin) using the `binwidth` argument"
      ]
    },
    {
      "cell_type": "code",
      "execution_count": 22,
      "id": "320ac7ea",
      "metadata": {
        "colab": {
          "base_uri": "https://localhost:8080/",
          "height": 472
        },
        "id": "320ac7ea",
        "outputId": "c1eb0e38-1261-461b-912c-aac21fc3809d"
      },
      "outputs": [
        {
          "output_type": "display_data",
          "data": {
            "text/plain": [
              "<Figure size 640x480 with 1 Axes>"
            ],
            "image/png": "[encoded data removed]"
          },
          "metadata": {}
        }
      ],
      "source": [
        "# Plotting the histogram/distribution for age\n",
        "sns.histplot(data = possum[\"age\"], binwidth = 1)\n",
        "plt.title(\"Distribution of Age\")\n",
        "plt.xlabel(\"age\")\n",
        "plt.show()"
      ]
    },
    {
      "cell_type": "markdown",
      "id": "56c4b190",
      "metadata": {
        "id": "56c4b190"
      },
      "source": [
        "## Boxplots"
      ]
    },
    {
      "cell_type": "markdown",
      "id": "b7d9c10a",
      "metadata": {
        "id": "b7d9c10a"
      },
      "source": [
        "**sns.boxplot:** https://seaborn.pydata.org/generated/seaborn.boxplot.html\n",
        "\n",
        "A boxplot is a graph that gives you a good indication of how the values in the data are spread out.\n",
        "**Recipe:** `sns.boxplot(x = DataFrame.column)`"
      ]
    },
    {
      "cell_type": "code",
      "execution_count": 23,
      "id": "7d35af10",
      "metadata": {
        "colab": {
          "base_uri": "https://localhost:8080/",
          "height": 472
        },
        "id": "7d35af10",
        "outputId": "b383c871-b227-4cd3-b268-04b4196de4ec"
      },
      "outputs": [
        {
          "output_type": "display_data",
          "data": {
            "text/plain": [
              "<Figure size 640x480 with 1 Axes>"
            ],
            "image/png": "[encoded data removed]"
          },
          "metadata": {}
        }
      ],
      "source": [
        "# Plotting the boxplot for headL (head length)\n",
        "sns.boxplot(x = possum[\"headL\"])\n",
        "plt.title(\"Distribution of Head length\")\n",
        "plt.xlabel(\"Head length\")\n",
        "plt.show()"
      ]
    },
    {
      "cell_type": "markdown",
      "id": "f51eaa61",
      "metadata": {
        "id": "f51eaa61"
      },
      "source": [
        "## Plots for categorical variables\n",
        "\n",
        "### Barplot\n",
        "\n",
        "**plt.bar :** https://matplotlib.org/stable/api/_as_gen/matplotlib.pyplot.bar.html\n",
        "\n",
        "A bar plot is a plot that presents categorical data with rectangular bars with heights proportional to the values that they represent.\n",
        "\n",
        "To plot a barplot using `matplotlib` Package we need to specify the categories of our variable and how many observations we have each category\n",
        "\n",
        "**Recipe:** `plt.bar(DataFrame_Column_categories, DataFrame_Column_number_obs_per_category)`.\n",
        "\n",
        "We can use the `.unique()` method to get the categories (unique values) for a variable (column) in a DataFrame. The method `value_counts()` returns the number of observations per category.\n",
        "\n",
        "Let's see how can we get the `DataFrame_Column_categories` and `DataFrame_Column_number_obs_per_category` using the `sex` in the `possum` DataFrame."
      ]
    },
    {
      "cell_type": "code",
      "execution_count": 26,
      "id": "8c64ba42",
      "metadata": {
        "colab": {
          "base_uri": "https://localhost:8080/"
        },
        "id": "8c64ba42",
        "outputId": "87256996-16b2-4d47-af0e-3dcb94aaad80"
      },
      "outputs": [
        {
          "output_type": "execute_result",
          "data": {
            "text/plain": [
              "array(['m', 'f'], dtype=object)"
            ]
          },
          "metadata": {},
          "execution_count": 26
        }
      ],
      "source": [
        "# Displaying the categories for sex\n",
        "possum[\"sex\"].unique()"
      ]
    },
    {
      "cell_type": "code",
      "execution_count": 25,
      "id": "7c252d31",
      "metadata": {
        "colab": {
          "base_uri": "https://localhost:8080/",
          "height": 178
        },
        "id": "7c252d31",
        "outputId": "53069191-390a-401a-a361-a84b2fcbeb8f"
      },
      "outputs": [
        {
          "output_type": "execute_result",
          "data": {
            "text/plain": [
              "sex\n",
              "m    22\n",
              "f    24\n",
              "Name: count, dtype: int64"
            ],
            "text/html": [
              "<div>\n",
              "<style scoped>\n",
              "    .dataframe tbody tr th:only-of-type {\n",
              "        vertical-align: middle;\n",
              "    }\n",
              "\n",
              "    .dataframe tbody tr th {\n",
              "        vertical-align: top;\n",
              "    }\n",
              "\n",
              "    .dataframe thead th {\n",
              "        text-align: right;\n",
              "    }\n",
              "</style>\n",
              "<table border=\"1\" class=\"dataframe\">\n",
              "  <thead>\n",
              "    <tr style=\"text-align: right;\">\n",
              "      <th></th>\n",
              "      <th>count</th>\n",
              "    </tr>\n",
              "    <tr>\n",
              "      <th>sex</th>\n",
              "      <th></th>\n",
              "    </tr>\n",
              "  </thead>\n",
              "  <tbody>\n",
              "    <tr>\n",
              "      <th>m</th>\n",
              "      <td>22</td>\n",
              "    </tr>\n",
              "    <tr>\n",
              "      <th>f</th>\n",
              "      <td>24</td>\n",
              "    </tr>\n",
              "  </tbody>\n",
              "</table>\n",
              "</div><br><label><b>dtype:</b> int64</label>"
            ]
          },
          "metadata": {},
          "execution_count": 25
        }
      ],
      "source": [
        "# Displaying the number of observations per category for sex variable\n",
        "possum[\"sex\"].value_counts(sort = False)"
      ]
    },
    {
      "cell_type": "code",
      "execution_count": 24,
      "id": "f8cac72e",
      "metadata": {
        "colab": {
          "base_uri": "https://localhost:8080/",
          "height": 472
        },
        "id": "f8cac72e",
        "outputId": "e101c897-a894-4f67-bc05-7c093741be82"
      },
      "outputs": [
        {
          "output_type": "display_data",
          "data": {
            "text/plain": [
              "<Figure size 640x480 with 1 Axes>"
            ],
            "image/png": "[encoded data removed]"
          },
          "metadata": {}
        }
      ],
      "source": [
        "# Plotting the bar plot for sex\n",
        "plt.bar(possum[\"sex\"].unique(), possum[\"sex\"].value_counts(sort = False), color = \"orange\")\n",
        "plt.xlabel('sex')\n",
        "plt.ylabel('Count')\n",
        "plt.title('Bar Plot')\n",
        "plt.show()"
      ]
    },
    {
      "cell_type": "markdown",
      "id": "94a0d109",
      "metadata": {
        "id": "94a0d109"
      },
      "source": [
        "**Practice:** Create a bar plot for the `'age'` variable following the same idea we used for creating a bar plot for `'sex'`. Change the `xlabel` to `'age'`."
      ]
    },
    {
      "cell_type": "code",
      "execution_count": 30,
      "id": "dc669155",
      "metadata": {
        "colab": {
          "base_uri": "https://localhost:8080/",
          "height": 472
        },
        "id": "dc669155",
        "outputId": "8962835c-3bf9-48db-8145-03d346116142"
      },
      "outputs": [
        {
          "output_type": "display_data",
          "data": {
            "text/plain": [
              "<Figure size 640x480 with 1 Axes>"
            ],
            "image/png": "[encoded data removed]"
          },
          "metadata": {}
        }
      ],
      "source": [
        "# Your code\n",
        "plt.bar(possum[\"age\"].unique(), possum[\"age\"].value_counts(sort = False), color = \"orange\")\n",
        "plt.xlabel('age')\n",
        "plt.ylabel('Count')\n",
        "plt.title('Bar Plot')\n",
        "plt.show()"
      ]
    },
    {
      "cell_type": "markdown",
      "id": "e883f3c7",
      "metadata": {
        "id": "e883f3c7"
      },
      "source": [
        "### Pie plot\n",
        "\n",
        "**plt.pie:** https://matplotlib.org/stable/api/_as_gen/matplotlib.pyplot.pie.html\n",
        "\n",
        "A pie chart is a circular statistic graphic which is divided into slices to illustrate numerical proportion.\n",
        "\n",
        "Each slice in a pie plot represents a category of our variable. To create a pie plot we need to specify the size of the slices using the number of observations (or prorortion/percentage) per category, the labels for each category, and if you want we can specify the colors for each slice.\n",
        "\n",
        "**Recipe:** `plt.pie(size, labels, colors, autopct = '%1.1f%%')`\n",
        "\n",
        "Let's see how can we create a pie plot in practice."
      ]
    },
    {
      "cell_type": "code",
      "execution_count": 33,
      "id": "adf2228c",
      "metadata": {
        "colab": {
          "base_uri": "https://localhost:8080/"
        },
        "id": "adf2228c",
        "outputId": "a85933e2-f80f-4e8f-e83b-a5b7c055f406"
      },
      "outputs": [
        {
          "output_type": "execute_result",
          "data": {
            "text/plain": [
              "array(['m', 'f'], dtype=object)"
            ]
          },
          "metadata": {},
          "execution_count": 33
        }
      ],
      "source": [
        "# Getting the labels for each category in the sex variable\n",
        "possum[\"sex\"].unique()"
      ]
    },
    {
      "cell_type": "code",
      "execution_count": 32,
      "id": "eca655d5",
      "metadata": {
        "colab": {
          "base_uri": "https://localhost:8080/",
          "height": 178
        },
        "id": "eca655d5",
        "outputId": "7bdc9ebe-5d39-4ed2-9527-4ec5eff5c974"
      },
      "outputs": [
        {
          "output_type": "execute_result",
          "data": {
            "text/plain": [
              "sex\n",
              "f    24\n",
              "m    22\n",
              "Name: count, dtype: int64"
            ],
            "text/html": [
              "<div>\n",
              "<style scoped>\n",
              "    .dataframe tbody tr th:only-of-type {\n",
              "        vertical-align: middle;\n",
              "    }\n",
              "\n",
              "    .dataframe tbody tr th {\n",
              "        vertical-align: top;\n",
              "    }\n",
              "\n",
              "    .dataframe thead th {\n",
              "        text-align: right;\n",
              "    }\n",
              "</style>\n",
              "<table border=\"1\" class=\"dataframe\">\n",
              "  <thead>\n",
              "    <tr style=\"text-align: right;\">\n",
              "      <th></th>\n",
              "      <th>count</th>\n",
              "    </tr>\n",
              "    <tr>\n",
              "      <th>sex</th>\n",
              "      <th></th>\n",
              "    </tr>\n",
              "  </thead>\n",
              "  <tbody>\n",
              "    <tr>\n",
              "      <th>f</th>\n",
              "      <td>24</td>\n",
              "    </tr>\n",
              "    <tr>\n",
              "      <th>m</th>\n",
              "      <td>22</td>\n",
              "    </tr>\n",
              "  </tbody>\n",
              "</table>\n",
              "</div><br><label><b>dtype:</b> int64</label>"
            ]
          },
          "metadata": {},
          "execution_count": 32
        }
      ],
      "source": [
        "# Determining the size of each slice using the number of observation per gender\n",
        "possum[\"sex\"].value_counts()"
      ]
    },
    {
      "cell_type": "code",
      "execution_count": 31,
      "id": "741c820f",
      "metadata": {
        "colab": {
          "base_uri": "https://localhost:8080/",
          "height": 428
        },
        "id": "741c820f",
        "outputId": "d3f72d80-223e-4573-968b-ad73cf6c6814"
      },
      "outputs": [
        {
          "output_type": "display_data",
          "data": {
            "text/plain": [
              "<Figure size 640x480 with 1 Axes>"
            ],
            "image/png": "[encoded data removed]"
          },
          "metadata": {}
        }
      ],
      "source": [
        "# Create a pie plot for the sex variable\n",
        "plt.pie(possum[\"sex\"].value_counts(), labels = possum[\"sex\"].unique(),\n",
        "        autopct = '%1.1f%%')\n",
        "plt.title('Pie Chart')\n",
        "plt.show()"
      ]
    },
    {
      "cell_type": "code",
      "execution_count": 34,
      "id": "f476b988",
      "metadata": {
        "colab": {
          "base_uri": "https://localhost:8080/",
          "height": 428
        },
        "id": "f476b988",
        "outputId": "99d733e2-fa1d-4e9c-de55-85ee32bd7985"
      },
      "outputs": [
        {
          "output_type": "display_data",
          "data": {
            "text/plain": [
              "<Figure size 640x480 with 1 Axes>"
            ],
            "image/png": "[encoded data removed]"
          },
          "metadata": {}
        }
      ],
      "source": [
        "### Choosing other colors for the pie plot\n",
        "plt.pie(possum[\"sex\"].value_counts(sort = True), labels = np.sort(possum[\"sex\"].unique()),\n",
        "        colors = ['red', 'green'],\n",
        "        autopct = '%1.1f%%')\n",
        "plt.title('Pie Chart')\n",
        "plt.show()"
      ]
    },
    {
      "cell_type": "markdown",
      "id": "62e933cb",
      "metadata": {
        "id": "62e933cb"
      },
      "source": [
        "# Five-number Summary\n",
        "\n",
        "The five-number summary is a set of descriptive statistics that provides information about a dataset.\n",
        "\n",
        "It consists of the five most important sample percentiles:\n",
        " 1. the sample minimum (smallest observation)\n",
        " 2. the lower quartile or first quartile\n",
        " 3. the median (the middle value)\n",
        " 4. the upper quartile or third quartile\n",
        " 5. the sample maximum (largest observation)"
      ]
    },
    {
      "cell_type": "markdown",
      "id": "5b504900",
      "metadata": {
        "id": "5b504900"
      },
      "source": [
        "### Quartiles\n",
        "\n",
        "To get the quartiles for a variable we can use the `percentile` function from the Numpy Package. You need to specify the column (variable) you want, we then the values for the quartiles/percentiles you want.\n",
        "\n",
        "Note: To get the first quartile we use 25, for the median (second quartile) we use 50, and for the third quartile we use 75. These represent the percentage of observations below each quartile.\n",
        "\n",
        "**Recipe:** `np.percentile(DataFrame.column_name), quartile_percentage_value)`"
      ]
    },
    {
      "cell_type": "code",
      "execution_count": 35,
      "id": "17e11e05",
      "metadata": {
        "colab": {
          "base_uri": "https://localhost:8080/"
        },
        "id": "17e11e05",
        "outputId": "b94cf88c-f433-46d0-9b18-7d713e0f56cb"
      },
      "outputs": [
        {
          "output_type": "stream",
          "name": "stdout",
          "text": [
            "Min: 84.7\n",
            "Q1: 91.1\n",
            "Median: 92.85\n",
            "Q3: 94.4\n",
            "Max: 96.3\n"
          ]
        }
      ],
      "source": [
        "# Getting the Five-number Summary for Head length\n",
        "minimum = np.min(possum[\"headL\"])\n",
        "quartiles = percentile(possum[\"headL\"], [25, 50, 75])\n",
        "maximum = np.max(possum[\"headL\"])\n",
        "print('Min:', minimum)\n",
        "print('Q1:', quartiles[0])\n",
        "print('Median:', quartiles[1])\n",
        "print('Q3:', quartiles[2])\n",
        "print('Max:', maximum)"
      ]
    },
    {
      "cell_type": "markdown",
      "id": "47b88014",
      "metadata": {
        "id": "47b88014"
      },
      "source": [
        "## Mean and standard deviation"
      ]
    },
    {
      "cell_type": "code",
      "execution_count": 36,
      "id": "ab837404",
      "metadata": {
        "colab": {
          "base_uri": "https://localhost:8080/"
        },
        "id": "ab837404",
        "outputId": "2af9e32f-14a2-44e8-b2fd-3df175bf766e"
      },
      "outputs": [
        {
          "output_type": "stream",
          "name": "stdout",
          "text": [
            "Mean: 92.3108695652174\n",
            "Standard Deviation 2.929332746234926\n"
          ]
        }
      ],
      "source": [
        "# Obtaining the mean and standard deviation for headL (head length)\n",
        "mean = np.mean(possum[\"headL\"])\n",
        "sd = np.std(possum[\"headL\"], ddof = 1)\n",
        "print('Mean:', mean)\n",
        "print('Standard Deviation', sd)"
      ]
    },
    {
      "cell_type": "code",
      "execution_count": 37,
      "id": "e436309c",
      "metadata": {
        "colab": {
          "base_uri": "https://localhost:8080/",
          "height": 300
        },
        "id": "e436309c",
        "outputId": "79279754-2436-4348-fca4-41f49730bf14"
      },
      "outputs": [
        {
          "output_type": "execute_result",
          "data": {
            "text/plain": [
              "             age      headL     skullW      totalL      tailL\n",
              "count  46.000000  46.000000  46.000000   46.000000  46.000000\n",
              "mean    3.956522  92.310870  56.489130   88.095652  36.332609\n",
              "std     2.086534   2.929333   2.022235    6.842415   3.331336\n",
              "min     1.000000  84.700000  51.500000   75.000000  32.000000\n",
              "25%     2.000000  91.100000  55.100000   84.625000  35.000000\n",
              "50%     3.000000  92.850000  56.300000   89.000000  36.000000\n",
              "75%     5.000000  94.400000  57.825000   90.875000  36.875000\n",
              "max     9.000000  96.300000  60.400000  120.400000  55.300000"
            ],
            "text/html": [
              "\n",
              "  <div id=\"df-e9087877-035e-4071-8ce9-fadd6d2e3ee5\" class=\"colab-df-container\">\n",
              "    <div>\n",
              "<style scoped>\n",
              "    .dataframe tbody tr th:only-of-type {\n",
              "        vertical-align: middle;\n",
              "    }\n",
              "\n",
              "    .dataframe tbody tr th {\n",
              "        vertical-align: top;\n",
              "    }\n",
              "\n",
              "    .dataframe thead th {\n",
              "        text-align: right;\n",
              "    }\n",
              "</style>\n",
              "<table border=\"1\" class=\"dataframe\">\n",
              "  <thead>\n",
              "    <tr style=\"text-align: right;\">\n",
              "      <th></th>\n",
              "      <th>age</th>\n",
              "      <th>headL</th>\n",
              "      <th>skullW</th>\n",
              "      <th>totalL</th>\n",
              "      <th>tailL</th>\n",
              "    </tr>\n",
              "  </thead>\n",
              "  <tbody>\n",
              "    <tr>\n",
              "      <th>count</th>\n",
              "      <td>46.000000</td>\n",
              "      <td>46.000000</td>\n",
              "      <td>46.000000</td>\n",
              "      <td>46.000000</td>\n",
              "      <td>46.000000</td>\n",
              "    </tr>\n",
              "    <tr>\n",
              "      <th>mean</th>\n",
              "      <td>3.956522</td>\n",
              "      <td>92.310870</td>\n",
              "      <td>56.489130</td>\n",
              "      <td>88.095652</td>\n",
              "      <td>36.332609</td>\n",
              "    </tr>\n",
              "    <tr>\n",
              "      <th>std</th>\n",
              "      <td>2.086534</td>\n",
              "      <td>2.929333</td>\n",
              "      <td>2.022235</td>\n",
              "      <td>6.842415</td>\n",
              "      <td>3.331336</td>\n",
              "    </tr>\n",
              "    <tr>\n",
              "      <th>min</th>\n",
              "      <td>1.000000</td>\n",
              "      <td>84.700000</td>\n",
              "      <td>51.500000</td>\n",
              "      <td>75.000000</td>\n",
              "      <td>32.000000</td>\n",
              "    </tr>\n",
              "    <tr>\n",
              "      <th>25%</th>\n",
              "      <td>2.000000</td>\n",
              "      <td>91.100000</td>\n",
              "      <td>55.100000</td>\n",
              "      <td>84.625000</td>\n",
              "      <td>35.000000</td>\n",
              "    </tr>\n",
              "    <tr>\n",
              "      <th>50%</th>\n",
              "      <td>3.000000</td>\n",
              "      <td>92.850000</td>\n",
              "      <td>56.300000</td>\n",
              "      <td>89.000000</td>\n",
              "      <td>36.000000</td>\n",
              "    </tr>\n",
              "    <tr>\n",
              "      <th>75%</th>\n",
              "      <td>5.000000</td>\n",
              "      <td>94.400000</td>\n",
              "      <td>57.825000</td>\n",
              "      <td>90.875000</td>\n",
              "      <td>36.875000</td>\n",
              "    </tr>\n",
              "    <tr>\n",
              "      <th>max</th>\n",
              "      <td>9.000000</td>\n",
              "      <td>96.300000</td>\n",
              "      <td>60.400000</td>\n",
              "      <td>120.400000</td>\n",
              "      <td>55.300000</td>\n",
              "    </tr>\n",
              "  </tbody>\n",
              "</table>\n",
              "</div>\n",
              "    <div class=\"colab-df-buttons\">\n",
              "\n",
              "  <div class=\"colab-df-container\">\n",
              "    <button class=\"colab-df-convert\" onclick=\"convertToInteractive('df-e9087877-035e-4071-8ce9-fadd6d2e3ee5')\"\n",
              "            title=\"Convert this dataframe to an interactive table.\"\n",
              "            style=\"display:none;\">\n",
              "\n",
              "  <svg xmlns=\"http://www.w3.org/2000/svg\" height=\"24px\" viewBox=\"0 -960 960 960\">\n",
              "    <path d=\"M120-120v-720h720v720H120Zm60-500h600v-160H180v160Zm220 220h160v-160H400v160Zm0 220h160v-160H400v160ZM180-400h160v-160H180v160Zm440 0h160v-160H620v160ZM180-180h160v-160H180v160Zm440 0h160v-160H620v160Z\"/>\n",
              "  </svg>\n",
              "    </button>\n",
              "\n",
              "  <style>\n",
              "    .colab-df-container {\n",
              "      display:flex;\n",
              "      gap: 12px;\n",
              "    }\n",
              "\n",
              "    .colab-df-convert {\n",
              "      background-color: #E8F0FE;\n",
              "      border: none;\n",
              "      border-radius: 50%;\n",
              "      cursor: pointer;\n",
              "      display: none;\n",
              "      fill: #1967D2;\n",
              "      height: 32px;\n",
              "      padding: 0 0 0 0;\n",
              "      width: 32px;\n",
              "    }\n",
              "\n",
              "    .colab-df-convert:hover {\n",
              "      background-color: #E2EBFA;\n",
              "      box-shadow: 0px 1px 2px rgba(60, 64, 67, 0.3), 0px 1px 3px 1px rgba(60, 64, 67, 0.15);\n",
              "      fill: #174EA6;\n",
              "    }\n",
              "\n",
              "    .colab-df-buttons div {\n",
              "      margin-bottom: 4px;\n",
              "    }\n",
              "\n",
              "    [theme=dark] .colab-df-convert {\n",
              "      background-color: #3B4455;\n",
              "      fill: #D2E3FC;\n",
              "    }\n",
              "\n",
              "    [theme=dark] .colab-df-convert:hover {\n",
              "      background-color: #434B5C;\n",
              "      box-shadow: 0px 1px 3px 1px rgba(0, 0, 0, 0.15);\n",
              "      filter: drop-shadow(0px 1px 2px rgba(0, 0, 0, 0.3));\n",
              "      fill: #FFFFFF;\n",
              "    }\n",
              "  </style>\n",
              "\n",
              "    <script>\n",
              "      const buttonEl =\n",
              "        document.querySelector('#df-e9087877-035e-4071-8ce9-fadd6d2e3ee5 button.colab-df-convert');\n",
              "      buttonEl.style.display =\n",
              "        google.colab.kernel.accessAllowed ? 'block' : 'none';\n",
              "\n",
              "      async function convertToInteractive(key) {\n",
              "        const element = document.querySelector('#df-e9087877-035e-4071-8ce9-fadd6d2e3ee5');\n",
              "        const dataTable =\n",
              "          await google.colab.kernel.invokeFunction('convertToInteractive',\n",
              "                                                    [key], {});\n",
              "        if (!dataTable) return;\n",
              "\n",
              "        const docLinkHtml = 'Like what you see? Visit the ' +\n",
              "          '<a target=\"_blank\" href=https://colab.research.google.com/notebooks/data_table.ipynb>data table notebook</a>'\n",
              "          + ' to learn more about interactive tables.';\n",
              "        element.innerHTML = '';\n",
              "        dataTable['output_type'] = 'display_data';\n",
              "        await google.colab.output.renderOutput(dataTable, element);\n",
              "        const docLink = document.createElement('div');\n",
              "        docLink.innerHTML = docLinkHtml;\n",
              "        element.appendChild(docLink);\n",
              "      }\n",
              "    </script>\n",
              "  </div>\n",
              "\n",
              "\n",
              "<div id=\"df-e24af60e-a631-46fb-8e70-97ae936fbfca\">\n",
              "  <button class=\"colab-df-quickchart\" onclick=\"quickchart('df-e24af60e-a631-46fb-8e70-97ae936fbfca')\"\n",
              "            title=\"Suggest charts\"\n",
              "            style=\"display:none;\">\n",
              "\n",
              "<svg xmlns=\"http://www.w3.org/2000/svg\" height=\"24px\"viewBox=\"0 0 24 24\"\n",
              "     width=\"24px\">\n",
              "    <g>\n",
              "        <path d=\"M19 3H5c-1.1 0-2 .9-2 2v14c0 1.1.9 2 2 2h14c1.1 0 2-.9 2-2V5c0-1.1-.9-2-2-2zM9 17H7v-7h2v7zm4 0h-2V7h2v10zm4 0h-2v-4h2v4z\"/>\n",
              "    </g>\n",
              "</svg>\n",
              "  </button>\n",
              "\n",
              "<style>\n",
              "  .colab-df-quickchart {\n",
              "      --bg-color: #E8F0FE;\n",
              "      --fill-color: #1967D2;\n",
              "      --hover-bg-color: #E2EBFA;\n",
              "      --hover-fill-color: #174EA6;\n",
              "      --disabled-fill-color: #AAA;\n",
              "      --disabled-bg-color: #DDD;\n",
              "  }\n",
              "\n",
              "  [theme=dark] .colab-df-quickchart {\n",
              "      --bg-color: #3B4455;\n",
              "      --fill-color: #D2E3FC;\n",
              "      --hover-bg-color: #434B5C;\n",
              "      --hover-fill-color: #FFFFFF;\n",
              "      --disabled-bg-color: #3B4455;\n",
              "      --disabled-fill-color: #666;\n",
              "  }\n",
              "\n",
              "  .colab-df-quickchart {\n",
              "    background-color: var(--bg-color);\n",
              "    border: none;\n",
              "    border-radius: 50%;\n",
              "    cursor: pointer;\n",
              "    display: none;\n",
              "    fill: var(--fill-color);\n",
              "    height: 32px;\n",
              "    padding: 0;\n",
              "    width: 32px;\n",
              "  }\n",
              "\n",
              "  .colab-df-quickchart:hover {\n",
              "    background-color: var(--hover-bg-color);\n",
              "    box-shadow: 0 1px 2px rgba(60, 64, 67, 0.3), 0 1px 3px 1px rgba(60, 64, 67, 0.15);\n",
              "    fill: var(--button-hover-fill-color);\n",
              "  }\n",
              "\n",
              "  .colab-df-quickchart-complete:disabled,\n",
              "  .colab-df-quickchart-complete:disabled:hover {\n",
              "    background-color: var(--disabled-bg-color);\n",
              "    fill: var(--disabled-fill-color);\n",
              "    box-shadow: none;\n",
              "  }\n",
              "\n",
              "  .colab-df-spinner {\n",
              "    border: 2px solid var(--fill-color);\n",
              "    border-color: transparent;\n",
              "    border-bottom-color: var(--fill-color);\n",
              "    animation:\n",
              "      spin 1s steps(1) infinite;\n",
              "  }\n",
              "\n",
              "  @keyframes spin {\n",
              "    0% {\n",
              "      border-color: transparent;\n",
              "      border-bottom-color: var(--fill-color);\n",
              "      border-left-color: var(--fill-color);\n",
              "    }\n",
              "    20% {\n",
              "      border-color: transparent;\n",
              "      border-left-color: var(--fill-color);\n",
              "      border-top-color: var(--fill-color);\n",
              "    }\n",
              "    30% {\n",
              "      border-color: transparent;\n",
              "      border-left-color: var(--fill-color);\n",
              "      border-top-color: var(--fill-color);\n",
              "      border-right-color: var(--fill-color);\n",
              "    }\n",
              "    40% {\n",
              "      border-color: transparent;\n",
              "      border-right-color: var(--fill-color);\n",
              "      border-top-color: var(--fill-color);\n",
              "    }\n",
              "    60% {\n",
              "      border-color: transparent;\n",
              "      border-right-color: var(--fill-color);\n",
              "    }\n",
              "    80% {\n",
              "      border-color: transparent;\n",
              "      border-right-color: var(--fill-color);\n",
              "      border-bottom-color: var(--fill-color);\n",
              "    }\n",
              "    90% {\n",
              "      border-color: transparent;\n",
              "      border-bottom-color: var(--fill-color);\n",
              "    }\n",
              "  }\n",
              "</style>\n",
              "\n",
              "  <script>\n",
              "    async function quickchart(key) {\n",
              "      const quickchartButtonEl =\n",
              "        document.querySelector('#' + key + ' button');\n",
              "      quickchartButtonEl.disabled = true;  // To prevent multiple clicks.\n",
              "      quickchartButtonEl.classList.add('colab-df-spinner');\n",
              "      try {\n",
              "        const charts = await google.colab.kernel.invokeFunction(\n",
              "            'suggestCharts', [key], {});\n",
              "      } catch (error) {\n",
              "        console.error('Error during call to suggestCharts:', error);\n",
              "      }\n",
              "      quickchartButtonEl.classList.remove('colab-df-spinner');\n",
              "      quickchartButtonEl.classList.add('colab-df-quickchart-complete');\n",
              "    }\n",
              "    (() => {\n",
              "      let quickchartButtonEl =\n",
              "        document.querySelector('#df-e24af60e-a631-46fb-8e70-97ae936fbfca button');\n",
              "      quickchartButtonEl.style.display =\n",
              "        google.colab.kernel.accessAllowed ? 'block' : 'none';\n",
              "    })();\n",
              "  </script>\n",
              "</div>\n",
              "\n",
              "    </div>\n",
              "  </div>\n"
            ],
            "application/vnd.google.colaboratory.intrinsic+json": {
              "type": "dataframe",
              "summary": "{\n  \"name\": \"possum\",\n  \"rows\": 8,\n  \"fields\": [\n    {\n      \"column\": \"age\",\n      \"properties\": {\n        \"dtype\": \"number\",\n        \"std\": 15.152710537859853,\n        \"min\": 1.0,\n        \"max\": 46.0,\n        \"num_unique_values\": 8,\n        \"samples\": [\n          3.9565217391304346,\n          3.0,\n          46.0\n        ],\n        \"semantic_type\": \"\",\n        \"description\": \"\"\n      }\n    },\n    {\n      \"column\": \"headL\",\n      \"properties\": {\n        \"dtype\": \"number\",\n        \"std\": 33.45951976677157,\n        \"min\": 2.929332746234926,\n        \"max\": 96.3,\n        \"num_unique_values\": 8,\n        \"samples\": [\n          92.3108695652174,\n          92.85,\n          46.0\n        ],\n        \"semantic_type\": \"\",\n        \"description\": \"\"\n      }\n    },\n    {\n      \"column\": \"skullW\",\n      \"properties\": {\n        \"dtype\": \"number\",\n        \"std\": 19.166660468516213,\n        \"min\": 2.0222350957810757,\n        \"max\": 60.4,\n        \"num_unique_values\": 8,\n        \"samples\": [\n          56.48913043478261,\n          56.3,\n          46.0\n        ],\n        \"semantic_type\": \"\",\n        \"description\": \"\"\n      }\n    },\n    {\n      \"column\": \"totalL\",\n      \"properties\": {\n        \"dtype\": \"number\",\n        \"std\": 34.35046456602688,\n        \"min\": 6.842415315003554,\n        \"max\": 120.4,\n        \"num_unique_values\": 8,\n        \"samples\": [\n          88.09565217391305,\n          89.0,\n          46.0\n        ],\n        \"semantic_type\": \"\",\n        \"description\": \"\"\n      }\n    },\n    {\n      \"column\": \"tailL\",\n      \"properties\": {\n        \"dtype\": \"number\",\n        \"std\": 14.88622445265693,\n        \"min\": 3.331336358335368,\n        \"max\": 55.3,\n        \"num_unique_values\": 8,\n        \"samples\": [\n          36.332608695652176,\n          36.0,\n          46.0\n        ],\n        \"semantic_type\": \"\",\n        \"description\": \"\"\n      }\n    }\n  ]\n}"
            }
          },
          "metadata": {},
          "execution_count": 37
        }
      ],
      "source": [
        "# Alternative way to get those numbers for headL (head length)\n",
        "possum.describe()"
      ]
    },
    {
      "cell_type": "markdown",
      "id": "06f7398a",
      "metadata": {
        "id": "06f7398a"
      },
      "source": [
        "**Practice:** Display the Five-number summary, mean and standard deviation for the `'skullW'` variable using both `describe` method and using `np.min`, `np.max`, `np.percentile`, `np.mean`, and `np.std`."
      ]
    },
    {
      "cell_type": "code",
      "execution_count": 45,
      "id": "1ad4e6ef",
      "metadata": {
        "id": "1ad4e6ef"
      },
      "outputs": [],
      "source": [
        "# Your code here\n",
        "minimum = np.min(possum[\"skullW\"])\n",
        "quartiles = np.percentile(possum[\"skullW\"], [25,50,75])\n",
        "maximum = np.max(possum[\"skullW\"])\n",
        "mean = np.mean(possum[\"skullW\"])\n",
        "sd = np.std(possum[\"skullW\"], ddof =1)\n"
      ]
    },
    {
      "cell_type": "code",
      "execution_count": 46,
      "id": "e237834a",
      "metadata": {
        "colab": {
          "base_uri": "https://localhost:8080/"
        },
        "id": "e237834a",
        "outputId": "ce82717b-e113-4b28-e032-6d8bc9156a8c"
      },
      "outputs": [
        {
          "output_type": "stream",
          "name": "stdout",
          "text": [
            "Min:  51.5\n",
            "Q1:  55.1\n",
            "Median: 56.3\n",
            "Q3: 57.825\n",
            "Max: 60.4\n",
            "Mean: 56.48913043478261\n",
            "Standard deviation: 2.0222350957810757\n"
          ]
        }
      ],
      "source": [
        "# Your code here\n",
        "print('Min: ',minimum)\n",
        "print('Q1: ', quartiles[0])\n",
        "print('Median:', quartiles[1])\n",
        "print('Q3:', quartiles[2])\n",
        "print('Max:', maximum)\n",
        "print('Mean:', mean)\n",
        "print('Standard deviation:', sd)"
      ]
    },
    {
      "cell_type": "markdown",
      "id": "d98b6a7e",
      "metadata": {
        "id": "d98b6a7e"
      },
      "source": [
        "## Adittional material\n",
        "\n",
        "### Bidimensional plots\n"
      ]
    },
    {
      "cell_type": "markdown",
      "id": "984da009",
      "metadata": {
        "id": "984da009"
      },
      "source": [
        "#### Side-by-side Boxplot\n",
        "\n",
        "When we have more than one category, per example, we want to plot a side-by-side boxplot for `'skullW'` by `'sex'`.\n",
        "\n",
        "Note: We use this plot when we have one numerical variable (`'skullW'`) and one categorical variable (`'sex'`). Also, the categorical variable needs to be in xaxis and the numerical variable in the yaxis.\n"
      ]
    },
    {
      "cell_type": "code",
      "execution_count": 47,
      "id": "b686a20a",
      "metadata": {
        "colab": {
          "base_uri": "https://localhost:8080/",
          "height": 449
        },
        "id": "b686a20a",
        "outputId": "b36fd603-e4df-46c5-94e3-05e4d1c2e4c2"
      },
      "outputs": [
        {
          "output_type": "display_data",
          "data": {
            "text/plain": [
              "<Figure size 640x480 with 1 Axes>"
            ],
            "image/png": "[encoded data removed]"
          },
          "metadata": {}
        }
      ],
      "source": [
        "sns.boxplot(x= 'sex',y='skullW',data=possum)\n",
        "plt.show()"
      ]
    },
    {
      "cell_type": "markdown",
      "id": "ef5341fa",
      "metadata": {
        "id": "ef5341fa"
      },
      "source": [
        "#### Bidimensional Barplot\n",
        "\n",
        "If you want to display more than one categorical variable in a single plot, we can use a bidimensional plot.\n",
        "On OWL under the `resources/Labs/Lab 3` you'll find a folder called `bidimensional barplot`. Please review the Jupyter notebook there to see how can you create bidimensional barplots in Python."
      ]
    }
  ],
  "metadata": {
    "kernelspec": {
      "display_name": "Python 3 (ipykernel)",
      "language": "python",
      "name": "python3"
    },
    "language_info": {
      "codemirror_mode": {
        "name": "ipython",
        "version": 3
      },
      "file_extension": ".py",
      "mimetype": "text/x-python",
      "name": "python",
      "nbconvert_exporter": "python",
      "pygments_lexer": "ipython3",
      "version": "3.9.12"
    },
    "colab": {
      "provenance": [],
      "include_colab_link": true
    }
  },
  "nbformat": 4,
  "nbformat_minor": 5
}