{
  "cells": [
    {
      "cell_type": "markdown",
      "metadata": {
        "id": "view-in-github",
        "colab_type": "text"
      },
      "source": [
        "<a href=\"https://colab.research.google.com/github/heidimag/DS1000/blob/main/Lab_2.ipynb\" target=\"_parent\"><img src=\"https://colab.research.google.com/assets/colab-badge.svg\" alt=\"Open In Colab\"/></a>"
      ]
    },
    {
      "cell_type": "markdown",
      "id": "e426e631",
      "metadata": {
        "id": "e426e631"
      },
      "source": [
        "# Lab 2"
      ]
    },
    {
      "cell_type": "markdown",
      "id": "5461982e",
      "metadata": {
        "id": "5461982e"
      },
      "source": [
        "What are we covering in this lab?\n",
        "1. Dictionaries\n",
        "2. Installing and importing Packages\n",
        "3. Numpy array\n",
        "4. Pandas DataFrame"
      ]
    },
    {
      "cell_type": "markdown",
      "id": "silent-director",
      "metadata": {
        "id": "silent-director"
      },
      "source": [
        "## Data Structures"
      ]
    },
    {
      "cell_type": "markdown",
      "id": "mathematical-participation",
      "metadata": {
        "id": "mathematical-participation"
      },
      "source": [
        "### Dictionaries\n",
        "https://www.w3schools.com/python/python_dictionaries.asp\n",
        "\n",
        "Dictionaries are similar to lists. However, it is not indexed by a sequence of numbers but indexed based on `keys`. In practice, it consists of a `key` with an associated `value`. To create a dictionary we use `{key:value}`, when we have more than one key in a dictionary we use `,` to separete the elements of our dictionary."
      ]
    },
    {
      "cell_type": "code",
      "execution_count": 13,
      "id": "adjustable-paragraph",
      "metadata": {
        "id": "adjustable-paragraph",
        "outputId": "fc48d004-9e26-4026-8913-5bf9aa43448b",
        "colab": {
          "base_uri": "https://localhost:8080/"
        }
      },
      "outputs": [
        {
          "output_type": "stream",
          "name": "stdout",
          "text": [
            "{'Food': 'Happy'}\n"
          ]
        }
      ],
      "source": [
        "# Create a dictionary with one key and value\n",
        "dict_1 = {\"Food\" : \"Happy\"}\n",
        "print(dict_1)"
      ]
    },
    {
      "cell_type": "code",
      "execution_count": 14,
      "id": "db900f61",
      "metadata": {
        "id": "db900f61",
        "outputId": "54e912f2-0904-47f7-d3ac-e49af6faaaa3",
        "colab": {
          "base_uri": "https://localhost:8080/"
        }
      },
      "outputs": [
        {
          "output_type": "stream",
          "name": "stdout",
          "text": [
            "{'a': 'alpha', 'b': 'beta', 'g': 'gamma'}\n"
          ]
        }
      ],
      "source": [
        "# Create a dictionary with more than one key\n",
        "dict_2 = {\"a\": \"alpha\", \"b\": \"beta\", \"g\": \"gamma\"}\n",
        "print(dict_2)"
      ]
    },
    {
      "cell_type": "markdown",
      "id": "fbb8f5b9",
      "metadata": {
        "id": "fbb8f5b9"
      },
      "source": [
        "We can also have keys with multiple values in a dictionary. In case a key has multiple values, we write them inside `[]` separated by `,`. Later in this lab we are going to use this feature to create Dataframes in Python."
      ]
    },
    {
      "cell_type": "code",
      "execution_count": 15,
      "id": "d0bdf13e",
      "metadata": {
        "id": "d0bdf13e",
        "outputId": "8c10c237-b410-4d5b-ecea-0618457e94b3",
        "colab": {
          "base_uri": "https://localhost:8080/"
        }
      },
      "outputs": [
        {
          "output_type": "stream",
          "name": "stdout",
          "text": [
            "{'Name': ['Amanda', 'Joseph'], 'Age': [20, 23]}\n"
          ]
        }
      ],
      "source": [
        "# Create a list with two keys, labeled as Name and Age. Each key has two values.\n",
        "dict_3 = {\"Name\": [\"Amanda\", \"Joseph\"], \"Age\": [20, 23]}\n",
        "print(dict_3)"
      ]
    },
    {
      "cell_type": "markdown",
      "id": "e6d499a0",
      "metadata": {
        "id": "e6d499a0"
      },
      "source": [
        "#### Selecting elements in a dictionary\n",
        "\n",
        "To select an element in a dictionary, we write the name of our dictionary and inside `[]` we put the key correspoding to the element, that is `name_dictionary[\"key\"]`. Here we use `\"key\"`since our keys were created as strings, but if we create a key as an integer we don't need to use `\"\"`. Let's practice with some examples."
      ]
    },
    {
      "cell_type": "code",
      "execution_count": 16,
      "id": "3872555f",
      "metadata": {
        "id": "3872555f",
        "outputId": "e2f7b363-f7fa-4029-df7f-4fc74cbfa6e7",
        "colab": {
          "base_uri": "https://localhost:8080/"
        }
      },
      "outputs": [
        {
          "output_type": "stream",
          "name": "stdout",
          "text": [
            "alpha\n"
          ]
        }
      ],
      "source": [
        "# Print the value stored in the key = \"a\" in dict_2\n",
        "print(dict_2[\"a\"])"
      ]
    },
    {
      "cell_type": "code",
      "execution_count": 20,
      "id": "median-round",
      "metadata": {
        "id": "median-round",
        "outputId": "ab73bce4-01d9-469c-feeb-c3c4acd2957d",
        "colab": {
          "base_uri": "https://localhost:8080/"
        }
      },
      "outputs": [
        {
          "output_type": "stream",
          "name": "stdout",
          "text": [
            "Male\n"
          ]
        }
      ],
      "source": [
        "# Create a list in which the keys are represented by integers and select the element corresponding to the key 0\n",
        "dict_4 = {0 : \"Female\", 1: \"Male\"}\n",
        "print(dict_4[0])"
      ]
    },
    {
      "cell_type": "markdown",
      "id": "e67eaca0",
      "metadata": {
        "id": "e67eaca0"
      },
      "source": [
        "#### Adding new keys and values to an existing dictionary\n",
        "\n",
        "To add new keys and values to a dictionary we can use the `update` **method** available for dictionaries. To use it, we write `name of dictionary.update(new_dictionary)`. The new dictionary have the keys and values we want to add to our existing dictionary. Let's see an example."
      ]
    },
    {
      "cell_type": "code",
      "execution_count": 23,
      "id": "db6fea0c",
      "metadata": {
        "id": "db6fea0c",
        "outputId": "834c7ac3-d950-46df-f240-6d73ee46b279",
        "colab": {
          "base_uri": "https://localhost:8080/"
        }
      },
      "outputs": [
        {
          "output_type": "stream",
          "name": "stdout",
          "text": [
            "{'Name': ['Amanda', 'Joseph'], 'Age': [20, 23], 'Ocupation': ['Student', 'Data Scientist']}\n"
          ]
        }
      ],
      "source": [
        "# Create a new dictionary with keys and values we want to add to our dict_3\n",
        "new_dict = {\"Ocupation\": [\"Student\", \"Data Scientist\"]}\n",
        "\n",
        "# Adding new_dict to dict_3\n",
        "dict_3.update(new_dict)\n",
        "\n",
        "#Print dict_3 to see the change\n",
        "print(dict_3)"
      ]
    },
    {
      "cell_type": "markdown",
      "id": "dea8f9bc",
      "metadata": {
        "id": "dea8f9bc"
      },
      "source": [
        "## Packages\n",
        "\n",
        "\n",
        "You can think of packages as a directory of Python scripts. Each such script is a so-called module. These modules specify functions, methods and new Python types aimed at solving particular problems. There are thousands of Python packages available from the internet. Among them are packages for data science: there's NumPy to efficiently work with arrays and compute statistics, Matplotlib for data visualization, and Pandas to work with Dataframes.\n",
        "\n",
        "To use Python packages, you'll first have to `install` them on your own system, and then put code in your script to tell Python that you want to use these packages."
      ]
    },
    {
      "cell_type": "markdown",
      "id": "automotive-profession",
      "metadata": {
        "id": "automotive-profession"
      },
      "source": [
        "**Pandas:** https://pandas.pydata.org/docs/ <br/>\n",
        "**Numpy:** https://numpy.org/doc/1.20/user/absolute_beginners.html"
      ]
    },
    {
      "cell_type": "markdown",
      "id": "22034bc7",
      "metadata": {
        "id": "22034bc7"
      },
      "source": [
        "### Numpy package"
      ]
    },
    {
      "cell_type": "markdown",
      "id": "1f4be2ff",
      "metadata": {
        "id": "1f4be2ff"
      },
      "source": [
        "#### Installing packages\n",
        "\n",
        "Installing packages in Python is not difficult, we need to use `pip install` `package_name`"
      ]
    },
    {
      "cell_type": "code",
      "execution_count": null,
      "id": "3b49015e",
      "metadata": {
        "id": "3b49015e"
      },
      "outputs": [],
      "source": [
        "pip install numpy"
      ]
    },
    {
      "cell_type": "markdown",
      "id": "4031a80c",
      "metadata": {
        "id": "4031a80c"
      },
      "source": [
        "#### Importing packages\n",
        "\n",
        "Now, that we have installed numpy package we can import it using `import` `package_name`. Sometimes the package's name is too long so we can create a nickname for it using `as` `nickname` when importanting the package. So everytime we want to use the package we can called it by its nickname."
      ]
    },
    {
      "cell_type": "code",
      "execution_count": 29,
      "id": "seeing-trash",
      "metadata": {
        "id": "seeing-trash"
      },
      "outputs": [],
      "source": [
        "# Import package numpy with nickname np\n",
        "import numpy as np"
      ]
    },
    {
      "cell_type": "markdown",
      "id": "308c08a3",
      "metadata": {
        "id": "308c08a3"
      },
      "source": [
        "#### Arrays"
      ]
    },
    {
      "cell_type": "markdown",
      "id": "parental-courtesy",
      "metadata": {
        "id": "parental-courtesy"
      },
      "source": [
        "**np.array**: https://numpy.org/doc/stable/reference/generated/numpy.array.html"
      ]
    },
    {
      "cell_type": "code",
      "execution_count": null,
      "id": "c66c57ba",
      "metadata": {
        "id": "c66c57ba"
      },
      "outputs": [],
      "source": [
        "# Get error when we don't specified the package the function array is from\n",
        "array([1,2,3,4])"
      ]
    },
    {
      "cell_type": "markdown",
      "id": "15c726c7",
      "metadata": {
        "id": "15c726c7"
      },
      "source": [
        "To use function from packages we need to specify the package before running the function as `package's_name_or_nickname.function()`"
      ]
    },
    {
      "cell_type": "code",
      "execution_count": null,
      "id": "68ccd7b7",
      "metadata": {
        "id": "68ccd7b7"
      },
      "outputs": [],
      "source": [
        "np.array([1,2,3,4])"
      ]
    },
    {
      "cell_type": "code",
      "execution_count": 39,
      "id": "ed444169",
      "metadata": {
        "id": "ed444169",
        "colab": {
          "base_uri": "https://localhost:8080/"
        },
        "collapsed": true,
        "outputId": "25ed4107-b6ed-4ba8-ef9f-191fc0bbcc95"
      },
      "outputs": [
        {
          "output_type": "stream",
          "name": "stdout",
          "text": [
            "[[1 2]\n",
            " [3 2]]\n",
            "[[5 4]\n",
            " [6 7]]\n"
          ]
        }
      ],
      "source": [
        "# Create  2D arrays\n",
        "arr_1 = np.array([[1, 2], [3, 2]])\n",
        "arr_2 = np.array([[5, 4], [6, 7]])\n",
        "print(arr_1)\n",
        "print(arr_2)"
      ]
    },
    {
      "cell_type": "code",
      "execution_count": 38,
      "id": "martial-wheat",
      "metadata": {
        "id": "martial-wheat",
        "colab": {
          "base_uri": "https://localhost:8080/"
        },
        "collapsed": true,
        "outputId": "8f64369e-e9af-4c11-c5e7-2d46e9f065ac"
      },
      "outputs": [
        {
          "output_type": "stream",
          "name": "stdout",
          "text": [
            "Shape of arr_1: (2, 2)\n",
            "Shape of arr_2: (2, 2)\n"
          ]
        }
      ],
      "source": [
        "# Print shape of an array. Shape = (number of rows, number of columns)\n",
        "print(\"Shape of arr_1:\", np.shape(arr_1))\n",
        "print(\"Shape of arr_2:\", np.shape(arr_2))"
      ]
    },
    {
      "cell_type": "code",
      "execution_count": 34,
      "id": "7a3a2c60",
      "metadata": {
        "id": "7a3a2c60",
        "colab": {
          "base_uri": "https://localhost:8080/"
        },
        "outputId": "e5051526-8ebd-4a62-f258-044065e27b9d"
      },
      "outputs": [
        {
          "output_type": "stream",
          "name": "stdout",
          "text": [
            "dot product:\n",
            " [[17 18]\n",
            " [27 26]]\n"
          ]
        }
      ],
      "source": [
        "# Array operators\n",
        "print(\"dot product:\\n\", arr_1 @ arr_2)"
      ]
    },
    {
      "cell_type": "code",
      "execution_count": 35,
      "id": "single-treatment",
      "metadata": {
        "id": "single-treatment",
        "colab": {
          "base_uri": "https://localhost:8080/"
        },
        "outputId": "f212ea3e-0480-4118-b7b5-29538287d6ca"
      },
      "outputs": [
        {
          "output_type": "stream",
          "name": "stdout",
          "text": [
            "exponents:\n",
            " [[1 4]\n",
            " [9 4]]\n"
          ]
        }
      ],
      "source": [
        "# Elementwise exponential\n",
        "print(\"exponents:\\n\", arr_1 ** 2)"
      ]
    },
    {
      "cell_type": "code",
      "execution_count": 36,
      "id": "floppy-tongue",
      "metadata": {
        "id": "floppy-tongue",
        "colab": {
          "base_uri": "https://localhost:8080/"
        },
        "outputId": "38576a05-35c8-43d6-d325-dfa05da1a14a"
      },
      "outputs": [
        {
          "output_type": "stream",
          "name": "stdout",
          "text": [
            "scalars\n",
            " [[ 5 10]\n",
            " [15 10]]\n"
          ]
        }
      ],
      "source": [
        "# Elementwise multiplication\n",
        "print(\"scalars\\n\", arr_1 * 5)"
      ]
    },
    {
      "cell_type": "code",
      "execution_count": 37,
      "id": "sticky-tragedy",
      "metadata": {
        "id": "sticky-tragedy",
        "colab": {
          "base_uri": "https://localhost:8080/"
        },
        "outputId": "ce8978b8-0296-4fb4-a38e-c74242526229"
      },
      "outputs": [
        {
          "output_type": "stream",
          "name": "stdout",
          "text": [
            "Array with entries of 1: \n",
            " [[1. 1. 1.]\n",
            " [1. 1. 1.]\n",
            " [1. 1. 1.]]\n"
          ]
        }
      ],
      "source": [
        "# Create an array filled of ones of given shape (3,3)\n",
        "print(\"Array with entries of 1: \\n\", np.ones((3, 3)))"
      ]
    },
    {
      "cell_type": "code",
      "execution_count": null,
      "id": "sought-rachel",
      "metadata": {
        "id": "sought-rachel"
      },
      "outputs": [],
      "source": [
        "# Create an array filled of zeros of given shape (2,1)\n",
        "print(\"Array with entries of 0: \\n\", np.zeros((5, 1)))"
      ]
    },
    {
      "cell_type": "code",
      "execution_count": null,
      "id": "operating-embassy",
      "metadata": {
        "id": "operating-embassy"
      },
      "outputs": [],
      "source": [
        "# Evenly spaced numbers over a specified interval (start, end, number of values you want in the interval)\n",
        "print(\"Sequence:\\n\", np.linspace(2, 9, 3))"
      ]
    },
    {
      "cell_type": "code",
      "execution_count": null,
      "id": "operating-dressing",
      "metadata": {
        "id": "operating-dressing"
      },
      "outputs": [],
      "source": [
        "# Sort in an ascending order an array by row\n",
        "print(\"Sorted arr_1:\\n\", np.sort(arr_1))"
      ]
    },
    {
      "cell_type": "markdown",
      "id": "0f4a6228",
      "metadata": {
        "id": "0f4a6228"
      },
      "source": [
        "#### Pandas package"
      ]
    },
    {
      "cell_type": "markdown",
      "id": "323e3437",
      "metadata": {
        "id": "323e3437"
      },
      "source": [
        "#### Install pandas package"
      ]
    },
    {
      "cell_type": "code",
      "execution_count": null,
      "id": "87c7f99f",
      "metadata": {
        "id": "87c7f99f"
      },
      "outputs": [],
      "source": [
        "# We need to install a package once, then you comment (#) the next line of code"
      ]
    },
    {
      "cell_type": "code",
      "execution_count": null,
      "id": "50212da6",
      "metadata": {
        "id": "50212da6"
      },
      "outputs": [],
      "source": [
        "pip install pandas"
      ]
    },
    {
      "cell_type": "markdown",
      "id": "a3a8b58c",
      "metadata": {
        "id": "a3a8b58c"
      },
      "source": [
        "#### Importing pandas package"
      ]
    },
    {
      "cell_type": "code",
      "execution_count": 43,
      "id": "6a1c335e",
      "metadata": {
        "id": "6a1c335e"
      },
      "outputs": [],
      "source": [
        "import pandas as pd"
      ]
    },
    {
      "cell_type": "markdown",
      "id": "0582d6d2",
      "metadata": {
        "id": "0582d6d2"
      },
      "source": [
        "### Creating DataFrames in Python"
      ]
    },
    {
      "cell_type": "markdown",
      "id": "racial-intro",
      "metadata": {
        "id": "racial-intro"
      },
      "source": [
        "**pd.DataFrame:** https://pandas.pydata.org/pandas-docs/stable/reference/api/pandas.DataFrame.html\n",
        "\n",
        "To create DataFrames (Tables) in Python we use the method `DataFrame` available in the Pandas package. In this course, if you want to create a DataFrame from scratch, we first create a dictionary with keys as the columns of our table. Then, we use `pd.DataFrame(dictionary_name)` to transform our dictionary into a DataFrame into Python. Let's see an example"
      ]
    },
    {
      "cell_type": "code",
      "execution_count": 44,
      "id": "latest-statistics",
      "metadata": {
        "id": "latest-statistics",
        "colab": {
          "base_uri": "https://localhost:8080/",
          "height": 125
        },
        "outputId": "6d3549cc-5a25-4803-f78f-6e02acb6cb8a"
      },
      "outputs": [
        {
          "output_type": "execute_result",
          "data": {
            "text/plain": [
              "   Age  Height\n",
              "0    1       5\n",
              "1    2      10"
            ],
            "text/html": [
              "\n",
              "  <div id=\"df-2a28e1fc-c29b-43c1-b7d5-174912be37c2\" class=\"colab-df-container\">\n",
              "    <div>\n",
              "<style scoped>\n",
              "    .dataframe tbody tr th:only-of-type {\n",
              "        vertical-align: middle;\n",
              "    }\n",
              "\n",
              "    .dataframe tbody tr th {\n",
              "        vertical-align: top;\n",
              "    }\n",
              "\n",
              "    .dataframe thead th {\n",
              "        text-align: right;\n",
              "    }\n",
              "</style>\n",
              "<table border=\"1\" class=\"dataframe\">\n",
              "  <thead>\n",
              "    <tr style=\"text-align: right;\">\n",
              "      <th></th>\n",
              "      <th>Age</th>\n",
              "      <th>Height</th>\n",
              "    </tr>\n",
              "  </thead>\n",
              "  <tbody>\n",
              "    <tr>\n",
              "      <th>0</th>\n",
              "      <td>1</td>\n",
              "      <td>5</td>\n",
              "    </tr>\n",
              "    <tr>\n",
              "      <th>1</th>\n",
              "      <td>2</td>\n",
              "      <td>10</td>\n",
              "    </tr>\n",
              "  </tbody>\n",
              "</table>\n",
              "</div>\n",
              "    <div class=\"colab-df-buttons\">\n",
              "\n",
              "  <div class=\"colab-df-container\">\n",
              "    <button class=\"colab-df-convert\" onclick=\"convertToInteractive('df-2a28e1fc-c29b-43c1-b7d5-174912be37c2')\"\n",
              "            title=\"Convert this dataframe to an interactive table.\"\n",
              "            style=\"display:none;\">\n",
              "\n",
              "  <svg xmlns=\"http://www.w3.org/2000/svg\" height=\"24px\" viewBox=\"0 -960 960 960\">\n",
              "    <path d=\"M120-120v-720h720v720H120Zm60-500h600v-160H180v160Zm220 220h160v-160H400v160Zm0 220h160v-160H400v160ZM180-400h160v-160H180v160Zm440 0h160v-160H620v160ZM180-180h160v-160H180v160Zm440 0h160v-160H620v160Z\"/>\n",
              "  </svg>\n",
              "    </button>\n",
              "\n",
              "  <style>\n",
              "    .colab-df-container {\n",
              "      display:flex;\n",
              "      gap: 12px;\n",
              "    }\n",
              "\n",
              "    .colab-df-convert {\n",
              "      background-color: #E8F0FE;\n",
              "      border: none;\n",
              "      border-radius: 50%;\n",
              "      cursor: pointer;\n",
              "      display: none;\n",
              "      fill: #1967D2;\n",
              "      height: 32px;\n",
              "      padding: 0 0 0 0;\n",
              "      width: 32px;\n",
              "    }\n",
              "\n",
              "    .colab-df-convert:hover {\n",
              "      background-color: #E2EBFA;\n",
              "      box-shadow: 0px 1px 2px rgba(60, 64, 67, 0.3), 0px 1px 3px 1px rgba(60, 64, 67, 0.15);\n",
              "      fill: #174EA6;\n",
              "    }\n",
              "\n",
              "    .colab-df-buttons div {\n",
              "      margin-bottom: 4px;\n",
              "    }\n",
              "\n",
              "    [theme=dark] .colab-df-convert {\n",
              "      background-color: #3B4455;\n",
              "      fill: #D2E3FC;\n",
              "    }\n",
              "\n",
              "    [theme=dark] .colab-df-convert:hover {\n",
              "      background-color: #434B5C;\n",
              "      box-shadow: 0px 1px 3px 1px rgba(0, 0, 0, 0.15);\n",
              "      filter: drop-shadow(0px 1px 2px rgba(0, 0, 0, 0.3));\n",
              "      fill: #FFFFFF;\n",
              "    }\n",
              "  </style>\n",
              "\n",
              "    <script>\n",
              "      const buttonEl =\n",
              "        document.querySelector('#df-2a28e1fc-c29b-43c1-b7d5-174912be37c2 button.colab-df-convert');\n",
              "      buttonEl.style.display =\n",
              "        google.colab.kernel.accessAllowed ? 'block' : 'none';\n",
              "\n",
              "      async function convertToInteractive(key) {\n",
              "        const element = document.querySelector('#df-2a28e1fc-c29b-43c1-b7d5-174912be37c2');\n",
              "        const dataTable =\n",
              "          await google.colab.kernel.invokeFunction('convertToInteractive',\n",
              "                                                    [key], {});\n",
              "        if (!dataTable) return;\n",
              "\n",
              "        const docLinkHtml = 'Like what you see? Visit the ' +\n",
              "          '<a target=\"_blank\" href=https://colab.research.google.com/notebooks/data_table.ipynb>data table notebook</a>'\n",
              "          + ' to learn more about interactive tables.';\n",
              "        element.innerHTML = '';\n",
              "        dataTable['output_type'] = 'display_data';\n",
              "        await google.colab.output.renderOutput(dataTable, element);\n",
              "        const docLink = document.createElement('div');\n",
              "        docLink.innerHTML = docLinkHtml;\n",
              "        element.appendChild(docLink);\n",
              "      }\n",
              "    </script>\n",
              "  </div>\n",
              "\n",
              "\n",
              "<div id=\"df-4caff1dd-38ed-4cfc-9d9e-70705792de5a\">\n",
              "  <button class=\"colab-df-quickchart\" onclick=\"quickchart('df-4caff1dd-38ed-4cfc-9d9e-70705792de5a')\"\n",
              "            title=\"Suggest charts\"\n",
              "            style=\"display:none;\">\n",
              "\n",
              "<svg xmlns=\"http://www.w3.org/2000/svg\" height=\"24px\"viewBox=\"0 0 24 24\"\n",
              "     width=\"24px\">\n",
              "    <g>\n",
              "        <path d=\"M19 3H5c-1.1 0-2 .9-2 2v14c0 1.1.9 2 2 2h14c1.1 0 2-.9 2-2V5c0-1.1-.9-2-2-2zM9 17H7v-7h2v7zm4 0h-2V7h2v10zm4 0h-2v-4h2v4z\"/>\n",
              "    </g>\n",
              "</svg>\n",
              "  </button>\n",
              "\n",
              "<style>\n",
              "  .colab-df-quickchart {\n",
              "      --bg-color: #E8F0FE;\n",
              "      --fill-color: #1967D2;\n",
              "      --hover-bg-color: #E2EBFA;\n",
              "      --hover-fill-color: #174EA6;\n",
              "      --disabled-fill-color: #AAA;\n",
              "      --disabled-bg-color: #DDD;\n",
              "  }\n",
              "\n",
              "  [theme=dark] .colab-df-quickchart {\n",
              "      --bg-color: #3B4455;\n",
              "      --fill-color: #D2E3FC;\n",
              "      --hover-bg-color: #434B5C;\n",
              "      --hover-fill-color: #FFFFFF;\n",
              "      --disabled-bg-color: #3B4455;\n",
              "      --disabled-fill-color: #666;\n",
              "  }\n",
              "\n",
              "  .colab-df-quickchart {\n",
              "    background-color: var(--bg-color);\n",
              "    border: none;\n",
              "    border-radius: 50%;\n",
              "    cursor: pointer;\n",
              "    display: none;\n",
              "    fill: var(--fill-color);\n",
              "    height: 32px;\n",
              "    padding: 0;\n",
              "    width: 32px;\n",
              "  }\n",
              "\n",
              "  .colab-df-quickchart:hover {\n",
              "    background-color: var(--hover-bg-color);\n",
              "    box-shadow: 0 1px 2px rgba(60, 64, 67, 0.3), 0 1px 3px 1px rgba(60, 64, 67, 0.15);\n",
              "    fill: var(--button-hover-fill-color);\n",
              "  }\n",
              "\n",
              "  .colab-df-quickchart-complete:disabled,\n",
              "  .colab-df-quickchart-complete:disabled:hover {\n",
              "    background-color: var(--disabled-bg-color);\n",
              "    fill: var(--disabled-fill-color);\n",
              "    box-shadow: none;\n",
              "  }\n",
              "\n",
              "  .colab-df-spinner {\n",
              "    border: 2px solid var(--fill-color);\n",
              "    border-color: transparent;\n",
              "    border-bottom-color: var(--fill-color);\n",
              "    animation:\n",
              "      spin 1s steps(1) infinite;\n",
              "  }\n",
              "\n",
              "  @keyframes spin {\n",
              "    0% {\n",
              "      border-color: transparent;\n",
              "      border-bottom-color: var(--fill-color);\n",
              "      border-left-color: var(--fill-color);\n",
              "    }\n",
              "    20% {\n",
              "      border-color: transparent;\n",
              "      border-left-color: var(--fill-color);\n",
              "      border-top-color: var(--fill-color);\n",
              "    }\n",
              "    30% {\n",
              "      border-color: transparent;\n",
              "      border-left-color: var(--fill-color);\n",
              "      border-top-color: var(--fill-color);\n",
              "      border-right-color: var(--fill-color);\n",
              "    }\n",
              "    40% {\n",
              "      border-color: transparent;\n",
              "      border-right-color: var(--fill-color);\n",
              "      border-top-color: var(--fill-color);\n",
              "    }\n",
              "    60% {\n",
              "      border-color: transparent;\n",
              "      border-right-color: var(--fill-color);\n",
              "    }\n",
              "    80% {\n",
              "      border-color: transparent;\n",
              "      border-right-color: var(--fill-color);\n",
              "      border-bottom-color: var(--fill-color);\n",
              "    }\n",
              "    90% {\n",
              "      border-color: transparent;\n",
              "      border-bottom-color: var(--fill-color);\n",
              "    }\n",
              "  }\n",
              "</style>\n",
              "\n",
              "  <script>\n",
              "    async function quickchart(key) {\n",
              "      const quickchartButtonEl =\n",
              "        document.querySelector('#' + key + ' button');\n",
              "      quickchartButtonEl.disabled = true;  // To prevent multiple clicks.\n",
              "      quickchartButtonEl.classList.add('colab-df-spinner');\n",
              "      try {\n",
              "        const charts = await google.colab.kernel.invokeFunction(\n",
              "            'suggestCharts', [key], {});\n",
              "      } catch (error) {\n",
              "        console.error('Error during call to suggestCharts:', error);\n",
              "      }\n",
              "      quickchartButtonEl.classList.remove('colab-df-spinner');\n",
              "      quickchartButtonEl.classList.add('colab-df-quickchart-complete');\n",
              "    }\n",
              "    (() => {\n",
              "      let quickchartButtonEl =\n",
              "        document.querySelector('#df-4caff1dd-38ed-4cfc-9d9e-70705792de5a button');\n",
              "      quickchartButtonEl.style.display =\n",
              "        google.colab.kernel.accessAllowed ? 'block' : 'none';\n",
              "    })();\n",
              "  </script>\n",
              "</div>\n",
              "\n",
              "  <div id=\"id_28d7a85e-8650-4225-92f0-bc7cf7c3ff7c\">\n",
              "    <style>\n",
              "      .colab-df-generate {\n",
              "        background-color: #E8F0FE;\n",
              "        border: none;\n",
              "        border-radius: 50%;\n",
              "        cursor: pointer;\n",
              "        display: none;\n",
              "        fill: #1967D2;\n",
              "        height: 32px;\n",
              "        padding: 0 0 0 0;\n",
              "        width: 32px;\n",
              "      }\n",
              "\n",
              "      .colab-df-generate:hover {\n",
              "        background-color: #E2EBFA;\n",
              "        box-shadow: 0px 1px 2px rgba(60, 64, 67, 0.3), 0px 1px 3px 1px rgba(60, 64, 67, 0.15);\n",
              "        fill: #174EA6;\n",
              "      }\n",
              "\n",
              "      [theme=dark] .colab-df-generate {\n",
              "        background-color: #3B4455;\n",
              "        fill: #D2E3FC;\n",
              "      }\n",
              "\n",
              "      [theme=dark] .colab-df-generate:hover {\n",
              "        background-color: #434B5C;\n",
              "        box-shadow: 0px 1px 3px 1px rgba(0, 0, 0, 0.15);\n",
              "        filter: drop-shadow(0px 1px 2px rgba(0, 0, 0, 0.3));\n",
              "        fill: #FFFFFF;\n",
              "      }\n",
              "    </style>\n",
              "    <button class=\"colab-df-generate\" onclick=\"generateWithVariable('df')\"\n",
              "            title=\"Generate code using this dataframe.\"\n",
              "            style=\"display:none;\">\n",
              "\n",
              "  <svg xmlns=\"http://www.w3.org/2000/svg\" height=\"24px\"viewBox=\"0 0 24 24\"\n",
              "       width=\"24px\">\n",
              "    <path d=\"M7,19H8.4L18.45,9,17,7.55,7,17.6ZM5,21V16.75L18.45,3.32a2,2,0,0,1,2.83,0l1.4,1.43a1.91,1.91,0,0,1,.58,1.4,1.91,1.91,0,0,1-.58,1.4L9.25,21ZM18.45,9,17,7.55Zm-12,3A5.31,5.31,0,0,0,4.9,8.1,5.31,5.31,0,0,0,1,6.5,5.31,5.31,0,0,0,4.9,4.9,5.31,5.31,0,0,0,6.5,1,5.31,5.31,0,0,0,8.1,4.9,5.31,5.31,0,0,0,12,6.5,5.46,5.46,0,0,0,6.5,12Z\"/>\n",
              "  </svg>\n",
              "    </button>\n",
              "    <script>\n",
              "      (() => {\n",
              "      const buttonEl =\n",
              "        document.querySelector('#id_28d7a85e-8650-4225-92f0-bc7cf7c3ff7c button.colab-df-generate');\n",
              "      buttonEl.style.display =\n",
              "        google.colab.kernel.accessAllowed ? 'block' : 'none';\n",
              "\n",
              "      buttonEl.onclick = () => {\n",
              "        google.colab.notebook.generateWithVariable('df');\n",
              "      }\n",
              "      })();\n",
              "    </script>\n",
              "  </div>\n",
              "\n",
              "    </div>\n",
              "  </div>\n"
            ],
            "application/vnd.google.colaboratory.intrinsic+json": {
              "type": "dataframe",
              "variable_name": "df",
              "summary": "{\n  \"name\": \"df\",\n  \"rows\": 2,\n  \"fields\": [\n    {\n      \"column\": \"Age\",\n      \"properties\": {\n        \"dtype\": \"number\",\n        \"std\": 0,\n        \"min\": 1,\n        \"max\": 2,\n        \"num_unique_values\": 2,\n        \"samples\": [\n          2,\n          1\n        ],\n        \"semantic_type\": \"\",\n        \"description\": \"\"\n      }\n    },\n    {\n      \"column\": \"Height\",\n      \"properties\": {\n        \"dtype\": \"number\",\n        \"std\": 3,\n        \"min\": 5,\n        \"max\": 10,\n        \"num_unique_values\": 2,\n        \"samples\": [\n          10,\n          5\n        ],\n        \"semantic_type\": \"\",\n        \"description\": \"\"\n      }\n    }\n  ]\n}"
            }
          },
          "metadata": {},
          "execution_count": 44
        }
      ],
      "source": [
        "df_data = {\"Age\" : [1, 2], \"Height\" : [5, 10]}\n",
        "df = pd.DataFrame(data = df_data)\n",
        "df"
      ]
    },
    {
      "cell_type": "markdown",
      "id": "eb9536dc",
      "metadata": {
        "id": "eb9536dc"
      },
      "source": [
        "#### Getting the shape of a DataFrame\n",
        "\n",
        "We can use the `shape` method to get the number of rows and columns in a DataFrame. Recipe: `name_dataframe.shape`"
      ]
    },
    {
      "cell_type": "code",
      "execution_count": 46,
      "id": "adba0846",
      "metadata": {
        "id": "adba0846",
        "colab": {
          "base_uri": "https://localhost:8080/"
        },
        "outputId": "062bbd71-68a4-48fa-8e0c-259634cc0885"
      },
      "outputs": [
        {
          "output_type": "execute_result",
          "data": {
            "text/plain": [
              "(2, 3)"
            ]
          },
          "metadata": {},
          "execution_count": 46
        }
      ],
      "source": [
        "df.shape"
      ]
    },
    {
      "cell_type": "markdown",
      "id": "fb281f15",
      "metadata": {
        "id": "fb281f15"
      },
      "source": [
        "#### Adding a new column to a DataFrame\n",
        "\n",
        "Image we want a new column to our DataFrame `df`. We know that `df` has 2 rows (observations) and 2 columns (variables) so our new columns need to have two rows as well."
      ]
    },
    {
      "cell_type": "code",
      "execution_count": 45,
      "id": "external-tumor",
      "metadata": {
        "id": "external-tumor",
        "colab": {
          "base_uri": "https://localhost:8080/",
          "height": 125
        },
        "outputId": "c577694b-68c5-49b7-96ef-81c27866b5e8"
      },
      "outputs": [
        {
          "output_type": "execute_result",
          "data": {
            "text/plain": [
              "   Age  Height  Weight\n",
              "0    1       5      10\n",
              "1    2      10      25"
            ],
            "text/html": [
              "\n",
              "  <div id=\"df-18a40be3-d4e0-4d2f-b5f8-213e34fd9734\" class=\"colab-df-container\">\n",
              "    <div>\n",
              "<style scoped>\n",
              "    .dataframe tbody tr th:only-of-type {\n",
              "        vertical-align: middle;\n",
              "    }\n",
              "\n",
              "    .dataframe tbody tr th {\n",
              "        vertical-align: top;\n",
              "    }\n",
              "\n",
              "    .dataframe thead th {\n",
              "        text-align: right;\n",
              "    }\n",
              "</style>\n",
              "<table border=\"1\" class=\"dataframe\">\n",
              "  <thead>\n",
              "    <tr style=\"text-align: right;\">\n",
              "      <th></th>\n",
              "      <th>Age</th>\n",
              "      <th>Height</th>\n",
              "      <th>Weight</th>\n",
              "    </tr>\n",
              "  </thead>\n",
              "  <tbody>\n",
              "    <tr>\n",
              "      <th>0</th>\n",
              "      <td>1</td>\n",
              "      <td>5</td>\n",
              "      <td>10</td>\n",
              "    </tr>\n",
              "    <tr>\n",
              "      <th>1</th>\n",
              "      <td>2</td>\n",
              "      <td>10</td>\n",
              "      <td>25</td>\n",
              "    </tr>\n",
              "  </tbody>\n",
              "</table>\n",
              "</div>\n",
              "    <div class=\"colab-df-buttons\">\n",
              "\n",
              "  <div class=\"colab-df-container\">\n",
              "    <button class=\"colab-df-convert\" onclick=\"convertToInteractive('df-18a40be3-d4e0-4d2f-b5f8-213e34fd9734')\"\n",
              "            title=\"Convert this dataframe to an interactive table.\"\n",
              "            style=\"display:none;\">\n",
              "\n",
              "  <svg xmlns=\"http://www.w3.org/2000/svg\" height=\"24px\" viewBox=\"0 -960 960 960\">\n",
              "    <path d=\"M120-120v-720h720v720H120Zm60-500h600v-160H180v160Zm220 220h160v-160H400v160Zm0 220h160v-160H400v160ZM180-400h160v-160H180v160Zm440 0h160v-160H620v160ZM180-180h160v-160H180v160Zm440 0h160v-160H620v160Z\"/>\n",
              "  </svg>\n",
              "    </button>\n",
              "\n",
              "  <style>\n",
              "    .colab-df-container {\n",
              "      display:flex;\n",
              "      gap: 12px;\n",
              "    }\n",
              "\n",
              "    .colab-df-convert {\n",
              "      background-color: #E8F0FE;\n",
              "      border: none;\n",
              "      border-radius: 50%;\n",
              "      cursor: pointer;\n",
              "      display: none;\n",
              "      fill: #1967D2;\n",
              "      height: 32px;\n",
              "      padding: 0 0 0 0;\n",
              "      width: 32px;\n",
              "    }\n",
              "\n",
              "    .colab-df-convert:hover {\n",
              "      background-color: #E2EBFA;\n",
              "      box-shadow: 0px 1px 2px rgba(60, 64, 67, 0.3), 0px 1px 3px 1px rgba(60, 64, 67, 0.15);\n",
              "      fill: #174EA6;\n",
              "    }\n",
              "\n",
              "    .colab-df-buttons div {\n",
              "      margin-bottom: 4px;\n",
              "    }\n",
              "\n",
              "    [theme=dark] .colab-df-convert {\n",
              "      background-color: #3B4455;\n",
              "      fill: #D2E3FC;\n",
              "    }\n",
              "\n",
              "    [theme=dark] .colab-df-convert:hover {\n",
              "      background-color: #434B5C;\n",
              "      box-shadow: 0px 1px 3px 1px rgba(0, 0, 0, 0.15);\n",
              "      filter: drop-shadow(0px 1px 2px rgba(0, 0, 0, 0.3));\n",
              "      fill: #FFFFFF;\n",
              "    }\n",
              "  </style>\n",
              "\n",
              "    <script>\n",
              "      const buttonEl =\n",
              "        document.querySelector('#df-18a40be3-d4e0-4d2f-b5f8-213e34fd9734 button.colab-df-convert');\n",
              "      buttonEl.style.display =\n",
              "        google.colab.kernel.accessAllowed ? 'block' : 'none';\n",
              "\n",
              "      async function convertToInteractive(key) {\n",
              "        const element = document.querySelector('#df-18a40be3-d4e0-4d2f-b5f8-213e34fd9734');\n",
              "        const dataTable =\n",
              "          await google.colab.kernel.invokeFunction('convertToInteractive',\n",
              "                                                    [key], {});\n",
              "        if (!dataTable) return;\n",
              "\n",
              "        const docLinkHtml = 'Like what you see? Visit the ' +\n",
              "          '<a target=\"_blank\" href=https://colab.research.google.com/notebooks/data_table.ipynb>data table notebook</a>'\n",
              "          + ' to learn more about interactive tables.';\n",
              "        element.innerHTML = '';\n",
              "        dataTable['output_type'] = 'display_data';\n",
              "        await google.colab.output.renderOutput(dataTable, element);\n",
              "        const docLink = document.createElement('div');\n",
              "        docLink.innerHTML = docLinkHtml;\n",
              "        element.appendChild(docLink);\n",
              "      }\n",
              "    </script>\n",
              "  </div>\n",
              "\n",
              "\n",
              "<div id=\"df-00d98fd0-2663-401e-b81d-c157ac740dea\">\n",
              "  <button class=\"colab-df-quickchart\" onclick=\"quickchart('df-00d98fd0-2663-401e-b81d-c157ac740dea')\"\n",
              "            title=\"Suggest charts\"\n",
              "            style=\"display:none;\">\n",
              "\n",
              "<svg xmlns=\"http://www.w3.org/2000/svg\" height=\"24px\"viewBox=\"0 0 24 24\"\n",
              "     width=\"24px\">\n",
              "    <g>\n",
              "        <path d=\"M19 3H5c-1.1 0-2 .9-2 2v14c0 1.1.9 2 2 2h14c1.1 0 2-.9 2-2V5c0-1.1-.9-2-2-2zM9 17H7v-7h2v7zm4 0h-2V7h2v10zm4 0h-2v-4h2v4z\"/>\n",
              "    </g>\n",
              "</svg>\n",
              "  </button>\n",
              "\n",
              "<style>\n",
              "  .colab-df-quickchart {\n",
              "      --bg-color: #E8F0FE;\n",
              "      --fill-color: #1967D2;\n",
              "      --hover-bg-color: #E2EBFA;\n",
              "      --hover-fill-color: #174EA6;\n",
              "      --disabled-fill-color: #AAA;\n",
              "      --disabled-bg-color: #DDD;\n",
              "  }\n",
              "\n",
              "  [theme=dark] .colab-df-quickchart {\n",
              "      --bg-color: #3B4455;\n",
              "      --fill-color: #D2E3FC;\n",
              "      --hover-bg-color: #434B5C;\n",
              "      --hover-fill-color: #FFFFFF;\n",
              "      --disabled-bg-color: #3B4455;\n",
              "      --disabled-fill-color: #666;\n",
              "  }\n",
              "\n",
              "  .colab-df-quickchart {\n",
              "    background-color: var(--bg-color);\n",
              "    border: none;\n",
              "    border-radius: 50%;\n",
              "    cursor: pointer;\n",
              "    display: none;\n",
              "    fill: var(--fill-color);\n",
              "    height: 32px;\n",
              "    padding: 0;\n",
              "    width: 32px;\n",
              "  }\n",
              "\n",
              "  .colab-df-quickchart:hover {\n",
              "    background-color: var(--hover-bg-color);\n",
              "    box-shadow: 0 1px 2px rgba(60, 64, 67, 0.3), 0 1px 3px 1px rgba(60, 64, 67, 0.15);\n",
              "    fill: var(--button-hover-fill-color);\n",
              "  }\n",
              "\n",
              "  .colab-df-quickchart-complete:disabled,\n",
              "  .colab-df-quickchart-complete:disabled:hover {\n",
              "    background-color: var(--disabled-bg-color);\n",
              "    fill: var(--disabled-fill-color);\n",
              "    box-shadow: none;\n",
              "  }\n",
              "\n",
              "  .colab-df-spinner {\n",
              "    border: 2px solid var(--fill-color);\n",
              "    border-color: transparent;\n",
              "    border-bottom-color: var(--fill-color);\n",
              "    animation:\n",
              "      spin 1s steps(1) infinite;\n",
              "  }\n",
              "\n",
              "  @keyframes spin {\n",
              "    0% {\n",
              "      border-color: transparent;\n",
              "      border-bottom-color: var(--fill-color);\n",
              "      border-left-color: var(--fill-color);\n",
              "    }\n",
              "    20% {\n",
              "      border-color: transparent;\n",
              "      border-left-color: var(--fill-color);\n",
              "      border-top-color: var(--fill-color);\n",
              "    }\n",
              "    30% {\n",
              "      border-color: transparent;\n",
              "      border-left-color: var(--fill-color);\n",
              "      border-top-color: var(--fill-color);\n",
              "      border-right-color: var(--fill-color);\n",
              "    }\n",
              "    40% {\n",
              "      border-color: transparent;\n",
              "      border-right-color: var(--fill-color);\n",
              "      border-top-color: var(--fill-color);\n",
              "    }\n",
              "    60% {\n",
              "      border-color: transparent;\n",
              "      border-right-color: var(--fill-color);\n",
              "    }\n",
              "    80% {\n",
              "      border-color: transparent;\n",
              "      border-right-color: var(--fill-color);\n",
              "      border-bottom-color: var(--fill-color);\n",
              "    }\n",
              "    90% {\n",
              "      border-color: transparent;\n",
              "      border-bottom-color: var(--fill-color);\n",
              "    }\n",
              "  }\n",
              "</style>\n",
              "\n",
              "  <script>\n",
              "    async function quickchart(key) {\n",
              "      const quickchartButtonEl =\n",
              "        document.querySelector('#' + key + ' button');\n",
              "      quickchartButtonEl.disabled = true;  // To prevent multiple clicks.\n",
              "      quickchartButtonEl.classList.add('colab-df-spinner');\n",
              "      try {\n",
              "        const charts = await google.colab.kernel.invokeFunction(\n",
              "            'suggestCharts', [key], {});\n",
              "      } catch (error) {\n",
              "        console.error('Error during call to suggestCharts:', error);\n",
              "      }\n",
              "      quickchartButtonEl.classList.remove('colab-df-spinner');\n",
              "      quickchartButtonEl.classList.add('colab-df-quickchart-complete');\n",
              "    }\n",
              "    (() => {\n",
              "      let quickchartButtonEl =\n",
              "        document.querySelector('#df-00d98fd0-2663-401e-b81d-c157ac740dea button');\n",
              "      quickchartButtonEl.style.display =\n",
              "        google.colab.kernel.accessAllowed ? 'block' : 'none';\n",
              "    })();\n",
              "  </script>\n",
              "</div>\n",
              "\n",
              "  <div id=\"id_d2d1372f-ef79-4caf-8b04-11d5d8b97f2c\">\n",
              "    <style>\n",
              "      .colab-df-generate {\n",
              "        background-color: #E8F0FE;\n",
              "        border: none;\n",
              "        border-radius: 50%;\n",
              "        cursor: pointer;\n",
              "        display: none;\n",
              "        fill: #1967D2;\n",
              "        height: 32px;\n",
              "        padding: 0 0 0 0;\n",
              "        width: 32px;\n",
              "      }\n",
              "\n",
              "      .colab-df-generate:hover {\n",
              "        background-color: #E2EBFA;\n",
              "        box-shadow: 0px 1px 2px rgba(60, 64, 67, 0.3), 0px 1px 3px 1px rgba(60, 64, 67, 0.15);\n",
              "        fill: #174EA6;\n",
              "      }\n",
              "\n",
              "      [theme=dark] .colab-df-generate {\n",
              "        background-color: #3B4455;\n",
              "        fill: #D2E3FC;\n",
              "      }\n",
              "\n",
              "      [theme=dark] .colab-df-generate:hover {\n",
              "        background-color: #434B5C;\n",
              "        box-shadow: 0px 1px 3px 1px rgba(0, 0, 0, 0.15);\n",
              "        filter: drop-shadow(0px 1px 2px rgba(0, 0, 0, 0.3));\n",
              "        fill: #FFFFFF;\n",
              "      }\n",
              "    </style>\n",
              "    <button class=\"colab-df-generate\" onclick=\"generateWithVariable('df')\"\n",
              "            title=\"Generate code using this dataframe.\"\n",
              "            style=\"display:none;\">\n",
              "\n",
              "  <svg xmlns=\"http://www.w3.org/2000/svg\" height=\"24px\"viewBox=\"0 0 24 24\"\n",
              "       width=\"24px\">\n",
              "    <path d=\"M7,19H8.4L18.45,9,17,7.55,7,17.6ZM5,21V16.75L18.45,3.32a2,2,0,0,1,2.83,0l1.4,1.43a1.91,1.91,0,0,1,.58,1.4,1.91,1.91,0,0,1-.58,1.4L9.25,21ZM18.45,9,17,7.55Zm-12,3A5.31,5.31,0,0,0,4.9,8.1,5.31,5.31,0,0,0,1,6.5,5.31,5.31,0,0,0,4.9,4.9,5.31,5.31,0,0,0,6.5,1,5.31,5.31,0,0,0,8.1,4.9,5.31,5.31,0,0,0,12,6.5,5.46,5.46,0,0,0,6.5,12Z\"/>\n",
              "  </svg>\n",
              "    </button>\n",
              "    <script>\n",
              "      (() => {\n",
              "      const buttonEl =\n",
              "        document.querySelector('#id_d2d1372f-ef79-4caf-8b04-11d5d8b97f2c button.colab-df-generate');\n",
              "      buttonEl.style.display =\n",
              "        google.colab.kernel.accessAllowed ? 'block' : 'none';\n",
              "\n",
              "      buttonEl.onclick = () => {\n",
              "        google.colab.notebook.generateWithVariable('df');\n",
              "      }\n",
              "      })();\n",
              "    </script>\n",
              "  </div>\n",
              "\n",
              "    </div>\n",
              "  </div>\n"
            ],
            "application/vnd.google.colaboratory.intrinsic+json": {
              "type": "dataframe",
              "variable_name": "df",
              "summary": "{\n  \"name\": \"df\",\n  \"rows\": 2,\n  \"fields\": [\n    {\n      \"column\": \"Age\",\n      \"properties\": {\n        \"dtype\": \"number\",\n        \"std\": 0,\n        \"min\": 1,\n        \"max\": 2,\n        \"num_unique_values\": 2,\n        \"samples\": [\n          2,\n          1\n        ],\n        \"semantic_type\": \"\",\n        \"description\": \"\"\n      }\n    },\n    {\n      \"column\": \"Height\",\n      \"properties\": {\n        \"dtype\": \"number\",\n        \"std\": 3,\n        \"min\": 5,\n        \"max\": 10,\n        \"num_unique_values\": 2,\n        \"samples\": [\n          10,\n          5\n        ],\n        \"semantic_type\": \"\",\n        \"description\": \"\"\n      }\n    },\n    {\n      \"column\": \"Weight\",\n      \"properties\": {\n        \"dtype\": \"number\",\n        \"std\": 10,\n        \"min\": 10,\n        \"max\": 25,\n        \"num_unique_values\": 2,\n        \"samples\": [\n          25,\n          10\n        ],\n        \"semantic_type\": \"\",\n        \"description\": \"\"\n      }\n    }\n  ]\n}"
            }
          },
          "metadata": {},
          "execution_count": 45
        }
      ],
      "source": [
        "df[\"Weight\"] = [10, 25]\n",
        "df"
      ]
    },
    {
      "cell_type": "markdown",
      "id": "7eea7bc1",
      "metadata": {
        "id": "7eea7bc1"
      },
      "source": [
        "#### Selecting columns by name\n",
        "\n",
        "If you want to select a column in a DataFrame, per example, to see the obervations for that column, you can use the `\"column_name\"` inside `[]` to select the column. Then, we use the `print` function to display the result."
      ]
    },
    {
      "cell_type": "code",
      "execution_count": 48,
      "id": "thorough-vacation",
      "metadata": {
        "id": "thorough-vacation",
        "colab": {
          "base_uri": "https://localhost:8080/"
        },
        "outputId": "7390d8f9-f115-458e-ee42-64c14b47004f"
      },
      "outputs": [
        {
          "output_type": "stream",
          "name": "stdout",
          "text": [
            "0     5\n",
            "1    10\n",
            "Name: Height, dtype: int64\n"
          ]
        }
      ],
      "source": [
        "print(df[\"Height\"])"
      ]
    },
    {
      "cell_type": "markdown",
      "id": "88bb51be",
      "metadata": {
        "id": "88bb51be"
      },
      "source": [
        "Another way to select columns by name is to use `.loc[,]` method, we can select more than one column using this method.\n",
        "\n",
        "To select a column we use `.loc[:, \"name_column\"]`, `:` means that we want all rows (observations) for that column."
      ]
    },
    {
      "cell_type": "code",
      "execution_count": 47,
      "id": "a8dc058a",
      "metadata": {
        "id": "a8dc058a",
        "colab": {
          "base_uri": "https://localhost:8080/",
          "height": 146
        },
        "outputId": "e1fb2ed0-6a52-47d6-b105-6484eec21535"
      },
      "outputs": [
        {
          "output_type": "execute_result",
          "data": {
            "text/plain": [
              "0    1\n",
              "1    2\n",
              "Name: Age, dtype: int64"
            ],
            "text/html": [
              "<div>\n",
              "<style scoped>\n",
              "    .dataframe tbody tr th:only-of-type {\n",
              "        vertical-align: middle;\n",
              "    }\n",
              "\n",
              "    .dataframe tbody tr th {\n",
              "        vertical-align: top;\n",
              "    }\n",
              "\n",
              "    .dataframe thead th {\n",
              "        text-align: right;\n",
              "    }\n",
              "</style>\n",
              "<table border=\"1\" class=\"dataframe\">\n",
              "  <thead>\n",
              "    <tr style=\"text-align: right;\">\n",
              "      <th></th>\n",
              "      <th>Age</th>\n",
              "    </tr>\n",
              "  </thead>\n",
              "  <tbody>\n",
              "    <tr>\n",
              "      <th>0</th>\n",
              "      <td>1</td>\n",
              "    </tr>\n",
              "    <tr>\n",
              "      <th>1</th>\n",
              "      <td>2</td>\n",
              "    </tr>\n",
              "  </tbody>\n",
              "</table>\n",
              "</div><br><label><b>dtype:</b> int64</label>"
            ]
          },
          "metadata": {},
          "execution_count": 47
        }
      ],
      "source": [
        "#Select Column Age\n",
        "df.loc[: , \"Age\"]"
      ]
    },
    {
      "cell_type": "markdown",
      "id": "f51b94d3",
      "metadata": {
        "id": "f51b94d3"
      },
      "source": [
        "**Practice:** Select all observations for Column `'Weight'` in DataFrame `df` using the `loc` method"
      ]
    },
    {
      "cell_type": "code",
      "execution_count": 49,
      "id": "f4df2baf",
      "metadata": {
        "id": "f4df2baf",
        "colab": {
          "base_uri": "https://localhost:8080/",
          "height": 146
        },
        "outputId": "4f789d8f-21d3-4bdc-b695-8300cf996cc4"
      },
      "outputs": [
        {
          "output_type": "execute_result",
          "data": {
            "text/plain": [
              "0    10\n",
              "1    25\n",
              "Name: Weight, dtype: int64"
            ],
            "text/html": [
              "<div>\n",
              "<style scoped>\n",
              "    .dataframe tbody tr th:only-of-type {\n",
              "        vertical-align: middle;\n",
              "    }\n",
              "\n",
              "    .dataframe tbody tr th {\n",
              "        vertical-align: top;\n",
              "    }\n",
              "\n",
              "    .dataframe thead th {\n",
              "        text-align: right;\n",
              "    }\n",
              "</style>\n",
              "<table border=\"1\" class=\"dataframe\">\n",
              "  <thead>\n",
              "    <tr style=\"text-align: right;\">\n",
              "      <th></th>\n",
              "      <th>Weight</th>\n",
              "    </tr>\n",
              "  </thead>\n",
              "  <tbody>\n",
              "    <tr>\n",
              "      <th>0</th>\n",
              "      <td>10</td>\n",
              "    </tr>\n",
              "    <tr>\n",
              "      <th>1</th>\n",
              "      <td>25</td>\n",
              "    </tr>\n",
              "  </tbody>\n",
              "</table>\n",
              "</div><br><label><b>dtype:</b> int64</label>"
            ]
          },
          "metadata": {},
          "execution_count": 49
        }
      ],
      "source": [
        "# your code here\n",
        "df.loc[:, \"Weight\"]"
      ]
    },
    {
      "cell_type": "markdown",
      "id": "b505b98a",
      "metadata": {
        "id": "b505b98a"
      },
      "source": [
        "#### Selecting rows or columns by index\n",
        "We can also select rows and columns by their index. **Remember** Python stars the index from 0. So, if you want to select the `Age` column since it is the first column in our DataFrame we need to use `0` to select it.\n",
        "\n",
        "Also, to select rows or columns by index we need to use one `.iloc[rows,columns]` where `.iloc[:,1]` means that we want all observations for the second column and `.iloc[0,:]` means that we want all columns values for the first observation."
      ]
    },
    {
      "cell_type": "code",
      "execution_count": 51,
      "id": "342b6efc",
      "metadata": {
        "id": "342b6efc",
        "colab": {
          "base_uri": "https://localhost:8080/",
          "height": 146
        },
        "outputId": "a1bf2e47-379f-4167-a01f-fde2047ac72d"
      },
      "outputs": [
        {
          "output_type": "execute_result",
          "data": {
            "text/plain": [
              "0    1\n",
              "1    2\n",
              "Name: Age, dtype: int64"
            ],
            "text/html": [
              "<div>\n",
              "<style scoped>\n",
              "    .dataframe tbody tr th:only-of-type {\n",
              "        vertical-align: middle;\n",
              "    }\n",
              "\n",
              "    .dataframe tbody tr th {\n",
              "        vertical-align: top;\n",
              "    }\n",
              "\n",
              "    .dataframe thead th {\n",
              "        text-align: right;\n",
              "    }\n",
              "</style>\n",
              "<table border=\"1\" class=\"dataframe\">\n",
              "  <thead>\n",
              "    <tr style=\"text-align: right;\">\n",
              "      <th></th>\n",
              "      <th>Age</th>\n",
              "    </tr>\n",
              "  </thead>\n",
              "  <tbody>\n",
              "    <tr>\n",
              "      <th>0</th>\n",
              "      <td>1</td>\n",
              "    </tr>\n",
              "    <tr>\n",
              "      <th>1</th>\n",
              "      <td>2</td>\n",
              "    </tr>\n",
              "  </tbody>\n",
              "</table>\n",
              "</div><br><label><b>dtype:</b> int64</label>"
            ]
          },
          "metadata": {},
          "execution_count": 51
        }
      ],
      "source": [
        "# Selecting all observations for the first column using the index of the column\n",
        "df.iloc[:,0]"
      ]
    },
    {
      "cell_type": "code",
      "execution_count": null,
      "id": "12f869f1",
      "metadata": {
        "id": "12f869f1"
      },
      "outputs": [],
      "source": [
        "# Selecting only the first element (index 0) of the third column (index 2)\n",
        "df.iloc[0,2]"
      ]
    },
    {
      "cell_type": "code",
      "execution_count": null,
      "id": "dutch-reality",
      "metadata": {
        "id": "dutch-reality"
      },
      "outputs": [],
      "source": [
        "# Showing the whole dataframe\n",
        "df.iloc[:]"
      ]
    },
    {
      "cell_type": "markdown",
      "id": "46d0c598",
      "metadata": {
        "id": "46d0c598"
      },
      "source": [
        "#### Selecting elements by their values\n",
        "\n",
        "If you want to select all the information for the row (observation) that has 'Age' equals to 2, we can use the comparison operators from the previous Lab to do that"
      ]
    },
    {
      "cell_type": "code",
      "execution_count": null,
      "id": "brazilian-gates",
      "metadata": {
        "id": "brazilian-gates"
      },
      "outputs": [],
      "source": [
        "# Selecting the whole row where 'Age' is equals to two.\n",
        "df[df[\"Age\"] == 2]"
      ]
    },
    {
      "cell_type": "code",
      "execution_count": null,
      "id": "4020852d",
      "metadata": {
        "id": "4020852d"
      },
      "outputs": [],
      "source": [
        "# Select only the information of the column Height when the observations have 'Age' smaller than two\n",
        "df[\"Height\"][df[\"Age\"] < 2]"
      ]
    },
    {
      "cell_type": "markdown",
      "id": "75a90f77",
      "metadata": {
        "id": "75a90f77"
      },
      "source": [
        "We can also extract a column using `df_name.column_name` instead of `df['column_name']` like we did previously."
      ]
    },
    {
      "cell_type": "code",
      "execution_count": null,
      "id": "conventional-importance",
      "metadata": {
        "id": "conventional-importance"
      },
      "outputs": [],
      "source": [
        "# Selecting the whole row where 'Height' is equals to 10.\n",
        "df[df.Height == 10]"
      ]
    },
    {
      "cell_type": "markdown",
      "id": "de550aab",
      "metadata": {
        "id": "de550aab"
      },
      "source": [
        "**Practice:** Create a DataFrame called `data` with columns named `'A'`, `'B'` and `'C'`. `'A'` has values 'John', 'Camile', 'Matilda'. `'B'` has values 2, 10, 25 and `'C'` has values 0, 0, 1. Then called `data` to display the DataFrame.\n",
        "\n",
        "Hint: You need to create a dictionary first with keys `'A'`, `'B'`, and `'C'`, and value `['John', 'Camile', 'Matilda']`, `[2, 10, 25]` and `[0, 0, 1]`.\n",
        "\n",
        "Go back and check how to create a dictionary in the beginning of this Lab and then recall how we created our first DataFrame (Go back to the section **Creating DataFrames in Python to remember**)"
      ]
    },
    {
      "cell_type": "code",
      "execution_count": 55,
      "id": "60b7b6d3",
      "metadata": {
        "id": "60b7b6d3",
        "colab": {
          "base_uri": "https://localhost:8080/",
          "height": 143
        },
        "outputId": "7504a212-a5dd-4837-a9a0-2f33281e8133"
      },
      "outputs": [
        {
          "output_type": "execute_result",
          "data": {
            "text/plain": [
              "         A   B  C\n",
              "0     John   2  0\n",
              "1   Camile  10  0\n",
              "2  Matilda  25  1"
            ],
            "text/html": [
              "\n",
              "  <div id=\"df-44a1f747-86d4-4413-a5a8-83d9cdae52bc\" class=\"colab-df-container\">\n",
              "    <div>\n",
              "<style scoped>\n",
              "    .dataframe tbody tr th:only-of-type {\n",
              "        vertical-align: middle;\n",
              "    }\n",
              "\n",
              "    .dataframe tbody tr th {\n",
              "        vertical-align: top;\n",
              "    }\n",
              "\n",
              "    .dataframe thead th {\n",
              "        text-align: right;\n",
              "    }\n",
              "</style>\n",
              "<table border=\"1\" class=\"dataframe\">\n",
              "  <thead>\n",
              "    <tr style=\"text-align: right;\">\n",
              "      <th></th>\n",
              "      <th>A</th>\n",
              "      <th>B</th>\n",
              "      <th>C</th>\n",
              "    </tr>\n",
              "  </thead>\n",
              "  <tbody>\n",
              "    <tr>\n",
              "      <th>0</th>\n",
              "      <td>John</td>\n",
              "      <td>2</td>\n",
              "      <td>0</td>\n",
              "    </tr>\n",
              "    <tr>\n",
              "      <th>1</th>\n",
              "      <td>Camile</td>\n",
              "      <td>10</td>\n",
              "      <td>0</td>\n",
              "    </tr>\n",
              "    <tr>\n",
              "      <th>2</th>\n",
              "      <td>Matilda</td>\n",
              "      <td>25</td>\n",
              "      <td>1</td>\n",
              "    </tr>\n",
              "  </tbody>\n",
              "</table>\n",
              "</div>\n",
              "    <div class=\"colab-df-buttons\">\n",
              "\n",
              "  <div class=\"colab-df-container\">\n",
              "    <button class=\"colab-df-convert\" onclick=\"convertToInteractive('df-44a1f747-86d4-4413-a5a8-83d9cdae52bc')\"\n",
              "            title=\"Convert this dataframe to an interactive table.\"\n",
              "            style=\"display:none;\">\n",
              "\n",
              "  <svg xmlns=\"http://www.w3.org/2000/svg\" height=\"24px\" viewBox=\"0 -960 960 960\">\n",
              "    <path d=\"M120-120v-720h720v720H120Zm60-500h600v-160H180v160Zm220 220h160v-160H400v160Zm0 220h160v-160H400v160ZM180-400h160v-160H180v160Zm440 0h160v-160H620v160ZM180-180h160v-160H180v160Zm440 0h160v-160H620v160Z\"/>\n",
              "  </svg>\n",
              "    </button>\n",
              "\n",
              "  <style>\n",
              "    .colab-df-container {\n",
              "      display:flex;\n",
              "      gap: 12px;\n",
              "    }\n",
              "\n",
              "    .colab-df-convert {\n",
              "      background-color: #E8F0FE;\n",
              "      border: none;\n",
              "      border-radius: 50%;\n",
              "      cursor: pointer;\n",
              "      display: none;\n",
              "      fill: #1967D2;\n",
              "      height: 32px;\n",
              "      padding: 0 0 0 0;\n",
              "      width: 32px;\n",
              "    }\n",
              "\n",
              "    .colab-df-convert:hover {\n",
              "      background-color: #E2EBFA;\n",
              "      box-shadow: 0px 1px 2px rgba(60, 64, 67, 0.3), 0px 1px 3px 1px rgba(60, 64, 67, 0.15);\n",
              "      fill: #174EA6;\n",
              "    }\n",
              "\n",
              "    .colab-df-buttons div {\n",
              "      margin-bottom: 4px;\n",
              "    }\n",
              "\n",
              "    [theme=dark] .colab-df-convert {\n",
              "      background-color: #3B4455;\n",
              "      fill: #D2E3FC;\n",
              "    }\n",
              "\n",
              "    [theme=dark] .colab-df-convert:hover {\n",
              "      background-color: #434B5C;\n",
              "      box-shadow: 0px 1px 3px 1px rgba(0, 0, 0, 0.15);\n",
              "      filter: drop-shadow(0px 1px 2px rgba(0, 0, 0, 0.3));\n",
              "      fill: #FFFFFF;\n",
              "    }\n",
              "  </style>\n",
              "\n",
              "    <script>\n",
              "      const buttonEl =\n",
              "        document.querySelector('#df-44a1f747-86d4-4413-a5a8-83d9cdae52bc button.colab-df-convert');\n",
              "      buttonEl.style.display =\n",
              "        google.colab.kernel.accessAllowed ? 'block' : 'none';\n",
              "\n",
              "      async function convertToInteractive(key) {\n",
              "        const element = document.querySelector('#df-44a1f747-86d4-4413-a5a8-83d9cdae52bc');\n",
              "        const dataTable =\n",
              "          await google.colab.kernel.invokeFunction('convertToInteractive',\n",
              "                                                    [key], {});\n",
              "        if (!dataTable) return;\n",
              "\n",
              "        const docLinkHtml = 'Like what you see? Visit the ' +\n",
              "          '<a target=\"_blank\" href=https://colab.research.google.com/notebooks/data_table.ipynb>data table notebook</a>'\n",
              "          + ' to learn more about interactive tables.';\n",
              "        element.innerHTML = '';\n",
              "        dataTable['output_type'] = 'display_data';\n",
              "        await google.colab.output.renderOutput(dataTable, element);\n",
              "        const docLink = document.createElement('div');\n",
              "        docLink.innerHTML = docLinkHtml;\n",
              "        element.appendChild(docLink);\n",
              "      }\n",
              "    </script>\n",
              "  </div>\n",
              "\n",
              "\n",
              "<div id=\"df-2dd7a59d-b408-44b1-9119-874e1b9f1076\">\n",
              "  <button class=\"colab-df-quickchart\" onclick=\"quickchart('df-2dd7a59d-b408-44b1-9119-874e1b9f1076')\"\n",
              "            title=\"Suggest charts\"\n",
              "            style=\"display:none;\">\n",
              "\n",
              "<svg xmlns=\"http://www.w3.org/2000/svg\" height=\"24px\"viewBox=\"0 0 24 24\"\n",
              "     width=\"24px\">\n",
              "    <g>\n",
              "        <path d=\"M19 3H5c-1.1 0-2 .9-2 2v14c0 1.1.9 2 2 2h14c1.1 0 2-.9 2-2V5c0-1.1-.9-2-2-2zM9 17H7v-7h2v7zm4 0h-2V7h2v10zm4 0h-2v-4h2v4z\"/>\n",
              "    </g>\n",
              "</svg>\n",
              "  </button>\n",
              "\n",
              "<style>\n",
              "  .colab-df-quickchart {\n",
              "      --bg-color: #E8F0FE;\n",
              "      --fill-color: #1967D2;\n",
              "      --hover-bg-color: #E2EBFA;\n",
              "      --hover-fill-color: #174EA6;\n",
              "      --disabled-fill-color: #AAA;\n",
              "      --disabled-bg-color: #DDD;\n",
              "  }\n",
              "\n",
              "  [theme=dark] .colab-df-quickchart {\n",
              "      --bg-color: #3B4455;\n",
              "      --fill-color: #D2E3FC;\n",
              "      --hover-bg-color: #434B5C;\n",
              "      --hover-fill-color: #FFFFFF;\n",
              "      --disabled-bg-color: #3B4455;\n",
              "      --disabled-fill-color: #666;\n",
              "  }\n",
              "\n",
              "  .colab-df-quickchart {\n",
              "    background-color: var(--bg-color);\n",
              "    border: none;\n",
              "    border-radius: 50%;\n",
              "    cursor: pointer;\n",
              "    display: none;\n",
              "    fill: var(--fill-color);\n",
              "    height: 32px;\n",
              "    padding: 0;\n",
              "    width: 32px;\n",
              "  }\n",
              "\n",
              "  .colab-df-quickchart:hover {\n",
              "    background-color: var(--hover-bg-color);\n",
              "    box-shadow: 0 1px 2px rgba(60, 64, 67, 0.3), 0 1px 3px 1px rgba(60, 64, 67, 0.15);\n",
              "    fill: var(--button-hover-fill-color);\n",
              "  }\n",
              "\n",
              "  .colab-df-quickchart-complete:disabled,\n",
              "  .colab-df-quickchart-complete:disabled:hover {\n",
              "    background-color: var(--disabled-bg-color);\n",
              "    fill: var(--disabled-fill-color);\n",
              "    box-shadow: none;\n",
              "  }\n",
              "\n",
              "  .colab-df-spinner {\n",
              "    border: 2px solid var(--fill-color);\n",
              "    border-color: transparent;\n",
              "    border-bottom-color: var(--fill-color);\n",
              "    animation:\n",
              "      spin 1s steps(1) infinite;\n",
              "  }\n",
              "\n",
              "  @keyframes spin {\n",
              "    0% {\n",
              "      border-color: transparent;\n",
              "      border-bottom-color: var(--fill-color);\n",
              "      border-left-color: var(--fill-color);\n",
              "    }\n",
              "    20% {\n",
              "      border-color: transparent;\n",
              "      border-left-color: var(--fill-color);\n",
              "      border-top-color: var(--fill-color);\n",
              "    }\n",
              "    30% {\n",
              "      border-color: transparent;\n",
              "      border-left-color: var(--fill-color);\n",
              "      border-top-color: var(--fill-color);\n",
              "      border-right-color: var(--fill-color);\n",
              "    }\n",
              "    40% {\n",
              "      border-color: transparent;\n",
              "      border-right-color: var(--fill-color);\n",
              "      border-top-color: var(--fill-color);\n",
              "    }\n",
              "    60% {\n",
              "      border-color: transparent;\n",
              "      border-right-color: var(--fill-color);\n",
              "    }\n",
              "    80% {\n",
              "      border-color: transparent;\n",
              "      border-right-color: var(--fill-color);\n",
              "      border-bottom-color: var(--fill-color);\n",
              "    }\n",
              "    90% {\n",
              "      border-color: transparent;\n",
              "      border-bottom-color: var(--fill-color);\n",
              "    }\n",
              "  }\n",
              "</style>\n",
              "\n",
              "  <script>\n",
              "    async function quickchart(key) {\n",
              "      const quickchartButtonEl =\n",
              "        document.querySelector('#' + key + ' button');\n",
              "      quickchartButtonEl.disabled = true;  // To prevent multiple clicks.\n",
              "      quickchartButtonEl.classList.add('colab-df-spinner');\n",
              "      try {\n",
              "        const charts = await google.colab.kernel.invokeFunction(\n",
              "            'suggestCharts', [key], {});\n",
              "      } catch (error) {\n",
              "        console.error('Error during call to suggestCharts:', error);\n",
              "      }\n",
              "      quickchartButtonEl.classList.remove('colab-df-spinner');\n",
              "      quickchartButtonEl.classList.add('colab-df-quickchart-complete');\n",
              "    }\n",
              "    (() => {\n",
              "      let quickchartButtonEl =\n",
              "        document.querySelector('#df-2dd7a59d-b408-44b1-9119-874e1b9f1076 button');\n",
              "      quickchartButtonEl.style.display =\n",
              "        google.colab.kernel.accessAllowed ? 'block' : 'none';\n",
              "    })();\n",
              "  </script>\n",
              "</div>\n",
              "\n",
              "  <div id=\"id_33a1ad7f-2821-4570-ad56-5ab73b31f01e\">\n",
              "    <style>\n",
              "      .colab-df-generate {\n",
              "        background-color: #E8F0FE;\n",
              "        border: none;\n",
              "        border-radius: 50%;\n",
              "        cursor: pointer;\n",
              "        display: none;\n",
              "        fill: #1967D2;\n",
              "        height: 32px;\n",
              "        padding: 0 0 0 0;\n",
              "        width: 32px;\n",
              "      }\n",
              "\n",
              "      .colab-df-generate:hover {\n",
              "        background-color: #E2EBFA;\n",
              "        box-shadow: 0px 1px 2px rgba(60, 64, 67, 0.3), 0px 1px 3px 1px rgba(60, 64, 67, 0.15);\n",
              "        fill: #174EA6;\n",
              "      }\n",
              "\n",
              "      [theme=dark] .colab-df-generate {\n",
              "        background-color: #3B4455;\n",
              "        fill: #D2E3FC;\n",
              "      }\n",
              "\n",
              "      [theme=dark] .colab-df-generate:hover {\n",
              "        background-color: #434B5C;\n",
              "        box-shadow: 0px 1px 3px 1px rgba(0, 0, 0, 0.15);\n",
              "        filter: drop-shadow(0px 1px 2px rgba(0, 0, 0, 0.3));\n",
              "        fill: #FFFFFF;\n",
              "      }\n",
              "    </style>\n",
              "    <button class=\"colab-df-generate\" onclick=\"generateWithVariable('data')\"\n",
              "            title=\"Generate code using this dataframe.\"\n",
              "            style=\"display:none;\">\n",
              "\n",
              "  <svg xmlns=\"http://www.w3.org/2000/svg\" height=\"24px\"viewBox=\"0 0 24 24\"\n",
              "       width=\"24px\">\n",
              "    <path d=\"M7,19H8.4L18.45,9,17,7.55,7,17.6ZM5,21V16.75L18.45,3.32a2,2,0,0,1,2.83,0l1.4,1.43a1.91,1.91,0,0,1,.58,1.4,1.91,1.91,0,0,1-.58,1.4L9.25,21ZM18.45,9,17,7.55Zm-12,3A5.31,5.31,0,0,0,4.9,8.1,5.31,5.31,0,0,0,1,6.5,5.31,5.31,0,0,0,4.9,4.9,5.31,5.31,0,0,0,6.5,1,5.31,5.31,0,0,0,8.1,4.9,5.31,5.31,0,0,0,12,6.5,5.46,5.46,0,0,0,6.5,12Z\"/>\n",
              "  </svg>\n",
              "    </button>\n",
              "    <script>\n",
              "      (() => {\n",
              "      const buttonEl =\n",
              "        document.querySelector('#id_33a1ad7f-2821-4570-ad56-5ab73b31f01e button.colab-df-generate');\n",
              "      buttonEl.style.display =\n",
              "        google.colab.kernel.accessAllowed ? 'block' : 'none';\n",
              "\n",
              "      buttonEl.onclick = () => {\n",
              "        google.colab.notebook.generateWithVariable('data');\n",
              "      }\n",
              "      })();\n",
              "    </script>\n",
              "  </div>\n",
              "\n",
              "    </div>\n",
              "  </div>\n"
            ],
            "application/vnd.google.colaboratory.intrinsic+json": {
              "type": "dataframe",
              "variable_name": "data",
              "summary": "{\n  \"name\": \"data\",\n  \"rows\": 3,\n  \"fields\": [\n    {\n      \"column\": \"A\",\n      \"properties\": {\n        \"dtype\": \"string\",\n        \"num_unique_values\": 3,\n        \"samples\": [\n          \"John\",\n          \"Camile\",\n          \"Matilda\"\n        ],\n        \"semantic_type\": \"\",\n        \"description\": \"\"\n      }\n    },\n    {\n      \"column\": \"B\",\n      \"properties\": {\n        \"dtype\": \"number\",\n        \"std\": 11,\n        \"min\": 2,\n        \"max\": 25,\n        \"num_unique_values\": 3,\n        \"samples\": [\n          2,\n          10,\n          25\n        ],\n        \"semantic_type\": \"\",\n        \"description\": \"\"\n      }\n    },\n    {\n      \"column\": \"C\",\n      \"properties\": {\n        \"dtype\": \"number\",\n        \"std\": 0,\n        \"min\": 0,\n        \"max\": 1,\n        \"num_unique_values\": 2,\n        \"samples\": [\n          1,\n          0\n        ],\n        \"semantic_type\": \"\",\n        \"description\": \"\"\n      }\n    }\n  ]\n}"
            }
          },
          "metadata": {},
          "execution_count": 55
        }
      ],
      "source": [
        "#your code here\n",
        "import pandas as pd\n",
        "data = {'A':['John','Camile','Matilda'],'B':[2,10,25],'C':[0,0,1]}\n",
        "data = pd.DataFrame(data)\n",
        "data"
      ]
    }
  ],
  "metadata": {
    "kernelspec": {
      "display_name": "Python 3 (ipykernel)",
      "language": "python",
      "name": "python3"
    },
    "language_info": {
      "codemirror_mode": {
        "name": "ipython",
        "version": 3
      },
      "file_extension": ".py",
      "mimetype": "text/x-python",
      "name": "python",
      "nbconvert_exporter": "python",
      "pygments_lexer": "ipython3",
      "version": "3.9.12"
    },
    "colab": {
      "provenance": [],
      "include_colab_link": true
    }
  },
  "nbformat": 4,
  "nbformat_minor": 5
}