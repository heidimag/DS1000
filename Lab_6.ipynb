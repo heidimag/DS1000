{
  "cells": [
    {
      "cell_type": "markdown",
      "metadata": {
        "id": "view-in-github",
        "colab_type": "text"
      },
      "source": [
        "<a href=\"https://colab.research.google.com/github/heidimag/DS1000/blob/main/Lab_6.ipynb\" target=\"_parent\"><img src=\"https://colab.research.google.com/assets/colab-badge.svg\" alt=\"Open In Colab\"/></a>"
      ]
    },
    {
      "cell_type": "markdown",
      "id": "bfe0c296",
      "metadata": {
        "id": "bfe0c296"
      },
      "source": [
        "# Lab 6"
      ]
    },
    {
      "cell_type": "markdown",
      "id": "f64bb4de",
      "metadata": {
        "id": "f64bb4de"
      },
      "source": [
        "In this lab we discuss:\n",
        "\n",
        "- Least-squares regression fit\n",
        "- Interpretation of result table (intercept and slope)\n"
      ]
    },
    {
      "cell_type": "markdown",
      "source": [],
      "metadata": {
        "id": "truEyzT6F7TI"
      },
      "id": "truEyzT6F7TI"
    },
    {
      "cell_type": "markdown",
      "id": "dbe160dd",
      "metadata": {
        "id": "dbe160dd"
      },
      "source": [
        "## Import required Python libraries"
      ]
    },
    {
      "cell_type": "code",
      "execution_count": null,
      "id": "2e63491d",
      "metadata": {
        "id": "2e63491d"
      },
      "outputs": [],
      "source": [
        "import numpy as np\n",
        "import pandas as pd\n",
        "import seaborn as sns\n",
        "import matplotlib.pyplot as plt\n",
        "from scipy import stats"
      ]
    },
    {
      "cell_type": "markdown",
      "id": "4e47d2f1",
      "metadata": {
        "id": "4e47d2f1"
      },
      "source": [
        "### Load .csv data\n",
        "\n",
        "In this lab we are going to work with the possum dataset (already studied in previous labs). This dataset consists of morphometric measurements on 46 possums."
      ]
    },
    {
      "cell_type": "code",
      "execution_count": null,
      "id": "59af196c",
      "metadata": {
        "colab": {
          "base_uri": "https://localhost:8080/",
          "height": 363
        },
        "id": "59af196c",
        "outputId": "9d07576f-80f0-4046-82a2-a4bad836ed1c"
      },
      "outputs": [
        {
          "output_type": "execute_result",
          "data": {
            "text/plain": [
              "  sex  age  headL  skullW  totalL  tailL\n",
              "0   m    8   94.1    60.4    89.0   36.0\n",
              "1   f    6   92.5    57.6    91.5   36.5\n",
              "2   f    6   94.0    60.0    95.5   39.0\n",
              "3   f    6   93.2    57.1    92.0   38.0\n",
              "4   f    2   91.5    56.3    85.5   36.0\n",
              "5   f    1   88.3    54.8    90.5   35.5\n",
              "6   m    2   95.3    58.2    89.5   36.0\n",
              "7   f    6   94.8    57.6    91.0   37.0\n",
              "8   f    9   93.4    56.3   120.4   55.3\n",
              "9   f    6   91.8    58.0    89.5   37.5"
            ],
            "text/html": [
              "\n",
              "  <div id=\"df-0392668c-b2e1-41ae-b916-9d3e35934578\" class=\"colab-df-container\">\n",
              "    <div>\n",
              "<style scoped>\n",
              "    .dataframe tbody tr th:only-of-type {\n",
              "        vertical-align: middle;\n",
              "    }\n",
              "\n",
              "    .dataframe tbody tr th {\n",
              "        vertical-align: top;\n",
              "    }\n",
              "\n",
              "    .dataframe thead th {\n",
              "        text-align: right;\n",
              "    }\n",
              "</style>\n",
              "<table border=\"1\" class=\"dataframe\">\n",
              "  <thead>\n",
              "    <tr style=\"text-align: right;\">\n",
              "      <th></th>\n",
              "      <th>sex</th>\n",
              "      <th>age</th>\n",
              "      <th>headL</th>\n",
              "      <th>skullW</th>\n",
              "      <th>totalL</th>\n",
              "      <th>tailL</th>\n",
              "    </tr>\n",
              "  </thead>\n",
              "  <tbody>\n",
              "    <tr>\n",
              "      <th>0</th>\n",
              "      <td>m</td>\n",
              "      <td>8</td>\n",
              "      <td>94.1</td>\n",
              "      <td>60.4</td>\n",
              "      <td>89.0</td>\n",
              "      <td>36.0</td>\n",
              "    </tr>\n",
              "    <tr>\n",
              "      <th>1</th>\n",
              "      <td>f</td>\n",
              "      <td>6</td>\n",
              "      <td>92.5</td>\n",
              "      <td>57.6</td>\n",
              "      <td>91.5</td>\n",
              "      <td>36.5</td>\n",
              "    </tr>\n",
              "    <tr>\n",
              "      <th>2</th>\n",
              "      <td>f</td>\n",
              "      <td>6</td>\n",
              "      <td>94.0</td>\n",
              "      <td>60.0</td>\n",
              "      <td>95.5</td>\n",
              "      <td>39.0</td>\n",
              "    </tr>\n",
              "    <tr>\n",
              "      <th>3</th>\n",
              "      <td>f</td>\n",
              "      <td>6</td>\n",
              "      <td>93.2</td>\n",
              "      <td>57.1</td>\n",
              "      <td>92.0</td>\n",
              "      <td>38.0</td>\n",
              "    </tr>\n",
              "    <tr>\n",
              "      <th>4</th>\n",
              "      <td>f</td>\n",
              "      <td>2</td>\n",
              "      <td>91.5</td>\n",
              "      <td>56.3</td>\n",
              "      <td>85.5</td>\n",
              "      <td>36.0</td>\n",
              "    </tr>\n",
              "    <tr>\n",
              "      <th>5</th>\n",
              "      <td>f</td>\n",
              "      <td>1</td>\n",
              "      <td>88.3</td>\n",
              "      <td>54.8</td>\n",
              "      <td>90.5</td>\n",
              "      <td>35.5</td>\n",
              "    </tr>\n",
              "    <tr>\n",
              "      <th>6</th>\n",
              "      <td>m</td>\n",
              "      <td>2</td>\n",
              "      <td>95.3</td>\n",
              "      <td>58.2</td>\n",
              "      <td>89.5</td>\n",
              "      <td>36.0</td>\n",
              "    </tr>\n",
              "    <tr>\n",
              "      <th>7</th>\n",
              "      <td>f</td>\n",
              "      <td>6</td>\n",
              "      <td>94.8</td>\n",
              "      <td>57.6</td>\n",
              "      <td>91.0</td>\n",
              "      <td>37.0</td>\n",
              "    </tr>\n",
              "    <tr>\n",
              "      <th>8</th>\n",
              "      <td>f</td>\n",
              "      <td>9</td>\n",
              "      <td>93.4</td>\n",
              "      <td>56.3</td>\n",
              "      <td>120.4</td>\n",
              "      <td>55.3</td>\n",
              "    </tr>\n",
              "    <tr>\n",
              "      <th>9</th>\n",
              "      <td>f</td>\n",
              "      <td>6</td>\n",
              "      <td>91.8</td>\n",
              "      <td>58.0</td>\n",
              "      <td>89.5</td>\n",
              "      <td>37.5</td>\n",
              "    </tr>\n",
              "  </tbody>\n",
              "</table>\n",
              "</div>\n",
              "    <div class=\"colab-df-buttons\">\n",
              "\n",
              "  <div class=\"colab-df-container\">\n",
              "    <button class=\"colab-df-convert\" onclick=\"convertToInteractive('df-0392668c-b2e1-41ae-b916-9d3e35934578')\"\n",
              "            title=\"Convert this dataframe to an interactive table.\"\n",
              "            style=\"display:none;\">\n",
              "\n",
              "  <svg xmlns=\"http://www.w3.org/2000/svg\" height=\"24px\" viewBox=\"0 -960 960 960\">\n",
              "    <path d=\"M120-120v-720h720v720H120Zm60-500h600v-160H180v160Zm220 220h160v-160H400v160Zm0 220h160v-160H400v160ZM180-400h160v-160H180v160Zm440 0h160v-160H620v160ZM180-180h160v-160H180v160Zm440 0h160v-160H620v160Z\"/>\n",
              "  </svg>\n",
              "    </button>\n",
              "\n",
              "  <style>\n",
              "    .colab-df-container {\n",
              "      display:flex;\n",
              "      gap: 12px;\n",
              "    }\n",
              "\n",
              "    .colab-df-convert {\n",
              "      background-color: #E8F0FE;\n",
              "      border: none;\n",
              "      border-radius: 50%;\n",
              "      cursor: pointer;\n",
              "      display: none;\n",
              "      fill: #1967D2;\n",
              "      height: 32px;\n",
              "      padding: 0 0 0 0;\n",
              "      width: 32px;\n",
              "    }\n",
              "\n",
              "    .colab-df-convert:hover {\n",
              "      background-color: #E2EBFA;\n",
              "      box-shadow: 0px 1px 2px rgba(60, 64, 67, 0.3), 0px 1px 3px 1px rgba(60, 64, 67, 0.15);\n",
              "      fill: #174EA6;\n",
              "    }\n",
              "\n",
              "    .colab-df-buttons div {\n",
              "      margin-bottom: 4px;\n",
              "    }\n",
              "\n",
              "    [theme=dark] .colab-df-convert {\n",
              "      background-color: #3B4455;\n",
              "      fill: #D2E3FC;\n",
              "    }\n",
              "\n",
              "    [theme=dark] .colab-df-convert:hover {\n",
              "      background-color: #434B5C;\n",
              "      box-shadow: 0px 1px 3px 1px rgba(0, 0, 0, 0.15);\n",
              "      filter: drop-shadow(0px 1px 2px rgba(0, 0, 0, 0.3));\n",
              "      fill: #FFFFFF;\n",
              "    }\n",
              "  </style>\n",
              "\n",
              "    <script>\n",
              "      const buttonEl =\n",
              "        document.querySelector('#df-0392668c-b2e1-41ae-b916-9d3e35934578 button.colab-df-convert');\n",
              "      buttonEl.style.display =\n",
              "        google.colab.kernel.accessAllowed ? 'block' : 'none';\n",
              "\n",
              "      async function convertToInteractive(key) {\n",
              "        const element = document.querySelector('#df-0392668c-b2e1-41ae-b916-9d3e35934578');\n",
              "        const dataTable =\n",
              "          await google.colab.kernel.invokeFunction('convertToInteractive',\n",
              "                                                    [key], {});\n",
              "        if (!dataTable) return;\n",
              "\n",
              "        const docLinkHtml = 'Like what you see? Visit the ' +\n",
              "          '<a target=\"_blank\" href=https://colab.research.google.com/notebooks/data_table.ipynb>data table notebook</a>'\n",
              "          + ' to learn more about interactive tables.';\n",
              "        element.innerHTML = '';\n",
              "        dataTable['output_type'] = 'display_data';\n",
              "        await google.colab.output.renderOutput(dataTable, element);\n",
              "        const docLink = document.createElement('div');\n",
              "        docLink.innerHTML = docLinkHtml;\n",
              "        element.appendChild(docLink);\n",
              "      }\n",
              "    </script>\n",
              "  </div>\n",
              "\n",
              "\n",
              "<div id=\"df-01f882cf-3d8b-4654-9712-553db8f81758\">\n",
              "  <button class=\"colab-df-quickchart\" onclick=\"quickchart('df-01f882cf-3d8b-4654-9712-553db8f81758')\"\n",
              "            title=\"Suggest charts\"\n",
              "            style=\"display:none;\">\n",
              "\n",
              "<svg xmlns=\"http://www.w3.org/2000/svg\" height=\"24px\"viewBox=\"0 0 24 24\"\n",
              "     width=\"24px\">\n",
              "    <g>\n",
              "        <path d=\"M19 3H5c-1.1 0-2 .9-2 2v14c0 1.1.9 2 2 2h14c1.1 0 2-.9 2-2V5c0-1.1-.9-2-2-2zM9 17H7v-7h2v7zm4 0h-2V7h2v10zm4 0h-2v-4h2v4z\"/>\n",
              "    </g>\n",
              "</svg>\n",
              "  </button>\n",
              "\n",
              "<style>\n",
              "  .colab-df-quickchart {\n",
              "      --bg-color: #E8F0FE;\n",
              "      --fill-color: #1967D2;\n",
              "      --hover-bg-color: #E2EBFA;\n",
              "      --hover-fill-color: #174EA6;\n",
              "      --disabled-fill-color: #AAA;\n",
              "      --disabled-bg-color: #DDD;\n",
              "  }\n",
              "\n",
              "  [theme=dark] .colab-df-quickchart {\n",
              "      --bg-color: #3B4455;\n",
              "      --fill-color: #D2E3FC;\n",
              "      --hover-bg-color: #434B5C;\n",
              "      --hover-fill-color: #FFFFFF;\n",
              "      --disabled-bg-color: #3B4455;\n",
              "      --disabled-fill-color: #666;\n",
              "  }\n",
              "\n",
              "  .colab-df-quickchart {\n",
              "    background-color: var(--bg-color);\n",
              "    border: none;\n",
              "    border-radius: 50%;\n",
              "    cursor: pointer;\n",
              "    display: none;\n",
              "    fill: var(--fill-color);\n",
              "    height: 32px;\n",
              "    padding: 0;\n",
              "    width: 32px;\n",
              "  }\n",
              "\n",
              "  .colab-df-quickchart:hover {\n",
              "    background-color: var(--hover-bg-color);\n",
              "    box-shadow: 0 1px 2px rgba(60, 64, 67, 0.3), 0 1px 3px 1px rgba(60, 64, 67, 0.15);\n",
              "    fill: var(--button-hover-fill-color);\n",
              "  }\n",
              "\n",
              "  .colab-df-quickchart-complete:disabled,\n",
              "  .colab-df-quickchart-complete:disabled:hover {\n",
              "    background-color: var(--disabled-bg-color);\n",
              "    fill: var(--disabled-fill-color);\n",
              "    box-shadow: none;\n",
              "  }\n",
              "\n",
              "  .colab-df-spinner {\n",
              "    border: 2px solid var(--fill-color);\n",
              "    border-color: transparent;\n",
              "    border-bottom-color: var(--fill-color);\n",
              "    animation:\n",
              "      spin 1s steps(1) infinite;\n",
              "  }\n",
              "\n",
              "  @keyframes spin {\n",
              "    0% {\n",
              "      border-color: transparent;\n",
              "      border-bottom-color: var(--fill-color);\n",
              "      border-left-color: var(--fill-color);\n",
              "    }\n",
              "    20% {\n",
              "      border-color: transparent;\n",
              "      border-left-color: var(--fill-color);\n",
              "      border-top-color: var(--fill-color);\n",
              "    }\n",
              "    30% {\n",
              "      border-color: transparent;\n",
              "      border-left-color: var(--fill-color);\n",
              "      border-top-color: var(--fill-color);\n",
              "      border-right-color: var(--fill-color);\n",
              "    }\n",
              "    40% {\n",
              "      border-color: transparent;\n",
              "      border-right-color: var(--fill-color);\n",
              "      border-top-color: var(--fill-color);\n",
              "    }\n",
              "    60% {\n",
              "      border-color: transparent;\n",
              "      border-right-color: var(--fill-color);\n",
              "    }\n",
              "    80% {\n",
              "      border-color: transparent;\n",
              "      border-right-color: var(--fill-color);\n",
              "      border-bottom-color: var(--fill-color);\n",
              "    }\n",
              "    90% {\n",
              "      border-color: transparent;\n",
              "      border-bottom-color: var(--fill-color);\n",
              "    }\n",
              "  }\n",
              "</style>\n",
              "\n",
              "  <script>\n",
              "    async function quickchart(key) {\n",
              "      const quickchartButtonEl =\n",
              "        document.querySelector('#' + key + ' button');\n",
              "      quickchartButtonEl.disabled = true;  // To prevent multiple clicks.\n",
              "      quickchartButtonEl.classList.add('colab-df-spinner');\n",
              "      try {\n",
              "        const charts = await google.colab.kernel.invokeFunction(\n",
              "            'suggestCharts', [key], {});\n",
              "      } catch (error) {\n",
              "        console.error('Error during call to suggestCharts:', error);\n",
              "      }\n",
              "      quickchartButtonEl.classList.remove('colab-df-spinner');\n",
              "      quickchartButtonEl.classList.add('colab-df-quickchart-complete');\n",
              "    }\n",
              "    (() => {\n",
              "      let quickchartButtonEl =\n",
              "        document.querySelector('#df-01f882cf-3d8b-4654-9712-553db8f81758 button');\n",
              "      quickchartButtonEl.style.display =\n",
              "        google.colab.kernel.accessAllowed ? 'block' : 'none';\n",
              "    })();\n",
              "  </script>\n",
              "</div>\n",
              "\n",
              "    </div>\n",
              "  </div>\n"
            ],
            "application/vnd.google.colaboratory.intrinsic+json": {
              "type": "dataframe",
              "variable_name": "possum",
              "summary": "{\n  \"name\": \"possum\",\n  \"rows\": 46,\n  \"fields\": [\n    {\n      \"column\": \"sex\",\n      \"properties\": {\n        \"dtype\": \"category\",\n        \"num_unique_values\": 2,\n        \"samples\": [\n          \"f\",\n          \"m\"\n        ],\n        \"semantic_type\": \"\",\n        \"description\": \"\"\n      }\n    },\n    {\n      \"column\": \"age\",\n      \"properties\": {\n        \"dtype\": \"number\",\n        \"std\": 2,\n        \"min\": 1,\n        \"max\": 9,\n        \"num_unique_values\": 9,\n        \"samples\": [\n          4,\n          6\n        ],\n        \"semantic_type\": \"\",\n        \"description\": \"\"\n      }\n    },\n    {\n      \"column\": \"headL\",\n      \"properties\": {\n        \"dtype\": \"number\",\n        \"std\": 2.929332746234926,\n        \"min\": 84.7,\n        \"max\": 96.3,\n        \"num_unique_values\": 39,\n        \"samples\": [\n          91.0,\n          90.0\n        ],\n        \"semantic_type\": \"\",\n        \"description\": \"\"\n      }\n    },\n    {\n      \"column\": \"skullW\",\n      \"properties\": {\n        \"dtype\": \"number\",\n        \"std\": 2.0222350957810757,\n        \"min\": 51.5,\n        \"max\": 60.4,\n        \"num_unique_values\": 33,\n        \"samples\": [\n          55.5,\n          58.1\n        ],\n        \"semantic_type\": \"\",\n        \"description\": \"\"\n      }\n    },\n    {\n      \"column\": \"totalL\",\n      \"properties\": {\n        \"dtype\": \"number\",\n        \"std\": 6.842415315003554,\n        \"min\": 75.0,\n        \"max\": 120.4,\n        \"num_unique_values\": 26,\n        \"samples\": [\n          120.4,\n          93.0\n        ],\n        \"semantic_type\": \"\",\n        \"description\": \"\"\n      }\n    },\n    {\n      \"column\": \"tailL\",\n      \"properties\": {\n        \"dtype\": \"number\",\n        \"std\": 3.331336358335368,\n        \"min\": 32.0,\n        \"max\": 55.3,\n        \"num_unique_values\": 14,\n        \"samples\": [\n          34.5,\n          39.5\n        ],\n        \"semantic_type\": \"\",\n        \"description\": \"\"\n      }\n    }\n  ]\n}"
            }
          },
          "metadata": {},
          "execution_count": 15
        }
      ],
      "source": [
        "possum = pd.read_csv(\"possum.csv\")\n",
        "possum.head(10)"
      ]
    },
    {
      "cell_type": "markdown",
      "id": "85bd5858",
      "metadata": {
        "id": "85bd5858"
      },
      "source": [
        "## Simple Linear Regression"
      ]
    },
    {
      "cell_type": "markdown",
      "id": "3a828228",
      "metadata": {
        "id": "3a828228"
      },
      "source": [
        "**stats.linregress:** https://docs.scipy.org/doc/scipy/reference/generated/scipy.stats.linregress.html\n",
        "\n",
        "Simple linear regression is a linear regression model with a single explanatory variable. Let's predict `headL` using `age` variable."
      ]
    },
    {
      "cell_type": "code",
      "execution_count": null,
      "id": "38307040",
      "metadata": {
        "id": "38307040"
      },
      "outputs": [],
      "source": [
        "model = stats.linregress(x = possum['age'], y = possum['headL'])"
      ]
    },
    {
      "cell_type": "markdown",
      "id": "b7beb920",
      "metadata": {
        "id": "b7beb920"
      },
      "source": [
        "#### Getting the intercept of our model"
      ]
    },
    {
      "cell_type": "code",
      "execution_count": null,
      "id": "59f8e36b",
      "metadata": {
        "colab": {
          "base_uri": "https://localhost:8080/"
        },
        "id": "59f8e36b",
        "outputId": "31761cd1-4e6a-4b23-8c97-6df4959c8f27"
      },
      "outputs": [
        {
          "output_type": "execute_result",
          "data": {
            "text/plain": [
              "90.08288948069242"
            ]
          },
          "metadata": {},
          "execution_count": 8
        }
      ],
      "source": [
        "model.intercept"
      ]
    },
    {
      "cell_type": "markdown",
      "id": "469ae3df",
      "metadata": {
        "id": "469ae3df"
      },
      "source": [
        "Interpretation: The intercept 90.0829 is the average head length when the age's possum is zero."
      ]
    },
    {
      "cell_type": "markdown",
      "id": "dbe5e493",
      "metadata": {
        "id": "dbe5e493"
      },
      "source": [
        "#### Getting the slope of our model"
      ]
    },
    {
      "cell_type": "code",
      "execution_count": null,
      "id": "965f85f5",
      "metadata": {
        "id": "965f85f5",
        "colab": {
          "base_uri": "https://localhost:8080/"
        },
        "outputId": "3690645f-0a0e-47e2-8837-fd3e35740024"
      },
      "outputs": [
        {
          "output_type": "execute_result",
          "data": {
            "text/plain": [
              "0.5631158455392805"
            ]
          },
          "metadata": {},
          "execution_count": 9
        }
      ],
      "source": [
        "model.slope"
      ]
    },
    {
      "cell_type": "markdown",
      "id": "ac7c844c",
      "metadata": {
        "id": "ac7c844c"
      },
      "source": [
        "Interpretation: For every increase of one unit in the age, we expect that the head length will increase, on average, 0.5631 units."
      ]
    },
    {
      "cell_type": "markdown",
      "id": "6302a602",
      "metadata": {
        "id": "6302a602"
      },
      "source": [
        "#### Pearson correlation coefficient (r):"
      ]
    },
    {
      "cell_type": "code",
      "execution_count": null,
      "id": "99651bd9",
      "metadata": {
        "id": "99651bd9",
        "colab": {
          "base_uri": "https://localhost:8080/"
        },
        "outputId": "9fdffbb4-15b9-4644-d950-5dadf2aa46cb"
      },
      "outputs": [
        {
          "output_type": "execute_result",
          "data": {
            "text/plain": [
              "0.4011016610119052"
            ]
          },
          "metadata": {},
          "execution_count": 10
        }
      ],
      "source": [
        "model.rvalue"
      ]
    },
    {
      "cell_type": "markdown",
      "id": "58081e88",
      "metadata": {
        "id": "58081e88"
      },
      "source": [
        "#### Percentage of the variability of the response variable (head length) explained by the regression model. ($R^2$)"
      ]
    },
    {
      "cell_type": "code",
      "execution_count": null,
      "id": "5ee58e24",
      "metadata": {
        "id": "5ee58e24",
        "colab": {
          "base_uri": "https://localhost:8080/"
        },
        "outputId": "119e7dc7-9c3f-4983-8ff3-1229900df78f"
      },
      "outputs": [
        {
          "output_type": "execute_result",
          "data": {
            "text/plain": [
              "0.16088254246650932"
            ]
          },
          "metadata": {},
          "execution_count": 11
        }
      ],
      "source": [
        "model.rvalue ** 2"
      ]
    },
    {
      "cell_type": "markdown",
      "id": "34136dd3",
      "metadata": {
        "id": "34136dd3"
      },
      "source": [
        "### Plotting the fitted line in a scatterplot"
      ]
    },
    {
      "cell_type": "markdown",
      "id": "3c22721b",
      "metadata": {
        "id": "3c22721b"
      },
      "source": [
        "**sns.lmplot:** https://seaborn.pydata.org/generated/seaborn.lmplot.html"
      ]
    },
    {
      "cell_type": "code",
      "execution_count": null,
      "id": "8ab5697e",
      "metadata": {
        "id": "8ab5697e",
        "colab": {
          "base_uri": "https://localhost:8080/",
          "height": 507
        },
        "outputId": "1a858e1c-f352-4354-cfa6-911e8f7762f6"
      },
      "outputs": [
        {
          "output_type": "display_data",
          "data": {
            "text/plain": [
              "<Figure size 500x500 with 1 Axes>"
            ],
            "image/png": "[encoded data removed]"
          },
          "metadata": {}
        }
      ],
      "source": [
        "sns.lmplot(x = \"age\", y = \"headL\", data = possum, ci = None)\n",
        "#ci=None: do not show the confidence interval\n",
        "plt.xlim(0, 10) #change the range of x axis\n",
        "plt.show()"
      ]
    },
    {
      "cell_type": "markdown",
      "id": "63f77a6a",
      "metadata": {
        "id": "63f77a6a"
      },
      "source": [
        "#### Plotting two fitted lines, one for female and another for male possums\n",
        "\n",
        "When we want to plot one fitted line for each category of a categorical variable (such as sex) we can use `hue = \"categ_name\"`."
      ]
    },
    {
      "cell_type": "code",
      "execution_count": null,
      "id": "d65831a3",
      "metadata": {
        "id": "d65831a3",
        "colab": {
          "base_uri": "https://localhost:8080/",
          "height": 507
        },
        "outputId": "b583988b-6ddf-4088-8903-a81ccf395c44"
      },
      "outputs": [
        {
          "output_type": "display_data",
          "data": {
            "text/plain": [
              "<Figure size 563.5x500 with 1 Axes>"
            ],
            "image/png": "[encoded data removed]"
          },
          "metadata": {}
        }
      ],
      "source": [
        "sns.lmplot(x = \"age\", y = \"headL\", data = possum,\n",
        "           hue = \"sex\", ci = None)\n",
        "plt.xlim(0,10)\n",
        "plt.show()"
      ]
    },
    {
      "cell_type": "markdown",
      "id": "01a60512",
      "metadata": {
        "id": "01a60512"
      },
      "source": [
        "### Check the effect of an Influential Point"
      ]
    },
    {
      "cell_type": "markdown",
      "id": "7b3337a9",
      "metadata": {
        "id": "7b3337a9"
      },
      "source": [
        "- Now we would like to add an influential point and see how this affects the regression line.\n",
        "- We decide to add a point that behaves like an outlier to the bottom of the dataframe.\n",
        "- Let's add a point representing \"age\" = 9 and \"headL\" = 86.\n",
        "- We call the new dataframe `possum_modified`."
      ]
    },
    {
      "cell_type": "code",
      "execution_count": null,
      "id": "37dad507",
      "metadata": {
        "id": "37dad507",
        "colab": {
          "base_uri": "https://localhost:8080/",
          "height": 206
        },
        "outputId": "89f10ead-02a9-435f-a148-54afb74d24ff"
      },
      "outputs": [
        {
          "output_type": "execute_result",
          "data": {
            "text/plain": [
              "   sex  age  headL  skullW  totalL  tailL\n",
              "41   m    3   85.3    54.1    77.0   32.0\n",
              "42   f    2   90.0    55.5    81.0   32.0\n",
              "43   m    3   85.1    51.5    76.0   35.5\n",
              "44   m    3   90.7    55.9    81.0   34.0\n",
              "45   m    2   91.4    54.4    84.0   35.0"
            ],
            "text/html": [
              "\n",
              "  <div id=\"df-86ff442f-a062-426d-8fb3-81c1e33d1417\" class=\"colab-df-container\">\n",
              "    <div>\n",
              "<style scoped>\n",
              "    .dataframe tbody tr th:only-of-type {\n",
              "        vertical-align: middle;\n",
              "    }\n",
              "\n",
              "    .dataframe tbody tr th {\n",
              "        vertical-align: top;\n",
              "    }\n",
              "\n",
              "    .dataframe thead th {\n",
              "        text-align: right;\n",
              "    }\n",
              "</style>\n",
              "<table border=\"1\" class=\"dataframe\">\n",
              "  <thead>\n",
              "    <tr style=\"text-align: right;\">\n",
              "      <th></th>\n",
              "      <th>sex</th>\n",
              "      <th>age</th>\n",
              "      <th>headL</th>\n",
              "      <th>skullW</th>\n",
              "      <th>totalL</th>\n",
              "      <th>tailL</th>\n",
              "    </tr>\n",
              "  </thead>\n",
              "  <tbody>\n",
              "    <tr>\n",
              "      <th>41</th>\n",
              "      <td>m</td>\n",
              "      <td>3</td>\n",
              "      <td>85.3</td>\n",
              "      <td>54.1</td>\n",
              "      <td>77.0</td>\n",
              "      <td>32.0</td>\n",
              "    </tr>\n",
              "    <tr>\n",
              "      <th>42</th>\n",
              "      <td>f</td>\n",
              "      <td>2</td>\n",
              "      <td>90.0</td>\n",
              "      <td>55.5</td>\n",
              "      <td>81.0</td>\n",
              "      <td>32.0</td>\n",
              "    </tr>\n",
              "    <tr>\n",
              "      <th>43</th>\n",
              "      <td>m</td>\n",
              "      <td>3</td>\n",
              "      <td>85.1</td>\n",
              "      <td>51.5</td>\n",
              "      <td>76.0</td>\n",
              "      <td>35.5</td>\n",
              "    </tr>\n",
              "    <tr>\n",
              "      <th>44</th>\n",
              "      <td>m</td>\n",
              "      <td>3</td>\n",
              "      <td>90.7</td>\n",
              "      <td>55.9</td>\n",
              "      <td>81.0</td>\n",
              "      <td>34.0</td>\n",
              "    </tr>\n",
              "    <tr>\n",
              "      <th>45</th>\n",
              "      <td>m</td>\n",
              "      <td>2</td>\n",
              "      <td>91.4</td>\n",
              "      <td>54.4</td>\n",
              "      <td>84.0</td>\n",
              "      <td>35.0</td>\n",
              "    </tr>\n",
              "  </tbody>\n",
              "</table>\n",
              "</div>\n",
              "    <div class=\"colab-df-buttons\">\n",
              "\n",
              "  <div class=\"colab-df-container\">\n",
              "    <button class=\"colab-df-convert\" onclick=\"convertToInteractive('df-86ff442f-a062-426d-8fb3-81c1e33d1417')\"\n",
              "            title=\"Convert this dataframe to an interactive table.\"\n",
              "            style=\"display:none;\">\n",
              "\n",
              "  <svg xmlns=\"http://www.w3.org/2000/svg\" height=\"24px\" viewBox=\"0 -960 960 960\">\n",
              "    <path d=\"M120-120v-720h720v720H120Zm60-500h600v-160H180v160Zm220 220h160v-160H400v160Zm0 220h160v-160H400v160ZM180-400h160v-160H180v160Zm440 0h160v-160H620v160ZM180-180h160v-160H180v160Zm440 0h160v-160H620v160Z\"/>\n",
              "  </svg>\n",
              "    </button>\n",
              "\n",
              "  <style>\n",
              "    .colab-df-container {\n",
              "      display:flex;\n",
              "      gap: 12px;\n",
              "    }\n",
              "\n",
              "    .colab-df-convert {\n",
              "      background-color: #E8F0FE;\n",
              "      border: none;\n",
              "      border-radius: 50%;\n",
              "      cursor: pointer;\n",
              "      display: none;\n",
              "      fill: #1967D2;\n",
              "      height: 32px;\n",
              "      padding: 0 0 0 0;\n",
              "      width: 32px;\n",
              "    }\n",
              "\n",
              "    .colab-df-convert:hover {\n",
              "      background-color: #E2EBFA;\n",
              "      box-shadow: 0px 1px 2px rgba(60, 64, 67, 0.3), 0px 1px 3px 1px rgba(60, 64, 67, 0.15);\n",
              "      fill: #174EA6;\n",
              "    }\n",
              "\n",
              "    .colab-df-buttons div {\n",
              "      margin-bottom: 4px;\n",
              "    }\n",
              "\n",
              "    [theme=dark] .colab-df-convert {\n",
              "      background-color: #3B4455;\n",
              "      fill: #D2E3FC;\n",
              "    }\n",
              "\n",
              "    [theme=dark] .colab-df-convert:hover {\n",
              "      background-color: #434B5C;\n",
              "      box-shadow: 0px 1px 3px 1px rgba(0, 0, 0, 0.15);\n",
              "      filter: drop-shadow(0px 1px 2px rgba(0, 0, 0, 0.3));\n",
              "      fill: #FFFFFF;\n",
              "    }\n",
              "  </style>\n",
              "\n",
              "    <script>\n",
              "      const buttonEl =\n",
              "        document.querySelector('#df-86ff442f-a062-426d-8fb3-81c1e33d1417 button.colab-df-convert');\n",
              "      buttonEl.style.display =\n",
              "        google.colab.kernel.accessAllowed ? 'block' : 'none';\n",
              "\n",
              "      async function convertToInteractive(key) {\n",
              "        const element = document.querySelector('#df-86ff442f-a062-426d-8fb3-81c1e33d1417');\n",
              "        const dataTable =\n",
              "          await google.colab.kernel.invokeFunction('convertToInteractive',\n",
              "                                                    [key], {});\n",
              "        if (!dataTable) return;\n",
              "\n",
              "        const docLinkHtml = 'Like what you see? Visit the ' +\n",
              "          '<a target=\"_blank\" href=https://colab.research.google.com/notebooks/data_table.ipynb>data table notebook</a>'\n",
              "          + ' to learn more about interactive tables.';\n",
              "        element.innerHTML = '';\n",
              "        dataTable['output_type'] = 'display_data';\n",
              "        await google.colab.output.renderOutput(dataTable, element);\n",
              "        const docLink = document.createElement('div');\n",
              "        docLink.innerHTML = docLinkHtml;\n",
              "        element.appendChild(docLink);\n",
              "      }\n",
              "    </script>\n",
              "  </div>\n",
              "\n",
              "\n",
              "<div id=\"df-970d593a-db38-4294-b1c3-c1f25f925778\">\n",
              "  <button class=\"colab-df-quickchart\" onclick=\"quickchart('df-970d593a-db38-4294-b1c3-c1f25f925778')\"\n",
              "            title=\"Suggest charts\"\n",
              "            style=\"display:none;\">\n",
              "\n",
              "<svg xmlns=\"http://www.w3.org/2000/svg\" height=\"24px\"viewBox=\"0 0 24 24\"\n",
              "     width=\"24px\">\n",
              "    <g>\n",
              "        <path d=\"M19 3H5c-1.1 0-2 .9-2 2v14c0 1.1.9 2 2 2h14c1.1 0 2-.9 2-2V5c0-1.1-.9-2-2-2zM9 17H7v-7h2v7zm4 0h-2V7h2v10zm4 0h-2v-4h2v4z\"/>\n",
              "    </g>\n",
              "</svg>\n",
              "  </button>\n",
              "\n",
              "<style>\n",
              "  .colab-df-quickchart {\n",
              "      --bg-color: #E8F0FE;\n",
              "      --fill-color: #1967D2;\n",
              "      --hover-bg-color: #E2EBFA;\n",
              "      --hover-fill-color: #174EA6;\n",
              "      --disabled-fill-color: #AAA;\n",
              "      --disabled-bg-color: #DDD;\n",
              "  }\n",
              "\n",
              "  [theme=dark] .colab-df-quickchart {\n",
              "      --bg-color: #3B4455;\n",
              "      --fill-color: #D2E3FC;\n",
              "      --hover-bg-color: #434B5C;\n",
              "      --hover-fill-color: #FFFFFF;\n",
              "      --disabled-bg-color: #3B4455;\n",
              "      --disabled-fill-color: #666;\n",
              "  }\n",
              "\n",
              "  .colab-df-quickchart {\n",
              "    background-color: var(--bg-color);\n",
              "    border: none;\n",
              "    border-radius: 50%;\n",
              "    cursor: pointer;\n",
              "    display: none;\n",
              "    fill: var(--fill-color);\n",
              "    height: 32px;\n",
              "    padding: 0;\n",
              "    width: 32px;\n",
              "  }\n",
              "\n",
              "  .colab-df-quickchart:hover {\n",
              "    background-color: var(--hover-bg-color);\n",
              "    box-shadow: 0 1px 2px rgba(60, 64, 67, 0.3), 0 1px 3px 1px rgba(60, 64, 67, 0.15);\n",
              "    fill: var(--button-hover-fill-color);\n",
              "  }\n",
              "\n",
              "  .colab-df-quickchart-complete:disabled,\n",
              "  .colab-df-quickchart-complete:disabled:hover {\n",
              "    background-color: var(--disabled-bg-color);\n",
              "    fill: var(--disabled-fill-color);\n",
              "    box-shadow: none;\n",
              "  }\n",
              "\n",
              "  .colab-df-spinner {\n",
              "    border: 2px solid var(--fill-color);\n",
              "    border-color: transparent;\n",
              "    border-bottom-color: var(--fill-color);\n",
              "    animation:\n",
              "      spin 1s steps(1) infinite;\n",
              "  }\n",
              "\n",
              "  @keyframes spin {\n",
              "    0% {\n",
              "      border-color: transparent;\n",
              "      border-bottom-color: var(--fill-color);\n",
              "      border-left-color: var(--fill-color);\n",
              "    }\n",
              "    20% {\n",
              "      border-color: transparent;\n",
              "      border-left-color: var(--fill-color);\n",
              "      border-top-color: var(--fill-color);\n",
              "    }\n",
              "    30% {\n",
              "      border-color: transparent;\n",
              "      border-left-color: var(--fill-color);\n",
              "      border-top-color: var(--fill-color);\n",
              "      border-right-color: var(--fill-color);\n",
              "    }\n",
              "    40% {\n",
              "      border-color: transparent;\n",
              "      border-right-color: var(--fill-color);\n",
              "      border-top-color: var(--fill-color);\n",
              "    }\n",
              "    60% {\n",
              "      border-color: transparent;\n",
              "      border-right-color: var(--fill-color);\n",
              "    }\n",
              "    80% {\n",
              "      border-color: transparent;\n",
              "      border-right-color: var(--fill-color);\n",
              "      border-bottom-color: var(--fill-color);\n",
              "    }\n",
              "    90% {\n",
              "      border-color: transparent;\n",
              "      border-bottom-color: var(--fill-color);\n",
              "    }\n",
              "  }\n",
              "</style>\n",
              "\n",
              "  <script>\n",
              "    async function quickchart(key) {\n",
              "      const quickchartButtonEl =\n",
              "        document.querySelector('#' + key + ' button');\n",
              "      quickchartButtonEl.disabled = true;  // To prevent multiple clicks.\n",
              "      quickchartButtonEl.classList.add('colab-df-spinner');\n",
              "      try {\n",
              "        const charts = await google.colab.kernel.invokeFunction(\n",
              "            'suggestCharts', [key], {});\n",
              "      } catch (error) {\n",
              "        console.error('Error during call to suggestCharts:', error);\n",
              "      }\n",
              "      quickchartButtonEl.classList.remove('colab-df-spinner');\n",
              "      quickchartButtonEl.classList.add('colab-df-quickchart-complete');\n",
              "    }\n",
              "    (() => {\n",
              "      let quickchartButtonEl =\n",
              "        document.querySelector('#df-970d593a-db38-4294-b1c3-c1f25f925778 button');\n",
              "      quickchartButtonEl.style.display =\n",
              "        google.colab.kernel.accessAllowed ? 'block' : 'none';\n",
              "    })();\n",
              "  </script>\n",
              "</div>\n",
              "\n",
              "    </div>\n",
              "  </div>\n"
            ],
            "application/vnd.google.colaboratory.intrinsic+json": {
              "type": "dataframe",
              "summary": "{\n  \"name\": \"possum\",\n  \"rows\": 5,\n  \"fields\": [\n    {\n      \"column\": \"sex\",\n      \"properties\": {\n        \"dtype\": \"category\",\n        \"num_unique_values\": 2,\n        \"samples\": [\n          \"f\",\n          \"m\"\n        ],\n        \"semantic_type\": \"\",\n        \"description\": \"\"\n      }\n    },\n    {\n      \"column\": \"age\",\n      \"properties\": {\n        \"dtype\": \"number\",\n        \"std\": 0,\n        \"min\": 2,\n        \"max\": 3,\n        \"num_unique_values\": 2,\n        \"samples\": [\n          2,\n          3\n        ],\n        \"semantic_type\": \"\",\n        \"description\": \"\"\n      }\n    },\n    {\n      \"column\": \"headL\",\n      \"properties\": {\n        \"dtype\": \"number\",\n        \"std\": 3.053686296920498,\n        \"min\": 85.1,\n        \"max\": 91.4,\n        \"num_unique_values\": 5,\n        \"samples\": [\n          90.0,\n          91.4\n        ],\n        \"semantic_type\": \"\",\n        \"description\": \"\"\n      }\n    },\n    {\n      \"column\": \"skullW\",\n      \"properties\": {\n        \"dtype\": \"number\",\n        \"std\": 1.7239489551607956,\n        \"min\": 51.5,\n        \"max\": 55.9,\n        \"num_unique_values\": 5,\n        \"samples\": [\n          55.5,\n          54.4\n        ],\n        \"semantic_type\": \"\",\n        \"description\": \"\"\n      }\n    },\n    {\n      \"column\": \"totalL\",\n      \"properties\": {\n        \"dtype\": \"number\",\n        \"std\": 3.2710854467592254,\n        \"min\": 76.0,\n        \"max\": 84.0,\n        \"num_unique_values\": 4,\n        \"samples\": [\n          81.0,\n          84.0\n        ],\n        \"semantic_type\": \"\",\n        \"description\": \"\"\n      }\n    },\n    {\n      \"column\": \"tailL\",\n      \"properties\": {\n        \"dtype\": \"number\",\n        \"std\": 1.6431676725154982,\n        \"min\": 32.0,\n        \"max\": 35.5,\n        \"num_unique_values\": 4,\n        \"samples\": [\n          35.5,\n          35.0\n        ],\n        \"semantic_type\": \"\",\n        \"description\": \"\"\n      }\n    }\n  ]\n}"
            }
          },
          "metadata": {},
          "execution_count": 19
        }
      ],
      "source": [
        "# Original data\n",
        "possum.tail()"
      ]
    },
    {
      "cell_type": "markdown",
      "id": "9b5727bd",
      "metadata": {
        "id": "9b5727bd"
      },
      "source": [
        "#### Create a copy of our original dataset\n",
        "\n",
        "**pd.DataFrame.copy:** https://pandas.pydata.org/docs/reference/api/pandas.DataFrame.copy.html"
      ]
    },
    {
      "cell_type": "markdown",
      "id": "680a8bd9",
      "metadata": {
        "id": "680a8bd9"
      },
      "source": [
        "Some convention in syntax:\n",
        "- We use `.` to call the functions that are related to an Python object.\n",
        "- e.g. `possum.head()`, `possum.tail()`\n",
        "- Therefore, we should not include `.` in a name to define a Python object.\n",
        "- Instead, we can use some syntax like \"_\".\n",
        "- e.g. `possum_modified` means a modfied version of the data frame `possum`. This is simply a candidate way, but not the only way. You can also use other ways such as `possumModfied`. It is good habit to keep a consistent nameing rule of Python objects."
      ]
    },
    {
      "cell_type": "code",
      "execution_count": null,
      "id": "5d0fb313",
      "metadata": {
        "id": "5d0fb313"
      },
      "outputs": [],
      "source": [
        "possum_modified = possum.copy()"
      ]
    },
    {
      "cell_type": "markdown",
      "id": "b8105e42",
      "metadata": {
        "id": "b8105e42"
      },
      "source": [
        "#### Add a new observation (outlier) to our DataFrame"
      ]
    },
    {
      "cell_type": "code",
      "execution_count": null,
      "id": "bc239f0a",
      "metadata": {
        "id": "bc239f0a"
      },
      "outputs": [],
      "source": [
        "possum_modified.loc[46, 'age'] = 9\n",
        "possum_modified.loc[46, 'headL'] = 86"
      ]
    },
    {
      "cell_type": "code",
      "execution_count": null,
      "id": "d130547f",
      "metadata": {
        "id": "d130547f",
        "colab": {
          "base_uri": "https://localhost:8080/",
          "height": 206
        },
        "outputId": "d1316117-f4de-495e-d5ec-010a2d7cc580"
      },
      "outputs": [
        {
          "output_type": "execute_result",
          "data": {
            "text/plain": [
              "    sex  age  headL  skullW  totalL  tailL\n",
              "42    f  2.0   90.0    55.5    81.0   32.0\n",
              "43    m  3.0   85.1    51.5    76.0   35.5\n",
              "44    m  3.0   90.7    55.9    81.0   34.0\n",
              "45    m  2.0   91.4    54.4    84.0   35.0\n",
              "46  NaN  9.0   86.0     NaN     NaN    NaN"
            ],
            "text/html": [
              "\n",
              "  <div id=\"df-67f5da87-6dd0-4a09-9c84-0f5a6fbda195\" class=\"colab-df-container\">\n",
              "    <div>\n",
              "<style scoped>\n",
              "    .dataframe tbody tr th:only-of-type {\n",
              "        vertical-align: middle;\n",
              "    }\n",
              "\n",
              "    .dataframe tbody tr th {\n",
              "        vertical-align: top;\n",
              "    }\n",
              "\n",
              "    .dataframe thead th {\n",
              "        text-align: right;\n",
              "    }\n",
              "</style>\n",
              "<table border=\"1\" class=\"dataframe\">\n",
              "  <thead>\n",
              "    <tr style=\"text-align: right;\">\n",
              "      <th></th>\n",
              "      <th>sex</th>\n",
              "      <th>age</th>\n",
              "      <th>headL</th>\n",
              "      <th>skullW</th>\n",
              "      <th>totalL</th>\n",
              "      <th>tailL</th>\n",
              "    </tr>\n",
              "  </thead>\n",
              "  <tbody>\n",
              "    <tr>\n",
              "      <th>42</th>\n",
              "      <td>f</td>\n",
              "      <td>2.0</td>\n",
              "      <td>90.0</td>\n",
              "      <td>55.5</td>\n",
              "      <td>81.0</td>\n",
              "      <td>32.0</td>\n",
              "    </tr>\n",
              "    <tr>\n",
              "      <th>43</th>\n",
              "      <td>m</td>\n",
              "      <td>3.0</td>\n",
              "      <td>85.1</td>\n",
              "      <td>51.5</td>\n",
              "      <td>76.0</td>\n",
              "      <td>35.5</td>\n",
              "    </tr>\n",
              "    <tr>\n",
              "      <th>44</th>\n",
              "      <td>m</td>\n",
              "      <td>3.0</td>\n",
              "      <td>90.7</td>\n",
              "      <td>55.9</td>\n",
              "      <td>81.0</td>\n",
              "      <td>34.0</td>\n",
              "    </tr>\n",
              "    <tr>\n",
              "      <th>45</th>\n",
              "      <td>m</td>\n",
              "      <td>2.0</td>\n",
              "      <td>91.4</td>\n",
              "      <td>54.4</td>\n",
              "      <td>84.0</td>\n",
              "      <td>35.0</td>\n",
              "    </tr>\n",
              "    <tr>\n",
              "      <th>46</th>\n",
              "      <td>NaN</td>\n",
              "      <td>9.0</td>\n",
              "      <td>86.0</td>\n",
              "      <td>NaN</td>\n",
              "      <td>NaN</td>\n",
              "      <td>NaN</td>\n",
              "    </tr>\n",
              "  </tbody>\n",
              "</table>\n",
              "</div>\n",
              "    <div class=\"colab-df-buttons\">\n",
              "\n",
              "  <div class=\"colab-df-container\">\n",
              "    <button class=\"colab-df-convert\" onclick=\"convertToInteractive('df-67f5da87-6dd0-4a09-9c84-0f5a6fbda195')\"\n",
              "            title=\"Convert this dataframe to an interactive table.\"\n",
              "            style=\"display:none;\">\n",
              "\n",
              "  <svg xmlns=\"http://www.w3.org/2000/svg\" height=\"24px\" viewBox=\"0 -960 960 960\">\n",
              "    <path d=\"M120-120v-720h720v720H120Zm60-500h600v-160H180v160Zm220 220h160v-160H400v160Zm0 220h160v-160H400v160ZM180-400h160v-160H180v160Zm440 0h160v-160H620v160ZM180-180h160v-160H180v160Zm440 0h160v-160H620v160Z\"/>\n",
              "  </svg>\n",
              "    </button>\n",
              "\n",
              "  <style>\n",
              "    .colab-df-container {\n",
              "      display:flex;\n",
              "      gap: 12px;\n",
              "    }\n",
              "\n",
              "    .colab-df-convert {\n",
              "      background-color: #E8F0FE;\n",
              "      border: none;\n",
              "      border-radius: 50%;\n",
              "      cursor: pointer;\n",
              "      display: none;\n",
              "      fill: #1967D2;\n",
              "      height: 32px;\n",
              "      padding: 0 0 0 0;\n",
              "      width: 32px;\n",
              "    }\n",
              "\n",
              "    .colab-df-convert:hover {\n",
              "      background-color: #E2EBFA;\n",
              "      box-shadow: 0px 1px 2px rgba(60, 64, 67, 0.3), 0px 1px 3px 1px rgba(60, 64, 67, 0.15);\n",
              "      fill: #174EA6;\n",
              "    }\n",
              "\n",
              "    .colab-df-buttons div {\n",
              "      margin-bottom: 4px;\n",
              "    }\n",
              "\n",
              "    [theme=dark] .colab-df-convert {\n",
              "      background-color: #3B4455;\n",
              "      fill: #D2E3FC;\n",
              "    }\n",
              "\n",
              "    [theme=dark] .colab-df-convert:hover {\n",
              "      background-color: #434B5C;\n",
              "      box-shadow: 0px 1px 3px 1px rgba(0, 0, 0, 0.15);\n",
              "      filter: drop-shadow(0px 1px 2px rgba(0, 0, 0, 0.3));\n",
              "      fill: #FFFFFF;\n",
              "    }\n",
              "  </style>\n",
              "\n",
              "    <script>\n",
              "      const buttonEl =\n",
              "        document.querySelector('#df-67f5da87-6dd0-4a09-9c84-0f5a6fbda195 button.colab-df-convert');\n",
              "      buttonEl.style.display =\n",
              "        google.colab.kernel.accessAllowed ? 'block' : 'none';\n",
              "\n",
              "      async function convertToInteractive(key) {\n",
              "        const element = document.querySelector('#df-67f5da87-6dd0-4a09-9c84-0f5a6fbda195');\n",
              "        const dataTable =\n",
              "          await google.colab.kernel.invokeFunction('convertToInteractive',\n",
              "                                                    [key], {});\n",
              "        if (!dataTable) return;\n",
              "\n",
              "        const docLinkHtml = 'Like what you see? Visit the ' +\n",
              "          '<a target=\"_blank\" href=https://colab.research.google.com/notebooks/data_table.ipynb>data table notebook</a>'\n",
              "          + ' to learn more about interactive tables.';\n",
              "        element.innerHTML = '';\n",
              "        dataTable['output_type'] = 'display_data';\n",
              "        await google.colab.output.renderOutput(dataTable, element);\n",
              "        const docLink = document.createElement('div');\n",
              "        docLink.innerHTML = docLinkHtml;\n",
              "        element.appendChild(docLink);\n",
              "      }\n",
              "    </script>\n",
              "  </div>\n",
              "\n",
              "\n",
              "<div id=\"df-c7aafd17-b080-4658-85b5-9c4647ded807\">\n",
              "  <button class=\"colab-df-quickchart\" onclick=\"quickchart('df-c7aafd17-b080-4658-85b5-9c4647ded807')\"\n",
              "            title=\"Suggest charts\"\n",
              "            style=\"display:none;\">\n",
              "\n",
              "<svg xmlns=\"http://www.w3.org/2000/svg\" height=\"24px\"viewBox=\"0 0 24 24\"\n",
              "     width=\"24px\">\n",
              "    <g>\n",
              "        <path d=\"M19 3H5c-1.1 0-2 .9-2 2v14c0 1.1.9 2 2 2h14c1.1 0 2-.9 2-2V5c0-1.1-.9-2-2-2zM9 17H7v-7h2v7zm4 0h-2V7h2v10zm4 0h-2v-4h2v4z\"/>\n",
              "    </g>\n",
              "</svg>\n",
              "  </button>\n",
              "\n",
              "<style>\n",
              "  .colab-df-quickchart {\n",
              "      --bg-color: #E8F0FE;\n",
              "      --fill-color: #1967D2;\n",
              "      --hover-bg-color: #E2EBFA;\n",
              "      --hover-fill-color: #174EA6;\n",
              "      --disabled-fill-color: #AAA;\n",
              "      --disabled-bg-color: #DDD;\n",
              "  }\n",
              "\n",
              "  [theme=dark] .colab-df-quickchart {\n",
              "      --bg-color: #3B4455;\n",
              "      --fill-color: #D2E3FC;\n",
              "      --hover-bg-color: #434B5C;\n",
              "      --hover-fill-color: #FFFFFF;\n",
              "      --disabled-bg-color: #3B4455;\n",
              "      --disabled-fill-color: #666;\n",
              "  }\n",
              "\n",
              "  .colab-df-quickchart {\n",
              "    background-color: var(--bg-color);\n",
              "    border: none;\n",
              "    border-radius: 50%;\n",
              "    cursor: pointer;\n",
              "    display: none;\n",
              "    fill: var(--fill-color);\n",
              "    height: 32px;\n",
              "    padding: 0;\n",
              "    width: 32px;\n",
              "  }\n",
              "\n",
              "  .colab-df-quickchart:hover {\n",
              "    background-color: var(--hover-bg-color);\n",
              "    box-shadow: 0 1px 2px rgba(60, 64, 67, 0.3), 0 1px 3px 1px rgba(60, 64, 67, 0.15);\n",
              "    fill: var(--button-hover-fill-color);\n",
              "  }\n",
              "\n",
              "  .colab-df-quickchart-complete:disabled,\n",
              "  .colab-df-quickchart-complete:disabled:hover {\n",
              "    background-color: var(--disabled-bg-color);\n",
              "    fill: var(--disabled-fill-color);\n",
              "    box-shadow: none;\n",
              "  }\n",
              "\n",
              "  .colab-df-spinner {\n",
              "    border: 2px solid var(--fill-color);\n",
              "    border-color: transparent;\n",
              "    border-bottom-color: var(--fill-color);\n",
              "    animation:\n",
              "      spin 1s steps(1) infinite;\n",
              "  }\n",
              "\n",
              "  @keyframes spin {\n",
              "    0% {\n",
              "      border-color: transparent;\n",
              "      border-bottom-color: var(--fill-color);\n",
              "      border-left-color: var(--fill-color);\n",
              "    }\n",
              "    20% {\n",
              "      border-color: transparent;\n",
              "      border-left-color: var(--fill-color);\n",
              "      border-top-color: var(--fill-color);\n",
              "    }\n",
              "    30% {\n",
              "      border-color: transparent;\n",
              "      border-left-color: var(--fill-color);\n",
              "      border-top-color: var(--fill-color);\n",
              "      border-right-color: var(--fill-color);\n",
              "    }\n",
              "    40% {\n",
              "      border-color: transparent;\n",
              "      border-right-color: var(--fill-color);\n",
              "      border-top-color: var(--fill-color);\n",
              "    }\n",
              "    60% {\n",
              "      border-color: transparent;\n",
              "      border-right-color: var(--fill-color);\n",
              "    }\n",
              "    80% {\n",
              "      border-color: transparent;\n",
              "      border-right-color: var(--fill-color);\n",
              "      border-bottom-color: var(--fill-color);\n",
              "    }\n",
              "    90% {\n",
              "      border-color: transparent;\n",
              "      border-bottom-color: var(--fill-color);\n",
              "    }\n",
              "  }\n",
              "</style>\n",
              "\n",
              "  <script>\n",
              "    async function quickchart(key) {\n",
              "      const quickchartButtonEl =\n",
              "        document.querySelector('#' + key + ' button');\n",
              "      quickchartButtonEl.disabled = true;  // To prevent multiple clicks.\n",
              "      quickchartButtonEl.classList.add('colab-df-spinner');\n",
              "      try {\n",
              "        const charts = await google.colab.kernel.invokeFunction(\n",
              "            'suggestCharts', [key], {});\n",
              "      } catch (error) {\n",
              "        console.error('Error during call to suggestCharts:', error);\n",
              "      }\n",
              "      quickchartButtonEl.classList.remove('colab-df-spinner');\n",
              "      quickchartButtonEl.classList.add('colab-df-quickchart-complete');\n",
              "    }\n",
              "    (() => {\n",
              "      let quickchartButtonEl =\n",
              "        document.querySelector('#df-c7aafd17-b080-4658-85b5-9c4647ded807 button');\n",
              "      quickchartButtonEl.style.display =\n",
              "        google.colab.kernel.accessAllowed ? 'block' : 'none';\n",
              "    })();\n",
              "  </script>\n",
              "</div>\n",
              "\n",
              "    </div>\n",
              "  </div>\n"
            ],
            "application/vnd.google.colaboratory.intrinsic+json": {
              "type": "dataframe",
              "summary": "{\n  \"name\": \"possum_modified\",\n  \"rows\": 5,\n  \"fields\": [\n    {\n      \"column\": \"sex\",\n      \"properties\": {\n        \"dtype\": \"category\",\n        \"num_unique_values\": 2,\n        \"samples\": [\n          \"m\",\n          \"f\"\n        ],\n        \"semantic_type\": \"\",\n        \"description\": \"\"\n      }\n    },\n    {\n      \"column\": \"age\",\n      \"properties\": {\n        \"dtype\": \"number\",\n        \"std\": 2.949576240750525,\n        \"min\": 2.0,\n        \"max\": 9.0,\n        \"num_unique_values\": 3,\n        \"samples\": [\n          2.0,\n          3.0\n        ],\n        \"semantic_type\": \"\",\n        \"description\": \"\"\n      }\n    },\n    {\n      \"column\": \"headL\",\n      \"properties\": {\n        \"dtype\": \"number\",\n        \"std\": 2.881492668739593,\n        \"min\": 85.1,\n        \"max\": 91.4,\n        \"num_unique_values\": 5,\n        \"samples\": [\n          85.1,\n          86.0\n        ],\n        \"semantic_type\": \"\",\n        \"description\": \"\"\n      }\n    },\n    {\n      \"column\": \"skullW\",\n      \"properties\": {\n        \"dtype\": \"number\",\n        \"std\": 1.9872510326243802,\n        \"min\": 51.5,\n        \"max\": 55.9,\n        \"num_unique_values\": 4,\n        \"samples\": [\n          51.5,\n          54.4\n        ],\n        \"semantic_type\": \"\",\n        \"description\": \"\"\n      }\n    },\n    {\n      \"column\": \"totalL\",\n      \"properties\": {\n        \"dtype\": \"number\",\n        \"std\": 3.3166247903554,\n        \"min\": 76.0,\n        \"max\": 84.0,\n        \"num_unique_values\": 3,\n        \"samples\": [\n          81.0,\n          76.0\n        ],\n        \"semantic_type\": \"\",\n        \"description\": \"\"\n      }\n    },\n    {\n      \"column\": \"tailL\",\n      \"properties\": {\n        \"dtype\": \"number\",\n        \"std\": 1.547847968417226,\n        \"min\": 32.0,\n        \"max\": 35.5,\n        \"num_unique_values\": 4,\n        \"samples\": [\n          35.5,\n          35.0\n        ],\n        \"semantic_type\": \"\",\n        \"description\": \"\"\n      }\n    }\n  ]\n}"
            }
          },
          "metadata": {},
          "execution_count": 22
        }
      ],
      "source": [
        "# Now let's look at the last 5 rows of the modified dataframe!\n",
        "possum_modified.tail()"
      ]
    },
    {
      "cell_type": "code",
      "execution_count": null,
      "id": "c64b1479",
      "metadata": {
        "id": "c64b1479",
        "colab": {
          "base_uri": "https://localhost:8080/",
          "height": 449
        },
        "outputId": "0c496ad9-32c1-4aed-f14f-b60033904aed"
      },
      "outputs": [
        {
          "output_type": "display_data",
          "data": {
            "text/plain": [
              "<Figure size 640x480 with 1 Axes>"
            ],
            "image/png": "[encoded data removed]"
          },
          "metadata": {}
        }
      ],
      "source": [
        "# The new point that is added to the dataframe is identified\n",
        "# in red in the scatterplot below.\n",
        "plt.scatter(possum_modified.loc[0:45, 'age'],\n",
        "            possum_modified.loc[0:45, 'headL'], color = 'blue')\n",
        "plt.scatter(possum_modified.loc[46, 'age'],\n",
        "            possum_modified.loc[46, 'headL'], color = 'red')\n",
        "plt.xlabel(\"age\")\n",
        "plt.ylabel(\"headL\")\n",
        "plt.show()"
      ]
    },
    {
      "cell_type": "markdown",
      "id": "d3f8af2a",
      "metadata": {
        "id": "d3f8af2a"
      },
      "source": [
        "#### Building a new model using the modified dataframe"
      ]
    },
    {
      "cell_type": "code",
      "execution_count": null,
      "id": "9fc6020c",
      "metadata": {
        "id": "9fc6020c"
      },
      "outputs": [],
      "source": [
        "model_modified = stats.linregress(x = possum_modified['age'],\n",
        "                                  y = possum_modified['headL'])"
      ]
    },
    {
      "cell_type": "code",
      "execution_count": null,
      "id": "bad6fb84",
      "metadata": {
        "id": "bad6fb84",
        "colab": {
          "base_uri": "https://localhost:8080/"
        },
        "outputId": "91f70b0e-da40-43cb-ddc6-64a121fba5a9"
      },
      "outputs": [
        {
          "output_type": "execute_result",
          "data": {
            "text/plain": [
              "90.71952206590865"
            ]
          },
          "metadata": {},
          "execution_count": 27
        }
      ],
      "source": [
        "# Finding the intercept of the regression line\n",
        "model_modified.intercept"
      ]
    },
    {
      "cell_type": "code",
      "execution_count": null,
      "id": "e66bcd6c",
      "metadata": {
        "id": "e66bcd6c",
        "colab": {
          "base_uri": "https://localhost:8080/"
        },
        "outputId": "66d12596-a826-4eb1-ebe7-87aa74d07570"
      },
      "outputs": [
        {
          "output_type": "execute_result",
          "data": {
            "text/plain": [
              "0.3585469261900172"
            ]
          },
          "metadata": {},
          "execution_count": 28
        }
      ],
      "source": [
        "# Finding the slope of the regression line\n",
        "model_modified.slope"
      ]
    },
    {
      "cell_type": "code",
      "execution_count": null,
      "id": "f85ebd30",
      "metadata": {
        "id": "f85ebd30",
        "colab": {
          "base_uri": "https://localhost:8080/"
        },
        "outputId": "bda151c3-be60-44d5-aa86-946ce1e2661c"
      },
      "outputs": [
        {
          "output_type": "execute_result",
          "data": {
            "text/plain": [
              "0.2584020565559145"
            ]
          },
          "metadata": {},
          "execution_count": 29
        }
      ],
      "source": [
        "# Finding the correlation coefficient (r)\n",
        "model_modified.rvalue"
      ]
    },
    {
      "cell_type": "code",
      "execution_count": null,
      "id": "837e97ab",
      "metadata": {
        "id": "837e97ab"
      },
      "outputs": [],
      "source": [
        "# Calculating the R-squared\n",
        "model_modified.rvalue ** 2"
      ]
    },
    {
      "cell_type": "code",
      "execution_count": null,
      "id": "c5ad6a51",
      "metadata": {
        "id": "c5ad6a51",
        "colab": {
          "base_uri": "https://localhost:8080/",
          "height": 507
        },
        "outputId": "be800553-6c0a-40cb-d83a-ebb13f207490"
      },
      "outputs": [
        {
          "output_type": "display_data",
          "data": {
            "text/plain": [
              "<Figure size 500x500 with 1 Axes>"
            ],
            "image/png": "[encoded data removed]"
          },
          "metadata": {}
        }
      ],
      "source": [
        "# Plotting the fitted line for the modified data\n",
        "sns.lmplot(x = \"age\", y = \"headL\", data = possum_modified,\n",
        "           ci = None)\n",
        "plt.xlim(0,10)\n",
        "plt.show()"
      ]
    },
    {
      "cell_type": "code",
      "execution_count": null,
      "id": "277e5d97",
      "metadata": {
        "id": "277e5d97"
      },
      "outputs": [],
      "source": [
        "# Previous fitted using original data\n",
        "sns.lmplot(x = \"age\", y = \"headL\", data = possum,\n",
        "           ci = None)\n",
        "plt.xlim(0,10)\n",
        "plt.show()"
      ]
    },
    {
      "cell_type": "markdown",
      "id": "e82b9975",
      "metadata": {
        "id": "e82b9975"
      },
      "source": [
        "**Can you see the difference between these two fitted lines?**"
      ]
    },
    {
      "cell_type": "markdown",
      "id": "5656f37f",
      "metadata": {
        "id": "5656f37f"
      },
      "source": [
        "#### Residual plot\n",
        "\n",
        "**sns.residplot:** https://seaborn.pydata.org/generated/seaborn.residplot.html"
      ]
    },
    {
      "cell_type": "code",
      "execution_count": null,
      "id": "725e2ad5",
      "metadata": {
        "id": "725e2ad5",
        "colab": {
          "base_uri": "https://localhost:8080/",
          "height": 449
        },
        "outputId": "f5b76c4a-4177-461b-dc3f-744a0ccb453c"
      },
      "outputs": [
        {
          "output_type": "display_data",
          "data": {
            "text/plain": [
              "<Figure size 640x480 with 1 Axes>"
            ],
            "image/png": "[encoded data removed]"
          },
          "metadata": {}
        }
      ],
      "source": [
        "#draw the residual plot\n",
        "sns.residplot(x = \"age\", y = \"headL\", data = possum_modified)\n",
        "plt.show()"
      ]
    },
    {
      "cell_type": "markdown",
      "id": "59c5b808",
      "metadata": {
        "id": "59c5b808"
      },
      "source": [
        "**Can you find the influential point from this residual plot?**"
      ]
    },
    {
      "cell_type": "markdown",
      "id": "08dba41c",
      "metadata": {
        "id": "08dba41c"
      },
      "source": [
        "**Practice: Identifying by the scatterplot if a point is influencial**\n",
        "\n",
        "In the previous example we added a point that was considerably outside the cloud of points in the original data ans we observed that this new point was influential (as expected) when we computed the new regression line. Now, let's create another dataset from the original data, that is not an influential point.\n",
        "\n",
        "Step 1: Create another modified dataset by running the code `possum_modified2 = possum.copy()`\n",
        "Step 2: Add a point with `age = 9 and headL = 94` use the same code in the previous example.\n",
        "Step 3: Plot the scatterplot using the data `possum_modified2`\n",
        "Step 4: What can you say about the new point by looking at the scatterplot. Is it an influential point? Why or why not?"
      ]
    },
    {
      "cell_type": "code",
      "execution_count": null,
      "id": "b969f823",
      "metadata": {
        "id": "b969f823",
        "colab": {
          "base_uri": "https://localhost:8080/",
          "height": 449
        },
        "outputId": "5c257cbd-acfe-446b-88ed-36d2d2887711"
      },
      "outputs": [
        {
          "output_type": "display_data",
          "data": {
            "text/plain": [
              "<Figure size 640x480 with 1 Axes>"
            ],
            "image/png": "[encoded data removed]"
          },
          "metadata": {}
        }
      ],
      "source": [
        "# your code here\n",
        "possum_modified2 = possum.copy()\n",
        "possum_modified2.loc[46, 'age'] = 9\n",
        "possum_modified2.loc[46, 'headL'] = 94\n",
        "# plot the scatterplot using possum_modified2\n",
        "plt.scatter(possum_modified2.loc[0:45, 'age'],\n",
        "            possum_modified2.loc[0:45, 'headL'])\n",
        "plt.scatter(possum_modified2.loc[46, 'age'],\n",
        "            possum_modified2.loc[46, 'headL'], color = 'red')\n",
        "plt.xlabel(\"age\")\n",
        "plt.ylabel(\"headL\")\n",
        "plt.show()\n"
      ]
    }
  ],
  "metadata": {
    "kernelspec": {
      "display_name": "Python 3 (ipykernel)",
      "language": "python",
      "name": "python3"
    },
    "language_info": {
      "codemirror_mode": {
        "name": "ipython",
        "version": 3
      },
      "file_extension": ".py",
      "mimetype": "text/x-python",
      "name": "python",
      "nbconvert_exporter": "python",
      "pygments_lexer": "ipython3",
      "version": "3.9.12"
    },
    "colab": {
      "provenance": [],
      "include_colab_link": true
    }
  },
  "nbformat": 4,
  "nbformat_minor": 5
}